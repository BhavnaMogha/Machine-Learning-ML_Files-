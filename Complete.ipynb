{
  "cells": [
    {
      "cell_type": "code",
      "execution_count": null,
      "id": "35102818-9702-474c-acea-e8f3d17f67e4",
      "metadata": {
        "id": "35102818-9702-474c-acea-e8f3d17f67e4"
      },
      "outputs": [],
      "source": [
        "#() parenthesis , #\" \" Quotation , # Pound slash  comment"
      ]
    },
    {
      "cell_type": "code",
      "execution_count": null,
      "id": "c415c1e1-e1b5-44f9-ba72-e084ba02f443",
      "metadata": {
        "id": "c415c1e1-e1b5-44f9-ba72-e084ba02f443"
      },
      "outputs": [],
      "source": [
        "#basics"
      ]
    },
    {
      "cell_type": "code",
      "execution_count": null,
      "id": "1b547a5f-4d81-4b3d-a8fe-fc819a6c20db",
      "metadata": {
        "id": "1b547a5f-4d81-4b3d-a8fe-fc819a6c20db",
        "outputId": "715e65e8-e3ac-424f-be3c-5dfa500a4c81"
      },
      "outputs": [
        {
          "name": "stdout",
          "output_type": "stream",
          "text": [
            "hii\n"
          ]
        }
      ],
      "source": [
        "print(\"hii\")"
      ]
    },
    {
      "cell_type": "code",
      "execution_count": null,
      "id": "804dd1de-bd14-441b-8b5f-dc052d7bd89b",
      "metadata": {
        "id": "804dd1de-bd14-441b-8b5f-dc052d7bd89b",
        "outputId": "5859eea7-2666-4c0a-f85c-b2449c0e3f95"
      },
      "outputs": [
        {
          "name": "stdout",
          "output_type": "stream",
          "text": [
            "hii\n"
          ]
        }
      ],
      "source": [
        "print('hii')\n"
      ]
    },
    {
      "cell_type": "code",
      "execution_count": null,
      "id": "ccc18fb0-f069-459d-9768-0076f017d290",
      "metadata": {
        "id": "ccc18fb0-f069-459d-9768-0076f017d290",
        "outputId": "0c832030-0fcf-4170-fcd0-28071a821a6c"
      },
      "outputs": [
        {
          "name": "stdout",
          "output_type": "stream",
          "text": [
            "hi \"hello\"\n"
          ]
        }
      ],
      "source": [
        "print('hi \"hello\"')"
      ]
    },
    {
      "cell_type": "code",
      "execution_count": null,
      "id": "6ea62595-5ca1-4ea0-95f7-2110ff44148e",
      "metadata": {
        "id": "6ea62595-5ca1-4ea0-95f7-2110ff44148e",
        "outputId": "7adb7887-12c1-46e2-f69d-f77db52837d2"
      },
      "outputs": [
        {
          "name": "stdout",
          "output_type": "stream",
          "text": [
            "'hii' heello\n"
          ]
        }
      ],
      "source": [
        "print(\"'hii' heello\")"
      ]
    },
    {
      "cell_type": "code",
      "execution_count": null,
      "id": "5a1abb83-cfad-47a1-8513-6d3ac296a1c1",
      "metadata": {
        "id": "5a1abb83-cfad-47a1-8513-6d3ac296a1c1",
        "outputId": "0b99ae07-fa5d-476b-f6f2-329225384508"
      },
      "outputs": [
        {
          "name": "stdout",
          "output_type": "stream",
          "text": [
            "hello 'name'\n"
          ]
        }
      ],
      "source": [
        "print(\"hello 'name'\")"
      ]
    },
    {
      "cell_type": "code",
      "execution_count": null,
      "id": "4d0a87d2-cab9-4a93-a701-cca79803e52d",
      "metadata": {
        "id": "4d0a87d2-cab9-4a93-a701-cca79803e52d",
        "outputId": "541fca15-880a-4170-dce8-d4ac54895b78"
      },
      "outputs": [
        {
          "name": "stdout",
          "output_type": "stream",
          "text": [
            "\"hello\" name\n"
          ]
        }
      ],
      "source": [
        "print('\"hello\" name')"
      ]
    },
    {
      "cell_type": "code",
      "execution_count": null,
      "id": "2579518d-cdbf-4d04-8436-ac87b3a37c6c",
      "metadata": {
        "id": "2579518d-cdbf-4d04-8436-ac87b3a37c6c",
        "outputId": "011c8d3c-25b0-4fa4-fa80-1d17dd3e928b"
      },
      "outputs": [
        {
          "name": "stdout",
          "output_type": "stream",
          "text": [
            "10\n",
            "x\n"
          ]
        }
      ],
      "source": [
        "x=10  #storing  10 in variable x or 10 assign to x or Variable are the containers that stores x value\n",
        "print(x)\n",
        "print('x')"
      ]
    },
    {
      "cell_type": "code",
      "execution_count": null,
      "id": "0fe3b910-8aae-40c2-bf59-14012f750944",
      "metadata": {
        "id": "0fe3b910-8aae-40c2-bf59-14012f750944"
      },
      "outputs": [],
      "source": [
        "#Rules for making the variable"
      ]
    },
    {
      "cell_type": "code",
      "execution_count": null,
      "id": "27ac6a1d-f097-4f24-a856-7bef9dee7b2e",
      "metadata": {
        "id": "27ac6a1d-f097-4f24-a856-7bef9dee7b2e",
        "outputId": "38d64a36-b2af-4389-c34a-dedb5f576d27"
      },
      "outputs": [
        {
          "name": "stdout",
          "output_type": "stream",
          "text": [
            "45\n"
          ]
        }
      ],
      "source": [
        "# variable name can be alphabetically\n",
        "xyz = 45\n",
        "print(xyz)"
      ]
    },
    {
      "cell_type": "code",
      "execution_count": null,
      "id": "b73fada2-050f-40fa-b76d-3a2cb09f6d0f",
      "metadata": {
        "id": "b73fada2-050f-40fa-b76d-3a2cb09f6d0f",
        "outputId": "bf265f13-452c-45a8-9a80-0c9809f5be86"
      },
      "outputs": [
        {
          "name": "stdout",
          "output_type": "stream",
          "text": [
            "5\n"
          ]
        }
      ],
      "source": [
        "# variable name can be in lower or upper case\n",
        "aBcDE=5\n",
        "print(aBcDE)"
      ]
    },
    {
      "cell_type": "code",
      "execution_count": null,
      "id": "e479c1a2-448b-408f-be22-c3bcfe532851",
      "metadata": {
        "id": "e479c1a2-448b-408f-be22-c3bcfe532851",
        "outputId": "79783a2e-9c82-4fdf-99d3-3fb2ca5a1753"
      },
      "outputs": [
        {
          "name": "stdout",
          "output_type": "stream",
          "text": [
            "9\n"
          ]
        }
      ],
      "source": [
        "# variable name can be alpha numeric\n",
        "abcd123 = 9\n",
        "print(abcd123)"
      ]
    },
    {
      "cell_type": "code",
      "execution_count": null,
      "id": "960c1abd-3d57-41bf-b870-7a9717c4dc67",
      "metadata": {
        "id": "960c1abd-3d57-41bf-b870-7a9717c4dc67",
        "outputId": "a914b440-6751-4006-b6ef-e0c5e53498db"
      },
      "outputs": [
        {
          "ename": "SyntaxError",
          "evalue": "invalid decimal literal (3211108164.py, line 2)",
          "output_type": "error",
          "traceback": [
            "\u001b[1;36m  Cell \u001b[1;32mIn[6], line 2\u001b[1;36m\u001b[0m\n\u001b[1;33m    123xyz= 100\u001b[0m\n\u001b[1;37m      ^\u001b[0m\n\u001b[1;31mSyntaxError\u001b[0m\u001b[1;31m:\u001b[0m invalid decimal literal\n"
          ]
        }
      ],
      "source": [
        "# variable name cant start with the numbers\n",
        "123xyz= 100\n",
        "print(123xyz)"
      ]
    },
    {
      "cell_type": "code",
      "execution_count": null,
      "id": "43700a74-650a-493d-aa95-41d21dc266b2",
      "metadata": {
        "id": "43700a74-650a-493d-aa95-41d21dc266b2",
        "outputId": "9f3113ee-76dd-4933-ec3c-6bb2262d22a7"
      },
      "outputs": [
        {
          "ename": "SyntaxError",
          "evalue": "cannot assign to expression here. Maybe you meant '==' instead of '='? (1686564891.py, line 2)",
          "output_type": "error",
          "traceback": [
            "\u001b[1;36m  Cell \u001b[1;32mIn[7], line 2\u001b[1;36m\u001b[0m\n\u001b[1;33m    ab@cd=45\u001b[0m\n\u001b[1;37m    ^\u001b[0m\n\u001b[1;31mSyntaxError\u001b[0m\u001b[1;31m:\u001b[0m cannot assign to expression here. Maybe you meant '==' instead of '='?\n"
          ]
        }
      ],
      "source": [
        "# variable name cant contain the special characters\n",
        "ab@cd=45 or @,^\n",
        "print(ab@cd)"
      ]
    },
    {
      "cell_type": "code",
      "execution_count": null,
      "id": "9835ce9d-52c0-4091-819f-1fc4db242d6f",
      "metadata": {
        "id": "9835ce9d-52c0-4091-819f-1fc4db242d6f",
        "outputId": "bd5699e2-944f-4bed-9161-184c068357e7"
      },
      "outputs": [
        {
          "name": "stdout",
          "output_type": "stream",
          "text": [
            "9\n"
          ]
        }
      ],
      "source": [
        "# in special character only underscore can contain in your variable name\n",
        "ijk_ab=9\n",
        "print(ijk_ab)"
      ]
    },
    {
      "cell_type": "code",
      "execution_count": null,
      "id": "2dd71a82-64f8-4f57-941f-61ca63722ba7",
      "metadata": {
        "id": "2dd71a82-64f8-4f57-941f-61ca63722ba7",
        "outputId": "96f7d009-2116-487e-80ae-f1f282eef65d"
      },
      "outputs": [
        {
          "ename": "SyntaxError",
          "evalue": "invalid syntax (205482689.py, line 1)",
          "output_type": "error",
          "traceback": [
            "\u001b[1;36m  Cell \u001b[1;32mIn[9], line 1\u001b[1;36m\u001b[0m\n\u001b[1;33m    a b=9\u001b[0m\n\u001b[1;37m      ^\u001b[0m\n\u001b[1;31mSyntaxError\u001b[0m\u001b[1;31m:\u001b[0m invalid syntax\n"
          ]
        }
      ],
      "source": [
        "a b=9\n",
        "print(a b)"
      ]
    },
    {
      "cell_type": "code",
      "execution_count": null,
      "id": "410490c2-1891-4ed6-ace1-53d58fb6966e",
      "metadata": {
        "id": "410490c2-1891-4ed6-ace1-53d58fb6966e",
        "outputId": "cb92af15-7d0c-49b2-e8ba-9c6b729986f2"
      },
      "outputs": [
        {
          "name": "stdout",
          "output_type": "stream",
          "text": [
            "45\n"
          ]
        }
      ],
      "source": [
        "_=45\n",
        "print(_)"
      ]
    },
    {
      "cell_type": "code",
      "execution_count": null,
      "id": "0accf0a5-8264-430c-baa5-385927f67450",
      "metadata": {
        "id": "0accf0a5-8264-430c-baa5-385927f67450",
        "outputId": "ec99d28d-8ae3-4874-ab7f-2f517e2fd214"
      },
      "outputs": [
        {
          "name": "stdout",
          "output_type": "stream",
          "text": [
            "100\n"
          ]
        }
      ],
      "source": [
        "_577 =100\n",
        "print(_577)"
      ]
    },
    {
      "cell_type": "code",
      "execution_count": null,
      "id": "337a1f17-e1aa-4773-848c-da342ae888d2",
      "metadata": {
        "id": "337a1f17-e1aa-4773-848c-da342ae888d2",
        "outputId": "32723e62-af58-4049-fafe-554af0649335"
      },
      "outputs": [
        {
          "ename": "SyntaxError",
          "evalue": "invalid syntax (2295679187.py, line 2)",
          "output_type": "error",
          "traceback": [
            "\u001b[1;36m  Cell \u001b[1;32mIn[12], line 2\u001b[1;36m\u001b[0m\n\u001b[1;33m    as = 10\u001b[0m\n\u001b[1;37m    ^\u001b[0m\n\u001b[1;31mSyntaxError\u001b[0m\u001b[1;31m:\u001b[0m invalid syntax\n"
          ]
        }
      ],
      "source": [
        "# Builtin in keywords cant be your variable name\n",
        "as = 10 #as, in,is\n",
        "print(as)"
      ]
    },
    {
      "cell_type": "code",
      "execution_count": null,
      "id": "4ec0b739-1d17-48d2-926f-a70e8e9826e9",
      "metadata": {
        "id": "4ec0b739-1d17-48d2-926f-a70e8e9826e9",
        "outputId": "b49e9d38-9f39-4416-8ecd-cb6b226cc23d"
      },
      "outputs": [
        {
          "name": "stdout",
          "output_type": "stream",
          "text": [
            "120\n"
          ]
        }
      ],
      "source": [
        "As = 120\n",
        "print(As)"
      ]
    },
    {
      "cell_type": "code",
      "execution_count": null,
      "id": "11f6aa53-70d6-4ef8-9a3e-16b552a80b66",
      "metadata": {
        "id": "11f6aa53-70d6-4ef8-9a3e-16b552a80b66",
        "outputId": "c1785392-3744-4d4b-e9e9-118aff74a0a5"
      },
      "outputs": [
        {
          "name": "stdout",
          "output_type": "stream",
          "text": [
            "The values of a is 10\n"
          ]
        }
      ],
      "source": [
        "a=10\n",
        "print('The values of a is',a) #string, variable"
      ]
    },
    {
      "cell_type": "code",
      "execution_count": null,
      "id": "0aae24f2-5657-419b-8429-0fb0744b31a4",
      "metadata": {
        "id": "0aae24f2-5657-419b-8429-0fb0744b31a4"
      },
      "outputs": [],
      "source": [
        "# Data Types\n",
        "\n",
        "#1. Integer  int()  ALL positive to negative numbers ex: 90 , -5 , -12\n",
        "#2. Float    float()  All decimal numbers are my float ex: 50.0 , 2.1, -100.5\n",
        "#3. String  str()  Anything that are in quotation alaways be my dtring ex: 'abc', '123', 'ab23^&'\n",
        "#4.Boolean   bool()  True Fasle\n",
        "# True"
      ]
    },
    {
      "cell_type": "code",
      "execution_count": null,
      "id": "84c17ff1-9cf6-4513-8b3e-3885980406a2",
      "metadata": {
        "id": "84c17ff1-9cf6-4513-8b3e-3885980406a2"
      },
      "outputs": [],
      "source": [
        "#check the type of variable"
      ]
    },
    {
      "cell_type": "code",
      "execution_count": null,
      "id": "6e9353e8-534a-4193-aeeb-49e2f65a1aab",
      "metadata": {
        "id": "6e9353e8-534a-4193-aeeb-49e2f65a1aab",
        "outputId": "e14f7dd4-4df5-43c0-bd9d-05274f6d6f02"
      },
      "outputs": [
        {
          "name": "stdout",
          "output_type": "stream",
          "text": [
            "<class 'float'>\n"
          ]
        }
      ],
      "source": [
        "a = 10.5\n",
        "\n",
        "print(type(a))\n"
      ]
    },
    {
      "cell_type": "code",
      "execution_count": null,
      "id": "0ffbf206-1d52-46ca-8a49-e83f3846e674",
      "metadata": {
        "id": "0ffbf206-1d52-46ca-8a49-e83f3846e674",
        "outputId": "0015b966-057d-433d-a808-135213b8d82e"
      },
      "outputs": [
        {
          "name": "stdout",
          "output_type": "stream",
          "text": [
            "<class 'bool'>\n"
          ]
        }
      ],
      "source": [
        "c= True\n",
        "print(type(c))\n"
      ]
    },
    {
      "cell_type": "code",
      "execution_count": null,
      "id": "f9f696e2-1bd2-4e4b-955a-a1d5c9b9e5fb",
      "metadata": {
        "id": "f9f696e2-1bd2-4e4b-955a-a1d5c9b9e5fb",
        "outputId": "3b369382-4119-4c0f-e34c-80881d236115"
      },
      "outputs": [
        {
          "name": "stdout",
          "output_type": "stream",
          "text": [
            "<class 'float'>\n"
          ]
        }
      ],
      "source": [
        "b= 0.45\n",
        "print(type(b))\n"
      ]
    },
    {
      "cell_type": "code",
      "execution_count": null,
      "id": "fe6fad3c-4564-42f9-8bff-e45e5e699168",
      "metadata": {
        "id": "fe6fad3c-4564-42f9-8bff-e45e5e699168",
        "outputId": "d10cf109-0f2d-4ba7-fb4e-a7e67e01daf6"
      },
      "outputs": [
        {
          "name": "stdout",
          "output_type": "stream",
          "text": [
            "<class 'float'>\n"
          ]
        }
      ],
      "source": [
        "c= -6.54\n",
        "print(type(c))"
      ]
    },
    {
      "cell_type": "code",
      "execution_count": null,
      "id": "b249beb3-1010-43ac-a2f2-c6357f9bfa49",
      "metadata": {
        "id": "b249beb3-1010-43ac-a2f2-c6357f9bfa49",
        "outputId": "e9e4a3a1-e347-48f8-b122-94529efb48e1"
      },
      "outputs": [
        {
          "name": "stdout",
          "output_type": "stream",
          "text": [
            "<class 'str'>\n"
          ]
        }
      ],
      "source": [
        "x='a'\n",
        "print(type(x))"
      ]
    },
    {
      "cell_type": "code",
      "execution_count": null,
      "id": "e2e939b5-2690-47fd-a999-d6effc484974",
      "metadata": {
        "id": "e2e939b5-2690-47fd-a999-d6effc484974",
        "outputId": "785c2a6a-790b-4cb3-dfc5-5de4258e20ea"
      },
      "outputs": [
        {
          "name": "stdout",
          "output_type": "stream",
          "text": [
            "<class 'str'>\n"
          ]
        }
      ],
      "source": [
        "z='9'\n",
        "\n",
        "print(type(z))"
      ]
    },
    {
      "cell_type": "code",
      "execution_count": null,
      "id": "08d23fa3-f639-4429-bf9f-e0cf1ccfaed4",
      "metadata": {
        "id": "08d23fa3-f639-4429-bf9f-e0cf1ccfaed4",
        "outputId": "10425048-e779-4a07-8597-3bfeecaadc51"
      },
      "outputs": [
        {
          "name": "stdout",
          "output_type": "stream",
          "text": [
            "10 <class 'int'>\n",
            "10 <class 'str'>\n"
          ]
        }
      ],
      "source": [
        "a=10\n",
        "b='10'\n",
        "\n",
        "print(a,type(a))\n",
        "print(b,type(b))"
      ]
    },
    {
      "cell_type": "code",
      "execution_count": null,
      "id": "bcc239c5-7daa-4398-ae67-86b6d364c131",
      "metadata": {
        "id": "bcc239c5-7daa-4398-ae67-86b6d364c131",
        "outputId": "31b9c8c8-1ff8-4066-9314-0c38aa69c82f"
      },
      "outputs": [
        {
          "name": "stdout",
          "output_type": "stream",
          "text": [
            "5.1 <class 'str'>\n",
            "The data type of 5.1 is <class 'str'>\n"
          ]
        }
      ],
      "source": [
        "f='5.1'\n",
        "\n",
        "print(f,type(f))\n",
        "print('The data type of',f,'is',type(f))"
      ]
    },
    {
      "cell_type": "code",
      "execution_count": null,
      "id": "9fde8a97-9415-4fea-9f3c-c51edfd1d5d7",
      "metadata": {
        "id": "9fde8a97-9415-4fea-9f3c-c51edfd1d5d7"
      },
      "outputs": [],
      "source": [
        "# Type casting"
      ]
    },
    {
      "cell_type": "code",
      "execution_count": null,
      "id": "50a343a6-afaa-49a2-95e3-b5e114783d12",
      "metadata": {
        "id": "50a343a6-afaa-49a2-95e3-b5e114783d12",
        "outputId": "d373f28c-1571-47e7-fcbc-43d0185a59c9"
      },
      "outputs": [
        {
          "name": "stdout",
          "output_type": "stream",
          "text": [
            "The data type of  34.5 is <class 'str'>\n"
          ]
        }
      ],
      "source": [
        "#Type casting\n",
        "x=34.5\n",
        "y=str(x)\n",
        "print('The data type of ' , y , 'is' , (type(y)))\n"
      ]
    },
    {
      "cell_type": "code",
      "execution_count": null,
      "id": "0c2d8290-edc5-42f6-9d7a-66c955d7d5e4",
      "metadata": {
        "id": "0c2d8290-edc5-42f6-9d7a-66c955d7d5e4",
        "outputId": "3a97d8f1-6b61-4d87-c25b-4b08b46b4a5e"
      },
      "outputs": [
        {
          "name": "stdout",
          "output_type": "stream",
          "text": [
            "The data type of 12 is <class 'int'>\n"
          ]
        }
      ],
      "source": [
        "x = 12.5\n",
        "y=int(x)\n",
        "print('The data type of',y,'is',type(y))"
      ]
    },
    {
      "cell_type": "code",
      "execution_count": null,
      "id": "c487a49d-ac13-4e93-b4fa-387eb5016a60",
      "metadata": {
        "id": "c487a49d-ac13-4e93-b4fa-387eb5016a60",
        "outputId": "9edecf06-dc3f-4122-91c1-993e797916f4"
      },
      "outputs": [
        {
          "name": "stdout",
          "output_type": "stream",
          "text": [
            "<class 'str'>\n"
          ]
        }
      ],
      "source": [
        "a= '10+2'\n",
        "print(type(a))"
      ]
    },
    {
      "cell_type": "code",
      "execution_count": null,
      "id": "56a26f0a-ffca-426f-8812-b0220410da3a",
      "metadata": {
        "id": "56a26f0a-ffca-426f-8812-b0220410da3a",
        "outputId": "0a1f9442-f205-41da-c83d-ac650e300829"
      },
      "outputs": [
        {
          "name": "stdout",
          "output_type": "stream",
          "text": [
            "The data type of 5 is <class 'str'>\n"
          ]
        }
      ],
      "source": [
        "a=5\n",
        "d = str(a)\n",
        "print('The data type of',d, 'is',type(d))"
      ]
    },
    {
      "cell_type": "code",
      "execution_count": null,
      "id": "d6344783-5104-4ebc-8914-9127c6c7c416",
      "metadata": {
        "id": "d6344783-5104-4ebc-8914-9127c6c7c416",
        "outputId": "9e155e31-b96b-4dbb-a345-c15a48cf570a"
      },
      "outputs": [
        {
          "name": "stdout",
          "output_type": "stream",
          "text": [
            "5 <class 'int'>\n"
          ]
        }
      ],
      "source": [
        "# convert 100 into string\n",
        "# convert \"45.5\" into integer\n",
        "#convert '5' into float\n",
        "#convert 10 into string\n",
        "#convert '5.5' into integer\n",
        "a='5.5'\n",
        "b=float(a)\n",
        "c=int(b)\n",
        "print(c,type(c))"
      ]
    },
    {
      "cell_type": "code",
      "execution_count": null,
      "id": "e6ff9d6c-ed59-4591-8033-107aba6820e8",
      "metadata": {
        "id": "e6ff9d6c-ed59-4591-8033-107aba6820e8",
        "outputId": "1063fbdf-fa9a-43db-a39d-2b404ba63e38"
      },
      "outputs": [
        {
          "name": "stdout",
          "output_type": "stream",
          "text": [
            "the data type of 45.5 is <class 'str'>\n",
            "the data type of 45.5 is <class 'float'>\n",
            "the data type of 45 is <class 'int'>\n"
          ]
        }
      ],
      "source": [
        "a = \"45.5\"\n",
        "b = float(a)\n",
        "c = int(b)\n",
        "print('the data type of',a,'is',type(a))\n",
        "print('the data type of',b,'is',type(b))\n",
        "print('the data type of',c,'is',type(c))"
      ]
    },
    {
      "cell_type": "code",
      "execution_count": null,
      "id": "a5e616e2-c07b-4bf4-874c-8c827cbb6255",
      "metadata": {
        "id": "a5e616e2-c07b-4bf4-874c-8c827cbb6255",
        "outputId": "ba6603b9-e746-47bf-8f2d-56c783d6e249"
      },
      "outputs": [
        {
          "name": "stdin",
          "output_type": "stream",
          "text": [
            "enter the value of a  8.9\n"
          ]
        },
        {
          "name": "stdout",
          "output_type": "stream",
          "text": [
            "8.9 <class 'str'>\n"
          ]
        }
      ],
      "source": [
        "#input always give string form answer\n",
        "a = input('enter the value of a ')\n",
        "print(a,type(a))"
      ]
    },
    {
      "cell_type": "code",
      "execution_count": null,
      "id": "b38bbbf0-d5fa-4d41-9061-6f15bcfd8308",
      "metadata": {
        "id": "b38bbbf0-d5fa-4d41-9061-6f15bcfd8308",
        "outputId": "361b073d-eca3-46f1-9337-704c55cf2c9c"
      },
      "outputs": [
        {
          "name": "stdin",
          "output_type": "stream",
          "text": [
            "enter the value of b 35\n"
          ]
        },
        {
          "name": "stdout",
          "output_type": "stream",
          "text": [
            "35 <class 'int'>\n"
          ]
        }
      ],
      "source": [
        "b = int(input('enter the value of b'))\n",
        "print(b,type(b))"
      ]
    },
    {
      "cell_type": "code",
      "execution_count": null,
      "id": "2aff52ac-703c-4800-bc82-4f2418c54659",
      "metadata": {
        "id": "2aff52ac-703c-4800-bc82-4f2418c54659",
        "outputId": "1f1035f1-f8e1-4091-a9c3-85ac7530ed01"
      },
      "outputs": [
        {
          "name": "stdin",
          "output_type": "stream",
          "text": [
            "enter the value of c  5.6\n"
          ]
        },
        {
          "name": "stdout",
          "output_type": "stream",
          "text": [
            "5.6 <class 'float'>\n"
          ]
        }
      ],
      "source": [
        "c = float(input('enter the value of c '))\n",
        "print(c,type(c))"
      ]
    },
    {
      "cell_type": "code",
      "execution_count": null,
      "id": "0f080225-a336-4365-aaa8-88d7e3f30d96",
      "metadata": {
        "id": "0f080225-a336-4365-aaa8-88d7e3f30d96",
        "outputId": "7d08ccc4-c91c-4bf7-a530-b972626a3d4d"
      },
      "outputs": [
        {
          "name": "stdin",
          "output_type": "stream",
          "text": [
            "enter the your name bhavna\n"
          ]
        },
        {
          "name": "stdout",
          "output_type": "stream",
          "text": [
            "bhavna <class 'str'>\n"
          ]
        }
      ],
      "source": [
        "name= str(input('enter the your name'))\n",
        "print(name,type(name))\n"
      ]
    },
    {
      "cell_type": "code",
      "execution_count": null,
      "id": "e7d9aa07-b891-4306-acf8-6da77800abda",
      "metadata": {
        "id": "e7d9aa07-b891-4306-acf8-6da77800abda",
        "outputId": "e0a7779f-f5e6-41db-d5d6-25baef1b2060"
      },
      "outputs": [
        {
          "name": "stdin",
          "output_type": "stream",
          "text": [
            "enter your age 20\n"
          ]
        },
        {
          "name": "stdout",
          "output_type": "stream",
          "text": [
            "20 <class 'int'>\n"
          ]
        }
      ],
      "source": [
        "age= int(input('enter your age'))\n",
        "print(age,type(age))\n"
      ]
    },
    {
      "cell_type": "code",
      "execution_count": null,
      "id": "416ca1df-595d-479b-8a76-430e1af52153",
      "metadata": {
        "id": "416ca1df-595d-479b-8a76-430e1af52153",
        "outputId": "f8b98173-23e8-49a1-e327-4fbdd964fcd7"
      },
      "outputs": [
        {
          "name": "stdin",
          "output_type": "stream",
          "text": [
            "enter your  marks  90\n"
          ]
        },
        {
          "name": "stdout",
          "output_type": "stream",
          "text": [
            "90.0 <class 'float'>\n"
          ]
        }
      ],
      "source": [
        "Marks= float(input('enter your  marks '))\n",
        "print(Marks,type(Marks))\n"
      ]
    },
    {
      "cell_type": "code",
      "execution_count": null,
      "id": "17ab914a-5d9d-4f57-b368-60a0b42b5b38",
      "metadata": {
        "id": "17ab914a-5d9d-4f57-b368-60a0b42b5b38"
      },
      "outputs": [],
      "source": [
        "# Operators - are my symobls that performs the certain operations"
      ]
    },
    {
      "cell_type": "code",
      "execution_count": null,
      "id": "670c51c1-a7b2-4e6a-a2ab-28a32354020c",
      "metadata": {
        "id": "670c51c1-a7b2-4e6a-a2ab-28a32354020c"
      },
      "outputs": [],
      "source": [
        "# Types of Operators\n",
        "#1. Arithmetic Operators\n",
        "#2. Assingment Operators, Compound Assingment\n",
        "#3. Comparison Operators\n",
        "#4. Logical Operatora\n",
        "#5. Identity Operatoras\n",
        "#6. Membership Operators"
      ]
    },
    {
      "cell_type": "code",
      "execution_count": null,
      "id": "cc2f5cff-c32b-4632-a5e2-f87ce70539bf",
      "metadata": {
        "id": "cc2f5cff-c32b-4632-a5e2-f87ce70539bf"
      },
      "outputs": [],
      "source": [
        "# Arithmetic Operators - are responsible for mathematical calc\n",
        "# Addition +\n",
        "# Subtraction -\n",
        "# Multiplicationb *\n",
        "# Single Division /\n",
        "# Double Division //\n",
        "# Modulus %\n",
        "# Exponential **"
      ]
    },
    {
      "cell_type": "code",
      "execution_count": null,
      "id": "4d77741f-89b9-48d4-86a3-4c124b340405",
      "metadata": {
        "id": "4d77741f-89b9-48d4-86a3-4c124b340405",
        "outputId": "ed73f94c-307b-40ed-cd48-bf9633097996"
      },
      "outputs": [
        {
          "name": "stdin",
          "output_type": "stream",
          "text": [
            "enter a  4\n",
            "enter b  5\n"
          ]
        }
      ],
      "source": [
        "a = int(input('enter a '))\n",
        "b = int(input('enter b '))"
      ]
    },
    {
      "cell_type": "code",
      "execution_count": null,
      "id": "779d34ff-3997-4de3-a7b9-ff51b35e378c",
      "metadata": {
        "id": "779d34ff-3997-4de3-a7b9-ff51b35e378c",
        "outputId": "17476407-9785-434e-fa3a-c4f8da095a3d"
      },
      "outputs": [
        {
          "name": "stdout",
          "output_type": "stream",
          "text": [
            "4\n",
            "5\n"
          ]
        }
      ],
      "source": [
        "print(a)\n",
        "print(b)"
      ]
    },
    {
      "cell_type": "code",
      "execution_count": null,
      "id": "19a01a70-d13f-4877-81a2-5b508541e2b4",
      "metadata": {
        "id": "19a01a70-d13f-4877-81a2-5b508541e2b4",
        "outputId": "9df40834-6445-4ac5-d6dd-9b74697ed691"
      },
      "outputs": [
        {
          "name": "stdout",
          "output_type": "stream",
          "text": [
            "The Addition of 4 + 5 = 9\n",
            "-1\n",
            "20\n"
          ]
        }
      ],
      "source": [
        "print('The Addition of',a,'+',b,'=',a+b)\n",
        "print(a-b)\n",
        "print(a*b)"
      ]
    },
    {
      "cell_type": "code",
      "execution_count": null,
      "id": "9e9c5798-3d98-4f9e-bd6f-3920ad91ddac",
      "metadata": {
        "id": "9e9c5798-3d98-4f9e-bd6f-3920ad91ddac",
        "outputId": "3d9e5297-1220-4a62-c210-f65c176bd171"
      },
      "outputs": [
        {
          "name": "stdout",
          "output_type": "stream",
          "text": [
            "0.8\n",
            "0\n",
            "4\n",
            "1024\n"
          ]
        }
      ],
      "source": [
        "print(a/b) # always retuirn in float\n",
        "print(a//b) # always return in integer\n",
        "print(a%b) # always return remainder\n",
        "print(a**b) #(b) power a return factorial"
      ]
    },
    {
      "cell_type": "code",
      "execution_count": null,
      "id": "4f6d7233-06e9-4c22-b130-b4fff998cb52",
      "metadata": {
        "id": "4f6d7233-06e9-4c22-b130-b4fff998cb52",
        "outputId": "9cf58cb2-1a43-4dd6-c5a2-1b8e55b532dc"
      },
      "outputs": [
        {
          "name": "stdout",
          "output_type": "stream",
          "text": [
            "1.0\n",
            "0\n",
            "1\n"
          ]
        }
      ],
      "source": [
        "a=10\n",
        "b=10\n",
        "\n",
        "print(a/b)\n",
        "print(a%b)\n",
        "print(a//b)"
      ]
    },
    {
      "cell_type": "code",
      "execution_count": null,
      "id": "67ddf9e5-a632-41d6-8ab1-a88204530d2a",
      "metadata": {
        "id": "67ddf9e5-a632-41d6-8ab1-a88204530d2a",
        "outputId": "4c885fbf-03b9-474d-c144-b56e182154d1"
      },
      "outputs": [
        {
          "name": "stdout",
          "output_type": "stream",
          "text": [
            "3\n",
            "0\n",
            "0.3\n"
          ]
        }
      ],
      "source": [
        "x=3\n",
        "y=10\n",
        "print(x%y)\n",
        "print(x//y)\n",
        "print(x/y)"
      ]
    },
    {
      "cell_type": "code",
      "execution_count": null,
      "id": "420d37ed-6417-47f4-aaf1-6eb0bc5683e4",
      "metadata": {
        "id": "420d37ed-6417-47f4-aaf1-6eb0bc5683e4"
      },
      "outputs": [],
      "source": [
        "### BODMAS"
      ]
    },
    {
      "cell_type": "code",
      "execution_count": null,
      "id": "6956e89a-56aa-42e7-b63e-f2b20466846e",
      "metadata": {
        "id": "6956e89a-56aa-42e7-b63e-f2b20466846e"
      },
      "outputs": [],
      "source": [
        "# pRECDENCE OF oPERATOR\n",
        "# P E M D A S\n",
        "# () , ** , * , / , // , % , + , -"
      ]
    },
    {
      "cell_type": "code",
      "execution_count": null,
      "id": "93f2f58f-d441-43ad-931c-b1c38a71dac6",
      "metadata": {
        "id": "93f2f58f-d441-43ad-931c-b1c38a71dac6"
      },
      "outputs": [],
      "source": [
        "a=10\n",
        "b=10\n",
        "c=a-30+b\n",
        "print(c)"
      ]
    },
    {
      "cell_type": "code",
      "execution_count": null,
      "id": "b7571b1c-0862-4562-9acd-d5b729335486",
      "metadata": {
        "id": "b7571b1c-0862-4562-9acd-d5b729335486",
        "outputId": "0ac65be1-0eb8-4ef5-e257-707f5a789f04"
      },
      "outputs": [
        {
          "name": "stdout",
          "output_type": "stream",
          "text": [
            "5.0\n"
          ]
        }
      ],
      "source": [
        "exp = 1+4*3/2-2\n",
        "print(exp)"
      ]
    },
    {
      "cell_type": "code",
      "execution_count": null,
      "id": "c1cb5fd9-496c-4a70-84ce-916b6a56701c",
      "metadata": {
        "id": "c1cb5fd9-496c-4a70-84ce-916b6a56701c",
        "outputId": "d8e51ec8-4287-4ee2-e006-34c51f6098d2"
      },
      "outputs": [
        {
          "name": "stdin",
          "output_type": "stream",
          "text": [
            "enter length  6\n",
            "enter breadth  8\n"
          ]
        },
        {
          "name": "stdout",
          "output_type": "stream",
          "text": [
            "Area of Rectangle 48\n"
          ]
        }
      ],
      "source": [
        "# calculate the area of rectangle in which you take length and breadth as input\n",
        "\n",
        "l=int(input('enter length '))\n",
        "b=int(input('enter breadth '))\n",
        "area=l*b\n",
        "print('Area of Rectangle',area)"
      ]
    },
    {
      "cell_type": "code",
      "execution_count": null,
      "id": "1cf8bf48-c850-467e-89e0-2d546bdfc6d9",
      "metadata": {
        "id": "1cf8bf48-c850-467e-89e0-2d546bdfc6d9"
      },
      "outputs": [],
      "source": [
        "# Assingent operatop are responsible fopr assigning values to my variable\n",
        "\n",
        "# ="
      ]
    },
    {
      "cell_type": "code",
      "execution_count": null,
      "id": "ce3e7ed8-a0e0-4243-a59e-394b67ef4d96",
      "metadata": {
        "id": "ce3e7ed8-a0e0-4243-a59e-394b67ef4d96",
        "outputId": "cebeeb69-c82e-4efe-86cd-f8d793327c1a"
      },
      "outputs": [
        {
          "name": "stdout",
          "output_type": "stream",
          "text": [
            "10\n"
          ]
        }
      ],
      "source": [
        "a = 10\n",
        "print(a)"
      ]
    },
    {
      "cell_type": "code",
      "execution_count": null,
      "id": "52f4a890-9756-4a3d-ad47-207cfe8fd848",
      "metadata": {
        "id": "52f4a890-9756-4a3d-ad47-207cfe8fd848"
      },
      "outputs": [],
      "source": [
        "# Compound Assingment"
      ]
    },
    {
      "cell_type": "code",
      "execution_count": null,
      "id": "6b50f68d-8f4e-41f6-99f7-e5f06ec8ef55",
      "metadata": {
        "id": "6b50f68d-8f4e-41f6-99f7-e5f06ec8ef55",
        "outputId": "0ee28c49-db19-40ed-a94e-561a6722ae3c"
      },
      "outputs": [
        {
          "name": "stdout",
          "output_type": "stream",
          "text": [
            "15\n"
          ]
        }
      ],
      "source": [
        "a=10\n",
        "a += 5 #a = a+5\n",
        "print(a)"
      ]
    },
    {
      "cell_type": "code",
      "execution_count": null,
      "id": "a6006412-8bb9-440f-bb33-7574df225b12",
      "metadata": {
        "id": "a6006412-8bb9-440f-bb33-7574df225b12",
        "outputId": "7a7072b5-826d-4d94-f43e-dad1c9502fc9"
      },
      "outputs": [
        {
          "name": "stdout",
          "output_type": "stream",
          "text": [
            "0\n"
          ]
        }
      ],
      "source": [
        "y=7\n",
        "y-=y  # y = y-y\n",
        "print(y)"
      ]
    },
    {
      "cell_type": "code",
      "execution_count": null,
      "id": "9964ea23-99d8-4501-b41c-5ddccc637b3f",
      "metadata": {
        "id": "9964ea23-99d8-4501-b41c-5ddccc637b3f",
        "outputId": "631eacea-5519-4c4e-dd55-d4f4065c6efa"
      },
      "outputs": [
        {
          "name": "stdout",
          "output_type": "stream",
          "text": [
            "8\n"
          ]
        }
      ],
      "source": [
        "z=2\n",
        "z **=3  # z = z**3\n",
        "print(z)"
      ]
    },
    {
      "cell_type": "code",
      "execution_count": null,
      "id": "10e999dd-905d-4014-bf8d-4041b417a23c",
      "metadata": {
        "id": "10e999dd-905d-4014-bf8d-4041b417a23c",
        "outputId": "985d06eb-635b-4811-ff1a-ed3a94425990"
      },
      "outputs": [
        {
          "name": "stdout",
          "output_type": "stream",
          "text": [
            "10\n"
          ]
        }
      ],
      "source": [
        "x=5\n",
        "x *=2 # x = x*2\n",
        "print(x)"
      ]
    },
    {
      "cell_type": "code",
      "execution_count": null,
      "id": "e1612beb-1e05-41fb-91b1-fbeff21d8e52",
      "metadata": {
        "id": "e1612beb-1e05-41fb-91b1-fbeff21d8e52"
      },
      "outputs": [],
      "source": [
        "# COmparison Operator - are responsible for comparing the values of the variable\n",
        "# equal to ==\n",
        "# Not equal to !=\n",
        "# greater than >\n",
        "# lesser than <\n",
        "# greater than equal to  >=\n",
        "# lesser than equal to <="
      ]
    },
    {
      "cell_type": "code",
      "execution_count": null,
      "id": "5f1a649f-0c9a-4924-91e2-967156f290e7",
      "metadata": {
        "id": "5f1a649f-0c9a-4924-91e2-967156f290e7"
      },
      "outputs": [],
      "source": [
        "a=30\n",
        "b=40\n",
        "\n",
        "# print(a!=b)\n",
        "# print(a>b)\n",
        "# print(a==b)\n",
        "# print(a<b)\n",
        "# print(a>=b)\n",
        "# print(a<=b)"
      ]
    },
    {
      "cell_type": "code",
      "execution_count": null,
      "id": "a5913467-39b0-4ac2-b9f9-e606f4aaaa1d",
      "metadata": {
        "id": "a5913467-39b0-4ac2-b9f9-e606f4aaaa1d",
        "outputId": "2db15263-8f77-411a-c21d-ab3b25fd20ce"
      },
      "outputs": [
        {
          "name": "stdout",
          "output_type": "stream",
          "text": [
            "True\n",
            "True\n",
            "True\n"
          ]
        }
      ],
      "source": [
        "x=5\n",
        "y=5\n",
        "\n",
        "# print(x!=y)\n",
        "# print(x>y)\n",
        "# print(x<y)\n",
        "print(x>=y)\n",
        "print(x<=y)\n",
        "print(x==y)"
      ]
    },
    {
      "cell_type": "code",
      "execution_count": null,
      "id": "9e602991-46f6-47a5-ba63-df052b618c42",
      "metadata": {
        "id": "9e602991-46f6-47a5-ba63-df052b618c42"
      },
      "outputs": [],
      "source": [
        "# Logical Operator - resposible for comparing the boolean values of the variable\n",
        "# and - when both conditions are True then result will be True\n",
        "# or - when any one Conditon,or both conditon is True then result will be True\n",
        "# not - it reverts the conditons\n",
        "        # True-----False\n",
        "        # False---True"
      ]
    },
    {
      "cell_type": "code",
      "execution_count": null,
      "id": "47d0508a-af13-4627-ab0c-545d25a6995e",
      "metadata": {
        "id": "47d0508a-af13-4627-ab0c-545d25a6995e",
        "outputId": "5d3fd579-c827-456b-c0ad-19d959828b04"
      },
      "outputs": [
        {
          "name": "stdout",
          "output_type": "stream",
          "text": [
            "False\n",
            "True\n"
          ]
        }
      ],
      "source": [
        "a=True\n",
        "b=False\n",
        "c=True\n",
        "d=False\n",
        "\n",
        "# print(a and b)\n",
        "# print(b and d)\n",
        "# print(a and c)\n",
        "# print(a or b)\n",
        "# print(b or d)\n",
        "# print(a or c)\n",
        "print(not a)\n",
        "print(not b)"
      ]
    },
    {
      "cell_type": "code",
      "execution_count": null,
      "id": "bfb2c0af-9580-4e27-b756-7dd1bc4b5579",
      "metadata": {
        "id": "bfb2c0af-9580-4e27-b756-7dd1bc4b5579"
      },
      "outputs": [],
      "source": [
        "# Identity Operator - it is used to compare tbhe address of the variable\n",
        "#system->memory->RAM->address , 1 bits memory->2 ki power 8 =256 ,binary no. ->0,1\n",
        "\n",
        "#is"
      ]
    },
    {
      "cell_type": "code",
      "execution_count": null,
      "id": "ae6a8db9-c3cc-4691-8760-0a19cd8ea8cf",
      "metadata": {
        "id": "ae6a8db9-c3cc-4691-8760-0a19cd8ea8cf",
        "outputId": "1a5e1b64-1892-4dbc-9269-05408b59c882"
      },
      "outputs": [
        {
          "name": "stdout",
          "output_type": "stream",
          "text": [
            "True\n",
            "False\n"
          ]
        }
      ],
      "source": [
        "a = 10\n",
        "b = 10.0\n",
        "\n",
        "print(a==b)\n",
        "print(a is b)"
      ]
    },
    {
      "cell_type": "code",
      "execution_count": null,
      "id": "b5c01652-ec2e-4303-b067-511cb79cb96b",
      "metadata": {
        "id": "b5c01652-ec2e-4303-b067-511cb79cb96b",
        "outputId": "028ca99c-948c-4b84-e476-fb414adadbd8"
      },
      "outputs": [
        {
          "name": "stdout",
          "output_type": "stream",
          "text": [
            "140729648753368\n",
            "2943417394512\n"
          ]
        }
      ],
      "source": [
        "print(id(a))\n",
        "print(id(b))"
      ]
    },
    {
      "cell_type": "code",
      "execution_count": null,
      "id": "85bfaab2-995f-423f-94e0-4fc347099bb8",
      "metadata": {
        "id": "85bfaab2-995f-423f-94e0-4fc347099bb8",
        "outputId": "8eec81b5-13d7-45f2-9dd6-2c6a7eeb90ed"
      },
      "outputs": [
        {
          "name": "stdout",
          "output_type": "stream",
          "text": [
            "True\n",
            "140729648753368\n",
            "140729648753368\n"
          ]
        }
      ],
      "source": [
        "x=10\n",
        "y=10\n",
        "\n",
        "print(x is y)\n",
        "print(id(x))\n",
        "print(id(y))"
      ]
    },
    {
      "cell_type": "code",
      "execution_count": null,
      "id": "fcb7d641-aac0-4a58-b5c7-8b57ac0c754f",
      "metadata": {
        "id": "fcb7d641-aac0-4a58-b5c7-8b57ac0c754f",
        "outputId": "be75db12-4cc7-460d-a5c5-26f26658575c"
      },
      "outputs": [
        {
          "name": "stdout",
          "output_type": "stream",
          "text": [
            "True\n",
            "140729648756248\n",
            "140729648756248\n"
          ]
        }
      ],
      "source": [
        "s=100\n",
        "d=100\n",
        "\n",
        "print(s is d)\n",
        "print(id(s))\n",
        "print(id(d))"
      ]
    },
    {
      "cell_type": "code",
      "execution_count": null,
      "id": "b27e40da-8e5a-4b69-a752-61743d9f6680",
      "metadata": {
        "id": "b27e40da-8e5a-4b69-a752-61743d9f6680",
        "outputId": "0601f465-a954-4af2-ccc2-ab74a48a9c30"
      },
      "outputs": [
        {
          "name": "stdout",
          "output_type": "stream",
          "text": [
            "True\n",
            "140729648761048\n",
            "140729648761048\n"
          ]
        }
      ],
      "source": [
        "e=250\n",
        "f=250\n",
        "print(e is f)\n",
        "print(id(e))\n",
        "print(id(f))"
      ]
    },
    {
      "cell_type": "code",
      "execution_count": null,
      "id": "657bb4da-6a38-4f09-8b69-74287c4c07f0",
      "metadata": {
        "id": "657bb4da-6a38-4f09-8b69-74287c4c07f0",
        "outputId": "3f199e20-cbfd-4f10-ca03-9c06b73863dd"
      },
      "outputs": [
        {
          "name": "stdout",
          "output_type": "stream",
          "text": [
            "True\n",
            "140729648761240\n",
            "140729648761240\n"
          ]
        }
      ],
      "source": [
        "a = 256\n",
        "b= 256\n",
        "print(a is b)\n",
        "print(id(a))\n",
        "print(id(b))"
      ]
    },
    {
      "cell_type": "code",
      "execution_count": null,
      "id": "93688a9e-a00d-4ef3-b0a9-bd895aefce80",
      "metadata": {
        "id": "93688a9e-a00d-4ef3-b0a9-bd895aefce80",
        "outputId": "aee69bc7-f2d8-4153-aa80-cb5c00c2b1e4"
      },
      "outputs": [
        {
          "name": "stdout",
          "output_type": "stream",
          "text": [
            "False\n",
            "2943432091280\n",
            "2943432090704\n"
          ]
        }
      ],
      "source": [
        "c= 257\n",
        "e= 257\n",
        "print(c is e)\n",
        "print(id(c))\n",
        "print(id(e))"
      ]
    },
    {
      "cell_type": "code",
      "execution_count": null,
      "id": "c7eff746-ed06-4819-8e99-cde9139d85cc",
      "metadata": {
        "id": "c7eff746-ed06-4819-8e99-cde9139d85cc"
      },
      "outputs": [],
      "source": [
        "# Membership Operator - it is used to check the paricular character is the part of the string or not\n",
        "\n",
        "# in"
      ]
    },
    {
      "cell_type": "code",
      "execution_count": null,
      "id": "508f1897-4dde-4fd5-8c0e-3e2c2fe39179",
      "metadata": {
        "id": "508f1897-4dde-4fd5-8c0e-3e2c2fe39179",
        "outputId": "6817236a-9fcb-4e1d-a28d-1c8ba4aa7e68"
      },
      "outputs": [
        {
          "name": "stdout",
          "output_type": "stream",
          "text": [
            "True\n",
            "True\n",
            "False\n"
          ]
        }
      ],
      "source": [
        "z = 'Bhavna'\n",
        "\n",
        "print('a' in z)\n",
        "print('h' in z)\n",
        "print('D' in z)"
      ]
    },
    {
      "cell_type": "code",
      "execution_count": null,
      "id": "e0b90afb-1680-4679-9870-9ca476301699",
      "metadata": {
        "id": "e0b90afb-1680-4679-9870-9ca476301699"
      },
      "outputs": [],
      "source": [
        "#Assignment"
      ]
    },
    {
      "cell_type": "code",
      "execution_count": null,
      "id": "9199fd60-33c7-4b0e-9c66-c8139dd6a45a",
      "metadata": {
        "id": "9199fd60-33c7-4b0e-9c66-c8139dd6a45a",
        "outputId": "6a025549-dcd4-4afc-cddf-42897f7597e7"
      },
      "outputs": [
        {
          "name": "stdout",
          "output_type": "stream",
          "text": [
            "\n",
            "\n"
          ]
        }
      ],
      "source": [
        "print('\\n')"
      ]
    },
    {
      "cell_type": "code",
      "execution_count": null,
      "id": "40835cbe-88e8-4552-a886-e571612caff6",
      "metadata": {
        "id": "40835cbe-88e8-4552-a886-e571612caff6",
        "outputId": "9fad4b6c-93eb-4de5-d13f-2f840495d923"
      },
      "outputs": [
        {
          "name": "stdout",
          "output_type": "stream",
          "text": [
            "\\n\n"
          ]
        }
      ],
      "source": [
        "print('\\\\n')"
      ]
    },
    {
      "cell_type": "code",
      "execution_count": null,
      "id": "1a3edfb4-9fa1-4340-8b3a-b1ba35ac6f60",
      "metadata": {
        "id": "1a3edfb4-9fa1-4340-8b3a-b1ba35ac6f60",
        "outputId": "769bac55-0037-4cdc-e8c6-05201bfe5506"
      },
      "outputs": [
        {
          "name": "stdin",
          "output_type": "stream",
          "text": [
            "enter radius  4\n"
          ]
        },
        {
          "name": "stdout",
          "output_type": "stream",
          "text": [
            "50.24\n"
          ]
        }
      ],
      "source": [
        "# 1.\tWrite a Python program which accepts the radius of a circle from the user and compute the area.\n",
        "#  formulae to calculate area of circle:  πr²\n",
        "\n",
        "r = int(input('enter radius '))\n",
        "pi = 3.14\n",
        "area = pi*r**2\n",
        "print(area)"
      ]
    },
    {
      "cell_type": "code",
      "execution_count": null,
      "id": "87347654-883f-4860-bd0a-1b6dd6bb3c25",
      "metadata": {
        "id": "87347654-883f-4860-bd0a-1b6dd6bb3c25",
        "outputId": "620d3fce-bc11-4eea-dfc9-572a9c213531"
      },
      "outputs": [
        {
          "name": "stdout",
          "output_type": "stream",
          "text": [
            "The volume of the sphere is:  904.3199999999999\n"
          ]
        }
      ],
      "source": [
        "# 2.\tWrite a Python program to get the volume of a sphere with radius 6.\n",
        "# formulae to calculate volume of sphere:  4/3 𝜋 r³\n",
        "\n",
        "pi = 3.14\n",
        "r = 6\n",
        "V = 4/3 * pi * r**3\n",
        "print('The volume of the sphere is: ', V)\n",
        "\n"
      ]
    },
    {
      "cell_type": "code",
      "execution_count": null,
      "id": "892c9045-93d9-431c-8600-073a49595b15",
      "metadata": {
        "id": "892c9045-93d9-431c-8600-073a49595b15",
        "outputId": "f980e637-d1ae-4866-a456-188cec3ab24b"
      },
      "outputs": [
        {
          "name": "stdin",
          "output_type": "stream",
          "text": [
            "enter n  5\n"
          ]
        },
        {
          "name": "stdout",
          "output_type": "stream",
          "text": [
            "45\n"
          ]
        }
      ],
      "source": [
        "# 3.\tWrite a Python program to calculate the sum of three equal numbers, and the result is the three times of their sum.\n",
        "# 3\n",
        "n = int(input('enter n '))\n",
        "res = 3*(n+n+n)\n",
        "print(res)\n"
      ]
    },
    {
      "cell_type": "code",
      "execution_count": null,
      "id": "0775006f-07dd-4081-ba6e-3ccce2bb16f9",
      "metadata": {
        "id": "0775006f-07dd-4081-ba6e-3ccce2bb16f9",
        "outputId": "62fc5e52-d483-4268-9a6a-331ab2323d0f"
      },
      "outputs": [
        {
          "name": "stdin",
          "output_type": "stream",
          "text": [
            "enter b 5\n",
            "enter h 3\n"
          ]
        },
        {
          "name": "stdout",
          "output_type": "stream",
          "text": [
            "3.0517578125e-05\n"
          ]
        }
      ],
      "source": [
        "# 4.\tWrite a Python program that will accept the base and height of a triangle and compute the area\n",
        "# formulae to calculate area of triangle:  1/2 base * height\n",
        "\n",
        "b=int(input('enter b'))\n",
        "h=int(input('enter h'))\n",
        "\n",
        "area=1/2**(b*h)\n",
        "print(area)"
      ]
    },
    {
      "cell_type": "code",
      "execution_count": null,
      "id": "b307ae0a-0835-419c-aadb-d371bd2c6840",
      "metadata": {
        "id": "b307ae0a-0835-419c-aadb-d371bd2c6840",
        "outputId": "3f25b284-2687-47cd-b7a8-e55db5ced750"
      },
      "outputs": [
        {
          "name": "stdin",
          "output_type": "stream",
          "text": [
            "enter x  4\n",
            "enter y  3\n"
          ]
        },
        {
          "name": "stdout",
          "output_type": "stream",
          "text": [
            "49\n"
          ]
        }
      ],
      "source": [
        "# 5.\t Write a Python program to solve (x + y) * (x + y)\n",
        "# Test Data : x = 4, y = 3\n",
        "# Expected Output :   49\n",
        "x = int(input('enter x '))\n",
        "y = int(input('enter y '))\n",
        "\n",
        "op= (x + y) * (x + y)\n",
        "print(op)\n"
      ]
    },
    {
      "cell_type": "code",
      "execution_count": null,
      "id": "8d6f2922-f9f9-46f0-b269-6020c31a5c2c",
      "metadata": {
        "id": "8d6f2922-f9f9-46f0-b269-6020c31a5c2c",
        "outputId": "768fc70d-8ab9-4666-e7cc-fe00764bc7ef"
      },
      "outputs": [
        {
          "name": "stdin",
          "output_type": "stream",
          "text": [
            "enter p 10000\n",
            "enter y 7\n",
            "enter r 3.5\n"
          ]
        },
        {
          "name": "stdout",
          "output_type": "stream",
          "text": [
            "Simple Interest=  2450.0\n"
          ]
        }
      ],
      "source": [
        "# 6.\tWrite a Python program to compute the simple interest of a specified principal amount, rate of interest, and a number of years.\n",
        "# Test Data : amt = 10000, int = 3.5, years = 7\n",
        "p= float(input('enter p'))\n",
        "y = float(input('enter y'))\n",
        "r= float(input('enter r'))\n",
        "si = (p * y * r)/ 100\n",
        "print (\"Simple Interest= \", si)"
      ]
    },
    {
      "cell_type": "code",
      "execution_count": null,
      "id": "a35be86a-2aed-4ffd-9a5e-0a0509b3f2ff",
      "metadata": {
        "id": "a35be86a-2aed-4ffd-9a5e-0a0509b3f2ff",
        "outputId": "8f215b37-c7a5-45df-8102-fbfb1009da80"
      },
      "outputs": [
        {
          "name": "stdout",
          "output_type": "stream",
          "text": [
            "the data type of 246.2458 is <class 'str'>\n",
            "the data type of 246.2458 is <class 'float'>\n",
            "the data type of 246 is <class 'int'>\n"
          ]
        }
      ],
      "source": [
        "# 7.\tWrite a Python program to convert (parse) a string to Float or Integer.\n",
        "# Test Data : \"246.2458\"\n",
        "# Expected Output : 246\n",
        "\n",
        "a = \"246.2458\"\n",
        "b = float(a)\n",
        "c = int(b)\n",
        "print('the data type of',a,'is',type(a))\n",
        "print('the data type of',b,'is',type(b))\n",
        "print('the data type of',c,'is',type(c))\n",
        "\n"
      ]
    },
    {
      "cell_type": "code",
      "execution_count": null,
      "id": "afaed4e3-6dc7-400a-9bc5-096bf7851b30",
      "metadata": {
        "id": "afaed4e3-6dc7-400a-9bc5-096bf7851b30",
        "outputId": "ae43f510-1cb3-4d7c-9511-e250843c4722"
      },
      "outputs": [
        {
          "name": "stdin",
          "output_type": "stream",
          "text": [
            "enter a  2\n",
            "enter b  3\n"
          ]
        },
        {
          "name": "stdout",
          "output_type": "stream",
          "text": [
            "3.605551275463989\n"
          ]
        }
      ],
      "source": [
        "# 8.\tWrite a Python program to calculate the hypotenuse of a right angled triangle.\n",
        "# Formulae : c2 = a2 + b2,\n",
        "\n",
        "a = int(input('enter a '))\n",
        "b = int(input('enter b '))\n",
        "\n",
        "c = (a**2 +b**2)**0.5\n",
        "print(c)"
      ]
    },
    {
      "cell_type": "code",
      "execution_count": null,
      "id": "4e6470c8-af0a-4103-a9c1-84cdbbcda3cd",
      "metadata": {
        "id": "4e6470c8-af0a-4103-a9c1-84cdbbcda3cd",
        "outputId": "c6c9e095-dbab-4172-9b30-d890ed4aff1d"
      },
      "outputs": [
        {
          "name": "stdout",
          "output_type": "stream",
          "text": [
            "a 1\n",
            "x 77\n"
          ]
        }
      ],
      "source": [
        "# 9.\tWrite a Python program to swap two variables\n",
        "# Test Data : a = 77, x= 1\n",
        "# Expected Output : a= 1, x=77\n",
        "\n",
        "a=77\n",
        "x=1\n",
        "z=x\n",
        "x=a\n",
        "a=z\n",
        "#a,x=x,a\n",
        "print('a',a)\n",
        "print('x',x)\n"
      ]
    },
    {
      "cell_type": "code",
      "execution_count": null,
      "id": "fc11d3dd-d716-4e31-96ca-72aa333e7728",
      "metadata": {
        "id": "fc11d3dd-d716-4e31-96ca-72aa333e7728",
        "outputId": "779b424b-39ee-4c86-c06c-a1f19d083cf5"
      },
      "outputs": [
        {
          "name": "stdin",
          "output_type": "stream",
          "text": [
            "enter n 2\n"
          ]
        },
        {
          "name": "stdout",
          "output_type": "stream",
          "text": [
            "8\n"
          ]
        }
      ],
      "source": [
        "# 10.\tWrite a Python program to calculate the cube of any number which was taken by input.\n",
        "n=int(input('enter n'))\n",
        "print(n**3)\n"
      ]
    },
    {
      "cell_type": "code",
      "execution_count": null,
      "id": "38d655f6-dc30-4958-a09c-19a999a583a0",
      "metadata": {
        "id": "38d655f6-dc30-4958-a09c-19a999a583a0"
      },
      "outputs": [],
      "source": [
        "#Conditional statement"
      ]
    },
    {
      "cell_type": "code",
      "execution_count": null,
      "id": "ebef7e2a-471b-4d1a-9761-d6cffa5da6a6",
      "metadata": {
        "id": "ebef7e2a-471b-4d1a-9761-d6cffa5da6a6",
        "outputId": "03f58f0e-6af3-42b4-f316-c199780c1c40"
      },
      "outputs": [
        {
          "name": "stdout",
          "output_type": "stream",
          "text": [
            "hello\n",
            "hiii\n",
            "heyy\n"
          ]
        }
      ],
      "source": [
        "print('hello')\n",
        "print('hiii')\n",
        "print('heyy')"
      ]
    },
    {
      "cell_type": "code",
      "execution_count": null,
      "id": "6bb9cd9c-1f11-427e-9fea-e4cda2a19030",
      "metadata": {
        "id": "6bb9cd9c-1f11-427e-9fea-e4cda2a19030"
      },
      "outputs": [],
      "source": [
        "if condition:\n",
        "    stmnt\n",
        "else:\n",
        "    stmmt"
      ]
    },
    {
      "cell_type": "code",
      "execution_count": null,
      "id": "6897ed04-715d-476d-be5b-7feb877c2993",
      "metadata": {
        "id": "6897ed04-715d-476d-be5b-7feb877c2993",
        "outputId": "b560a960-66fd-413e-d86a-7f003b7d6847"
      },
      "outputs": [
        {
          "name": "stdin",
          "output_type": "stream",
          "text": [
            "enter n  4\n"
          ]
        },
        {
          "name": "stdout",
          "output_type": "stream",
          "text": [
            "4 is positive\n"
          ]
        }
      ],
      "source": [
        "n = int(input('enter n '))\n",
        "if n > 0:\n",
        "    print(n,'is positive')\n",
        "\n",
        "else:\n",
        "    print(n,'is negative')\n"
      ]
    },
    {
      "cell_type": "code",
      "execution_count": null,
      "id": "dbe55ae1-f899-4ca5-9449-15b7fe25f230",
      "metadata": {
        "id": "dbe55ae1-f899-4ca5-9449-15b7fe25f230",
        "outputId": "46032aef-bf43-4bce-9f29-7ae3528d8294"
      },
      "outputs": [
        {
          "name": "stdin",
          "output_type": "stream",
          "text": [
            "enter n  4\n"
          ]
        },
        {
          "name": "stdout",
          "output_type": "stream",
          "text": [
            "4 is even\n"
          ]
        }
      ],
      "source": [
        "n = int(input('enter n '))\n",
        "if n%2==0:\n",
        "    print(n,'is even')\n",
        "else:\n",
        "    print(n,'is odd')"
      ]
    },
    {
      "cell_type": "code",
      "execution_count": null,
      "id": "3510851f-54c7-4961-b13e-08ed0c9d7c6a",
      "metadata": {
        "id": "3510851f-54c7-4961-b13e-08ed0c9d7c6a"
      },
      "outputs": [],
      "source": [
        "# multiple conditions\n",
        "\n",
        "# if con:\n",
        "#     stmnt\n",
        "\n",
        "# elif con:\n",
        "#     stmnt\n",
        "\n",
        "# elif con:\n",
        "#     stmnt\n",
        "\n",
        "# else:\n",
        "#     stmnt"
      ]
    },
    {
      "cell_type": "code",
      "execution_count": null,
      "id": "5d4fd8bd-8168-4837-bf75-e81752188644",
      "metadata": {
        "id": "5d4fd8bd-8168-4837-bf75-e81752188644",
        "outputId": "2b6d9459-7684-421b-80be-51bd61ca8942"
      },
      "outputs": [
        {
          "name": "stdin",
          "output_type": "stream",
          "text": [
            "enter a  4\n",
            "enter b  6\n"
          ]
        },
        {
          "name": "stdout",
          "output_type": "stream",
          "text": [
            "6 is greater than 4\n"
          ]
        }
      ],
      "source": [
        "a =int(input('enter a '))\n",
        "b = int(input('enter b '))\n",
        "\n",
        "if a>b:\n",
        "    print(a,'is greater than',b)\n",
        "elif a==b:\n",
        "    print(a,'is equal to',b)\n",
        "else:\n",
        "    print(b,'is greater than',a)"
      ]
    },
    {
      "cell_type": "code",
      "execution_count": null,
      "id": "b1cff5b5-5334-4254-8f2f-1e65f1650244",
      "metadata": {
        "id": "b1cff5b5-5334-4254-8f2f-1e65f1650244",
        "outputId": "902fc991-7cc9-43b8-f09d-d8872ebb4005"
      },
      "outputs": [
        {
          "name": "stdin",
          "output_type": "stream",
          "text": [
            "enter n  0\n"
          ]
        },
        {
          "name": "stdout",
          "output_type": "stream",
          "text": [
            "0 is neutral \n"
          ]
        }
      ],
      "source": [
        "n=int(input('enter n '))\n",
        "\n",
        "if n>0:\n",
        "    print(n,'is +ve')\n",
        "elif n==0:\n",
        "    print(n,'is neutral ')\n",
        "else:\n",
        "    print(n,'is -ve')"
      ]
    },
    {
      "cell_type": "code",
      "execution_count": null,
      "id": "306181de-6fa7-4f05-8384-f7af2565cf6f",
      "metadata": {
        "id": "306181de-6fa7-4f05-8384-f7af2565cf6f",
        "outputId": "4cebac58-787f-479f-d5d7-a85b783b7a84"
      },
      "outputs": [
        {
          "name": "stdin",
          "output_type": "stream",
          "text": [
            "entrer alpahbet   k\n"
          ]
        },
        {
          "name": "stdout",
          "output_type": "stream",
          "text": [
            "consonants\n"
          ]
        }
      ],
      "source": [
        "n=input('entrer alpahbet  ')\n",
        "\n",
        "if n=='a' or n=='e' or n=='i' or n=='u' or n=='o':\n",
        "    print('vowels')\n",
        "else:\n",
        "    print('consonants')"
      ]
    },
    {
      "cell_type": "code",
      "execution_count": null,
      "id": "9ebb1fd2-cd34-4c43-821a-1d8b1032b53b",
      "metadata": {
        "id": "9ebb1fd2-cd34-4c43-821a-1d8b1032b53b",
        "outputId": "5850607f-4eda-43df-ba8f-56dfc9c18392"
      },
      "outputs": [
        {
          "name": "stdin",
          "output_type": "stream",
          "text": [
            "enter a  4\n",
            "enter b  5\n",
            "enter operator  +\n"
          ]
        },
        {
          "name": "stdout",
          "output_type": "stream",
          "text": [
            "9\n"
          ]
        }
      ],
      "source": [
        "a =int(input('enter a '))\n",
        "b = int(input('enter b '))\n",
        "\n",
        "c = input('enter operator ')\n",
        "\n",
        "if c =='+':\n",
        "    print(a+b)\n",
        "\n",
        "elif c=='-':\n",
        "    print(a-b)\n",
        "\n",
        "elif c=='*':\n",
        "    print(a*b)\n",
        "\n",
        "else:\n",
        "    print('invalid')"
      ]
    },
    {
      "cell_type": "code",
      "execution_count": null,
      "id": "6b6e6348-c7b5-4111-9294-fbeb2bb87675",
      "metadata": {
        "id": "6b6e6348-c7b5-4111-9294-fbeb2bb87675",
        "outputId": "e0246e2c-1cb5-4360-a589-acd4f8fc105e"
      },
      "outputs": [
        {
          "name": "stdin",
          "output_type": "stream",
          "text": [
            "enter a  4\n",
            "enter b  5\n",
            "enter c 1\n"
          ]
        },
        {
          "name": "stdout",
          "output_type": "stream",
          "text": [
            "5 is greater than 4 and 1\n"
          ]
        }
      ],
      "source": [
        "a =int(input('enter a '))\n",
        "b = int(input('enter b '))\n",
        "c = int(input('enter c'))\n",
        "\n",
        "if a>b and  a>c:\n",
        "    print(a,'is greater than',b,'and',c)\n",
        "\n",
        "elif b>a and b>c:\n",
        "    print(b,'is greater than',a,'and',c)\n",
        "\n",
        "else:\n",
        "    print(c,'is greater than',a,'and',b)\n"
      ]
    },
    {
      "cell_type": "code",
      "execution_count": null,
      "id": "32cbbc33-ae6a-48e6-811a-462cd212a9e0",
      "metadata": {
        "id": "32cbbc33-ae6a-48e6-811a-462cd212a9e0"
      },
      "outputs": [],
      "source": [
        "# m = ?\n",
        "# M 90- 100 A\n",
        "# M 70 - 90 B\n",
        "# M 50 70 C\n",
        "# M 30-50 D\n",
        "# M leeser than 30 E"
      ]
    },
    {
      "cell_type": "code",
      "execution_count": null,
      "id": "026c50c9-8f7d-4e45-b187-fe142cc234da",
      "metadata": {
        "id": "026c50c9-8f7d-4e45-b187-fe142cc234da",
        "outputId": "793b28a2-30f2-4ddf-d2d3-c38b56cb0ed1"
      },
      "outputs": [
        {
          "name": "stdin",
          "output_type": "stream",
          "text": [
            "enter marks  54\n"
          ]
        },
        {
          "name": "stdout",
          "output_type": "stream",
          "text": [
            "C\n"
          ]
        }
      ],
      "source": [
        "m=int(input('enter marks '))\n",
        "if m>90 and m<=100:\n",
        "    print('A')\n",
        "elif m>70 and m<=90:\n",
        "    print('B')\n",
        "elif m>50 and m<=70:\n",
        "    print('C')\n",
        "elif m>30 and m<=50:\n",
        "    print('D')\n",
        "else:\n",
        "    print('E')"
      ]
    },
    {
      "cell_type": "code",
      "execution_count": null,
      "id": "b743f722-5aa3-41fe-8737-05dc68a68ddf",
      "metadata": {
        "id": "b743f722-5aa3-41fe-8737-05dc68a68ddf"
      },
      "outputs": [],
      "source": [
        "#day =?\n",
        "# saaturday, sunday ---- Weekend\n",
        "# monday ,tuesday , wednesday ---------- Weekday\n",
        "# invalid"
      ]
    },
    {
      "cell_type": "code",
      "execution_count": null,
      "id": "c7724482-1eff-4558-a409-63c7ae547dd6",
      "metadata": {
        "id": "c7724482-1eff-4558-a409-63c7ae547dd6",
        "outputId": "d9dc0adf-68dd-468a-b683-01cc77f781b0"
      },
      "outputs": [
        {
          "name": "stdin",
          "output_type": "stream",
          "text": [
            "enter day  tuesday\n"
          ]
        },
        {
          "name": "stdout",
          "output_type": "stream",
          "text": [
            "Weekday\n"
          ]
        }
      ],
      "source": [
        "day = input('enter day ')\n",
        "\n",
        "if day=='sunday' or day=='saturday':\n",
        "    print('Weekend')\n",
        "\n",
        "elif day=='monday' or day=='tuesday' or day=='wednesday':\n",
        "    print('Weekday')\n",
        "\n",
        "\n",
        "\n",
        "else:\n",
        "    print('invalid')"
      ]
    },
    {
      "cell_type": "code",
      "execution_count": null,
      "id": "b324dd47-14bb-4615-ac07-a8f644410970",
      "metadata": {
        "id": "b324dd47-14bb-4615-ac07-a8f644410970"
      },
      "outputs": [],
      "source": [
        "# sal = ?\n",
        "# sal 25k lesser 0%Tax --------Net sal\n",
        "# sal 25k-----50k ----10%tax---------Net sal\n",
        "# sal 50K---------100k---------20%tax-------Net sal\n",
        "# sal 100k greagte -----------50% tax ----------Net sal"
      ]
    },
    {
      "cell_type": "code",
      "execution_count": null,
      "id": "2da9ab68-2f1b-4ac4-afe5-e370f869b151",
      "metadata": {
        "id": "2da9ab68-2f1b-4ac4-afe5-e370f869b151",
        "outputId": "013bdbbd-09bf-4d17-b3c7-45000a900598"
      },
      "outputs": [
        {
          "name": "stdin",
          "output_type": "stream",
          "text": [
            "enter sal  200000\n"
          ]
        },
        {
          "name": "stdout",
          "output_type": "stream",
          "text": [
            "Net salary 100000.0\n"
          ]
        }
      ],
      "source": [
        "sal = int(input('enter sal '))\n",
        "\n",
        "if sal<25000:\n",
        "    print('Net salary',sal-(sal*0)/100)\n",
        "elif sal>=25000 and sal <50000:\n",
        "    print('Net salary',sal-(sal*10)/100)\n",
        "\n",
        "elif sal >=50000 and sal <=100000:\n",
        "    print('Net salary',sal-(sal*20)/100)\n",
        "else:\n",
        "    print('Net salary',sal-(sal*50)/100)"
      ]
    },
    {
      "cell_type": "code",
      "execution_count": null,
      "id": "d57f6a64-5455-4b5b-bf9f-11f4f5bdaa6e",
      "metadata": {
        "id": "d57f6a64-5455-4b5b-bf9f-11f4f5bdaa6e"
      },
      "outputs": [],
      "source": [
        "# n= ?\n",
        "# n - 5 , 7 divibly by both 5 and 7\n",
        "# n - 5 divi by only 5\n",
        "# n - 7 divi by 7 only\n",
        "# none of them"
      ]
    },
    {
      "cell_type": "code",
      "execution_count": null,
      "id": "21aca072-0ba2-47c2-9b5f-8a42c00ee902",
      "metadata": {
        "id": "21aca072-0ba2-47c2-9b5f-8a42c00ee902",
        "outputId": "d3d1c338-74fe-412d-d0db-10f3ea985f58"
      },
      "outputs": [
        {
          "name": "stdin",
          "output_type": "stream",
          "text": [
            "enter n  6\n"
          ]
        },
        {
          "name": "stdout",
          "output_type": "stream",
          "text": [
            "NOne of them\n"
          ]
        }
      ],
      "source": [
        "n = int(input('enter n '))\n",
        "\n",
        "if n%5==0 and n%7==0:\n",
        "    print(n,'is div by both 5 and 7')\n",
        "\n",
        "elif n%5==0:\n",
        "    print(n,'is divi by 5 only')\n",
        "elif n%7==0:\n",
        "    print(n,'is divi by 7 only')\n",
        "\n",
        "else:\n",
        "    print('NOne of them')"
      ]
    },
    {
      "cell_type": "code",
      "execution_count": null,
      "id": "0d6b29f4-3aef-4b96-b215-d5cf7e0a9b2c",
      "metadata": {
        "id": "0d6b29f4-3aef-4b96-b215-d5cf7e0a9b2c"
      },
      "outputs": [],
      "source": [
        "# Nested Conditions\n",
        "# if con:\n",
        "#     if con:\n",
        "#         stmnt\n",
        "#     elif con:\n",
        "#         stmnt\n",
        "#     else:\n",
        "#         stmnt\n",
        "# elif con:\n",
        "#     if con:\n",
        "#         stmnt\n",
        "#     elif con:\n",
        "#         stmnt\n",
        "#     else:\n",
        "#         stmnt\n",
        "# else:\n",
        "#     if con:\n",
        "#         stmnt\n",
        "#     elif con:\n",
        "#         stmnt\n",
        "#     else:\n",
        "#         stmnt"
      ]
    },
    {
      "cell_type": "code",
      "execution_count": null,
      "id": "608d1c85-8670-4b43-9121-ebde072dc763",
      "metadata": {
        "id": "608d1c85-8670-4b43-9121-ebde072dc763",
        "outputId": "9e30f1f6-e40c-4adf-da67-d3b905d35c27"
      },
      "outputs": [
        {
          "name": "stdin",
          "output_type": "stream",
          "text": [
            "enter n  28\n"
          ]
        },
        {
          "name": "stdout",
          "output_type": "stream",
          "text": [
            "28 is divisbly by 7 only\n"
          ]
        }
      ],
      "source": [
        "n = int(input('enter n '))\n",
        "if n%5==0:\n",
        "    if n%7==0:\n",
        "        print(n,'is divisblr by both 5 and 7 ')\n",
        "    else:\n",
        "        print(n,'is divisbly by 5 only')\n",
        "\n",
        "elif n%7==0:\n",
        "    print(n,'is divisbly by 7 only')\n",
        "\n",
        "else:\n",
        "    print('None ofd them')"
      ]
    },
    {
      "cell_type": "code",
      "execution_count": null,
      "id": "11343251-cbe7-40ae-99dd-decb967e3732",
      "metadata": {
        "id": "11343251-cbe7-40ae-99dd-decb967e3732"
      },
      "outputs": [],
      "source": [
        "# w=?\n",
        "# sunny temp - 30 - 50 Play otherwise not play\n",
        "# winter temp 10 - 20  play otherwise not play\n",
        "# rainy con - heavy Not play otherwise play\n",
        "# invalid"
      ]
    },
    {
      "cell_type": "code",
      "execution_count": null,
      "id": "a79c43cb-88c8-4d02-b822-d085a6928b50",
      "metadata": {
        "id": "a79c43cb-88c8-4d02-b822-d085a6928b50",
        "outputId": "0fb52223-88d7-4241-f217-17cea3638c42"
      },
      "outputs": [
        {
          "name": "stdin",
          "output_type": "stream",
          "text": [
            "enter weather  winter\n",
            "enter temp  5\n"
          ]
        },
        {
          "name": "stdout",
          "output_type": "stream",
          "text": [
            "Not Play\n"
          ]
        }
      ],
      "source": [
        "w =input('enter weather ')\n",
        "if w =='sunny':\n",
        "    t = int(input('enter temp '))\n",
        "    if t>=30 and t<=50:\n",
        "        print('Play')\n",
        "    else:\n",
        "        print('Not Play')\n",
        "\n",
        "elif w=='winter':\n",
        "    t = int(input('enter temp '))\n",
        "    if t>=10 and t<=20:\n",
        "        print('Play')\n",
        "    else:\n",
        "        print('Not Play')\n",
        "\n",
        "elif w=='rainy':\n",
        "    c = input('enter rainy conditon ')\n",
        "    if c=='heavy':\n",
        "        print('Not Play')\n",
        "    else:\n",
        "        print('Play')\n",
        "else:\n",
        "    print('invalid')\n"
      ]
    },
    {
      "cell_type": "code",
      "execution_count": null,
      "id": "63f94d36-9d91-43dc-9436-102b4a6ee2f9",
      "metadata": {
        "id": "63f94d36-9d91-43dc-9436-102b4a6ee2f9"
      },
      "outputs": [],
      "source": [
        "# n =?\n",
        "# n is odd then it display Weired\n",
        "# n is even also in between 2 to 5 then it display Not weired\n",
        "# n is even also in between 5 to 20 then it display Weired\n",
        "# n is even also greater than 20 then it display Not weired"
      ]
    },
    {
      "cell_type": "code",
      "execution_count": null,
      "id": "c88dcc5b-0e0d-447d-ae0e-bdc82fd32be9",
      "metadata": {
        "id": "c88dcc5b-0e0d-447d-ae0e-bdc82fd32be9",
        "outputId": "3186fd61-4955-4705-a907-24b5f4646871"
      },
      "outputs": [
        {
          "name": "stdin",
          "output_type": "stream",
          "text": [
            "enter n  18\n"
          ]
        },
        {
          "name": "stdout",
          "output_type": "stream",
          "text": [
            "Weired\n"
          ]
        }
      ],
      "source": [
        "n= int(input('enter n '))\n",
        "if n%2!=0:\n",
        "    print('Weired')\n",
        "\n",
        "else:\n",
        "    if n>=2 and n<5:\n",
        "        print('Nort weired')\n",
        "    elif n>5 and n<=20:\n",
        "        print('Weired')\n",
        "    else:\n",
        "        print('Not weired')"
      ]
    },
    {
      "cell_type": "code",
      "execution_count": null,
      "id": "5c7f09ac-8b17-49d3-a694-6c3111eb32af",
      "metadata": {
        "id": "5c7f09ac-8b17-49d3-a694-6c3111eb32af"
      },
      "outputs": [],
      "source": [
        "# order =?\n",
        "# pizza - top =? vegiies , corn ,cheese\n",
        "# burger - cat - veg , non - veg"
      ]
    },
    {
      "cell_type": "code",
      "execution_count": null,
      "id": "aeafc96d-93d4-4747-82c7-2ceddb503d79",
      "metadata": {
        "id": "aeafc96d-93d4-4747-82c7-2ceddb503d79",
        "outputId": "0f6d885e-c8ea-46ea-db3e-44fbf571a44d"
      },
      "outputs": [
        {
          "name": "stdout",
          "output_type": "stream",
          "text": [
            "Available Items pizza, burger , pasta\n"
          ]
        },
        {
          "name": "stdin",
          "output_type": "stream",
          "text": [
            "enter place your order  pasta\n"
          ]
        },
        {
          "name": "stdout",
          "output_type": "stream",
          "text": [
            "pasta not in a menu\n"
          ]
        }
      ],
      "source": [
        "print('Available Items pizza, burger , pasta')\n",
        "order = input('enter place your order ')\n",
        "if order == 'pizza':\n",
        "\n",
        "    top=input('select toppings veggies , corn , cheese ')\n",
        "\n",
        "    if top=='veggies':\n",
        "        print('your',top,order,'price is 120')\n",
        "    elif top=='corn':\n",
        "        print('your',top,order,'price is 150')\n",
        "    elif order=='cheese':\n",
        "        print('youir',top,order,'price is 180')\n",
        "    else:\n",
        "        print(top,order,'is not availablr')\n",
        "\n",
        "elif order =='burger':\n",
        "    cat = input('select category ')\n",
        "\n",
        "    if cat=='veg':\n",
        "        print('your',cat,order,'price is 80 ')\n",
        "\n",
        "    else:\n",
        "        print('your',cat,order,'price is 140')\n",
        "\n",
        "\n",
        "else:\n",
        "    print(order,'not in a menu')"
      ]
    },
    {
      "cell_type": "code",
      "execution_count": null,
      "id": "d637cd72-76f2-4d11-b330-90b10d8d5a25",
      "metadata": {
        "id": "d637cd72-76f2-4d11-b330-90b10d8d5a25"
      },
      "outputs": [],
      "source": [
        "# pin = ? # 1234\n",
        "# bal = 1000\n",
        "\n",
        "# press 1 for check balance\n",
        "# press 2 for deposit\n",
        "# press 3 for withdrawl\n",
        "\n",
        "# opt = ? 1\n",
        "# opt = 2 amt =?\n",
        "# opt = 3 amt =?\n",
        "# opt 45\n",
        "# incorrect pin"
      ]
    },
    {
      "cell_type": "code",
      "execution_count": null,
      "id": "2e0c5955-b897-4a6e-8e21-4d74401cd161",
      "metadata": {
        "id": "2e0c5955-b897-4a6e-8e21-4d74401cd161",
        "outputId": "8dcaeba4-000d-4dd3-e227-addcae70873b"
      },
      "outputs": [
        {
          "name": "stdout",
          "output_type": "stream",
          "text": [
            "Welcome to SBI ATM \n"
          ]
        },
        {
          "name": "stdin",
          "output_type": "stream",
          "text": [
            "enter pin  1234\n"
          ]
        },
        {
          "name": "stdout",
          "output_type": "stream",
          "text": [
            "Press 1 for check bal \n",
            "Press 2 for Deposit\n",
            "Press 3 for withdrawl\n"
          ]
        },
        {
          "name": "stdin",
          "output_type": "stream",
          "text": [
            "Press the button  3\n",
            "enter amt to withdrawl  4578903\n"
          ]
        },
        {
          "name": "stdout",
          "output_type": "stream",
          "text": [
            "Insufficient amount\n"
          ]
        }
      ],
      "source": [
        "print('Welcome to SBI ATM ')\n",
        "bal = 1000\n",
        "pin=int(input('enter pin '))\n",
        "\n",
        "if pin==1234:\n",
        "    print('Press 1 for check bal ')\n",
        "    print('Press 2 for Deposit')\n",
        "    print('Press 3 for withdrawl')\n",
        "\n",
        "    opt = int(input('Press the button '))\n",
        "    if opt == 1:\n",
        "        print('your current balanace is',bal)\n",
        "\n",
        "    elif opt==2:\n",
        "        amt = int(input('enter amount to depsoit '))\n",
        "        print('your final balance is',bal+amt)\n",
        "\n",
        "    elif opt==3:\n",
        "        amt=int(input('enter amt to withdrawl '))\n",
        "        if amt <=bal:\n",
        "            print('your finala balance is',bal-amt)\n",
        "        else:\n",
        "            print('Insufficient amount')\n",
        "\n",
        "    else:\n",
        "        print('Not an optiuon')\n",
        "\n",
        "else:\n",
        "    print('Incorrect pin')"
      ]
    },
    {
      "cell_type": "code",
      "execution_count": null,
      "id": "b55f81f7-2015-4a24-8043-bb0a5bac7dd5",
      "metadata": {
        "id": "b55f81f7-2015-4a24-8043-bb0a5bac7dd5"
      },
      "outputs": [],
      "source": [
        "# Assignment 2"
      ]
    },
    {
      "cell_type": "code",
      "execution_count": null,
      "id": "43675689-e087-48c3-b454-15df8309917b",
      "metadata": {
        "id": "43675689-e087-48c3-b454-15df8309917b",
        "outputId": "fab4891f-ba0c-4e55-cbf2-64cb45cdb294"
      },
      "outputs": [
        {
          "name": "stdin",
          "output_type": "stream",
          "text": [
            "enter n 3\n"
          ]
        },
        {
          "name": "stdout",
          "output_type": "stream",
          "text": [
            "positive\n"
          ]
        }
      ],
      "source": [
        "# 1.\twrite a program to check the number is positive or negative or zero\n",
        "#Check if a number is positive, negative, or zero\n",
        "n = int(input('enter n'))\n",
        "if n>0:\n",
        "  print('positive')\n",
        "elif n<0:\n",
        "   print('negative')\n",
        "else:\n",
        "   print('zero')"
      ]
    },
    {
      "cell_type": "code",
      "execution_count": null,
      "id": "9df9570f-11fb-443c-9d14-197e6d8af8e1",
      "metadata": {
        "id": "9df9570f-11fb-443c-9d14-197e6d8af8e1",
        "outputId": "36aa9f83-ee72-4c20-d944-cc0912a05fb8"
      },
      "outputs": [
        {
          "name": "stdin",
          "output_type": "stream",
          "text": [
            "enter username bhavna\n",
            "enter password bhavna124\n"
          ]
        },
        {
          "name": "stdout",
          "output_type": "stream",
          "text": [
            "invalid username and password\n"
          ]
        }
      ],
      "source": [
        "# 2.\twrite a program to take a username and password from the user and if it matches with 'pramod123' and '123456789'. welcome to the website else report invalid username and password\n",
        "#Username and password check\n",
        "username =input('enter username')\n",
        "password =input('enter password')\n",
        "\n",
        "if username =='pramod123' and password =='123456789':\n",
        "    print('welcome to the website')\n",
        "else:\n",
        "    print('invalid username and password')"
      ]
    },
    {
      "cell_type": "code",
      "execution_count": null,
      "id": "ff9e0e51-b739-41b5-9eec-3211e71e76f8",
      "metadata": {
        "id": "ff9e0e51-b739-41b5-9eec-3211e71e76f8",
        "outputId": "f8c775a2-c60c-4715-fc10-fb35d27266cc"
      },
      "outputs": [
        {
          "name": "stdin",
          "output_type": "stream",
          "text": [
            "enter n -9\n"
          ]
        },
        {
          "name": "stdout",
          "output_type": "stream",
          "text": [
            "More than three digit number\n"
          ]
        }
      ],
      "source": [
        "# 3 The given number is of one digited or two digited or three digited or more than three digited..\n",
        "# INPUT: 945\n",
        "# OUTPUT: Three digit number\n",
        "#Digit check (one, two, three, or more digits)\n",
        "#method1\n",
        "# n=int(input('enter n'))\n",
        "\n",
        "# if -9<=n<=9:\n",
        "#       print('one digit n')\n",
        "# elif -99<=n<=99:\n",
        "#       print('two digit n')\n",
        "# elif  -999 <=n<=999:\n",
        "#       print('three digit n')\n",
        "# else :\n",
        "#       print('more than three digit number')\n",
        "\n",
        "\n",
        "#method 2\n",
        "n=int(input('enter n'))\n",
        "if n>0 and n<10:\n",
        "    print('one digit number')\n",
        "elif n>=10 and n<100:\n",
        "    print('two digit number')\n",
        "elif n>=100 and n<1000:\n",
        "    print('three digit number')\n",
        "else:\n",
        "    print('More than three digit number')"
      ]
    },
    {
      "cell_type": "code",
      "execution_count": null,
      "id": "19dc69b1-9d92-4df4-b221-7f6a59e22635",
      "metadata": {
        "id": "19dc69b1-9d92-4df4-b221-7f6a59e22635",
        "outputId": "127bd4ec-2f77-46af-ebf3-82d9202aa111"
      },
      "outputs": [
        {
          "name": "stdin",
          "output_type": "stream",
          "text": [
            "enter n 999\n"
          ]
        },
        {
          "name": "stdout",
          "output_type": "stream",
          "text": [
            "it is not the smallest 4-digit number\n"
          ]
        }
      ],
      "source": [
        "# 4.\tWrite a python program to check The entered number is smallest 4 digit number or not..\n",
        "n=int(input('enter n'))\n",
        "if n==1000:\n",
        "    print('it is the smallest 4-digit number')\n",
        "else:\n",
        "    print('it is not the smallest 4-digit number')"
      ]
    },
    {
      "cell_type": "code",
      "execution_count": null,
      "id": "85193b2f-024b-447c-9c91-43ee6a0c4832",
      "metadata": {
        "id": "85193b2f-024b-447c-9c91-43ee6a0c4832",
        "outputId": "3adcf8a1-a878-4ac0-d5a8-3b6923def038"
      },
      "outputs": [
        {
          "name": "stdin",
          "output_type": "stream",
          "text": [
            "enter first number 8\n",
            "enter second number 99\n",
            "enter third number 56\n"
          ]
        },
        {
          "name": "stdout",
          "output_type": "stream",
          "text": [
            "largest number is 99\n"
          ]
        }
      ],
      "source": [
        "# 5.\tWrite a python program to take the three numbers as input and find the largest number.\n",
        "#find the largest among three numbers\n",
        "a= int(input('enter first number'))\n",
        "b=int(input('enter second number'))\n",
        "c=int(input('enter third number'))\n",
        "\n",
        "if a>=b and a>=c:\n",
        "      print('largest number is',a)\n",
        "elif b>=c:\n",
        "     print('largest number is',b)\n",
        "else:\n",
        "     print('largest number is',c)\n",
        "\n",
        "\n",
        "#Quues a,b,c input greater no.\n",
        "if a>b and a>c:\n",
        "    print(a,'is greater')\n",
        "elif b>s and b>c:\n",
        "    print(b,'is greater')\n",
        "else:\n",
        "    print(c,'is greater')\n",
        "\n",
        "#ques the givn number is divisible by 5\n",
        "n= int(input('enter n'))\n",
        "if n%5==0:\n",
        "    print('No. is div by 5')\n",
        "else:\n",
        "    print('no. is div by 5')\n",
        "\n",
        "\n",
        "#ques find maximum number  out of given three numbers.\n",
        "n1= int(input('enter n1'))\n",
        "n2= int(input('enter n2'))\n",
        "n3= int(input('enter n3'))\n",
        "if n1>n2 and n1>n3:\n",
        "    print('No.1 is max ')\n",
        "elif n2>n1 and n2>n3:\n",
        "    print('No.2 is max' )\n",
        "elif n3>n1 and n3>n2:\n",
        "    print('No.3 is max' )\n",
        "else:\n",
        "    print('All are equal')\n"
      ]
    },
    {
      "cell_type": "code",
      "execution_count": null,
      "id": "e7258991-5d74-4844-9173-116fe3c618a4",
      "metadata": {
        "id": "e7258991-5d74-4844-9173-116fe3c618a4",
        "outputId": "e1afb186-a5ad-4d9a-a704-ea08233b48e4"
      },
      "outputs": [
        {
          "name": "stdin",
          "output_type": "stream",
          "text": [
            "enter side a 2\n",
            "enter side b 3\n",
            "enter side c 4\n"
          ]
        },
        {
          "name": "stdout",
          "output_type": "stream",
          "text": [
            "These can form a triangle\n"
          ]
        }
      ],
      "source": [
        "# 6.\tWrite a python  program that reads three positive numbers a, b, c and determines whether they can form the three sides of a triangle.\n",
        "# HINT: in triangle the sum of two side is greater than third side\n",
        "\n",
        "#Check if three numbers can form a triangle\n",
        "a=int(input('enter side a'))\n",
        "b=int(input('enter side b'))\n",
        "c=int(input('enter side c'))\n",
        "\n",
        "if a+b>c and a+c>b and b+c>a:\n",
        "    print('These can form a triangle')\n",
        "else:\n",
        "    print('cannot form a triangle')\n"
      ]
    },
    {
      "cell_type": "code",
      "execution_count": null,
      "id": "665a642d-d2d8-46ec-8f2b-a3540765faec",
      "metadata": {
        "id": "665a642d-d2d8-46ec-8f2b-a3540765faec",
        "outputId": "6c224919-b1bb-498d-9163-4aacc0248dfe"
      },
      "outputs": [
        {
          "name": "stdin",
          "output_type": "stream",
          "text": [
            "enter no1 3\n",
            "enter no1 7\n",
            "enter no1 5\n"
          ]
        },
        {
          "name": "stdout",
          "output_type": "stream",
          "text": [
            "Obtuse-angled Triangle\n"
          ]
        }
      ],
      "source": [
        "# 7.\twrite a python to check  Whether the triangle will be an obtuse-angle, or a right-angle or an acute-angle triangle.\n",
        "# HINT:\n",
        "# In Right angle triangle the square of the length of the longest side of a triangle is equal to the sum of the squares of the other two sides\n",
        "\n",
        "# In Obtuse Triangle  the sum of the squares of the two shorter sides of a triangle is smaller than the square of the longest side, the triangle is obtuse.\n",
        "\n",
        "# In Acute angle triangle the sum of the squares of the two shorter sides of a triangle is greater than the square of the longest side, the triangle is acute\n",
        "\n",
        "a=int(input('enter no1'))\n",
        "b=int(input('enter no1'))\n",
        "c=int(input('enter no1'))\n",
        "square_a =a**2\n",
        "square_b = b**2\n",
        "square_c = c**2\n",
        "if square_a == square_c + square_b or  square_b == square_a + square_c or square_c == square_a + square_b:\n",
        "    print('Right-angled Triangle') #3,4,5\n",
        "elif square_a > square_c + square_b or  square_b > square_a + square_c or  square_c > square_a + square_b:\n",
        "    print('Obtuse-angled Triangle') #2,3,4\n",
        "else:\n",
        "    print('Acute-angled Triangle') #7,8,9"
      ]
    },
    {
      "cell_type": "code",
      "execution_count": null,
      "id": "dc73e9cd-0814-45c5-987c-1928933c449e",
      "metadata": {
        "id": "dc73e9cd-0814-45c5-987c-1928933c449e",
        "outputId": "53524068-93af-46bb-b56b-3da3949aa5cf"
      },
      "outputs": [
        {
          "name": "stdin",
          "output_type": "stream",
          "text": [
            "enter side a 3\n",
            "enter side b 4\n",
            "enter side c 2\n"
          ]
        },
        {
          "name": "stdout",
          "output_type": "stream",
          "text": [
            "Scalene triangle\n"
          ]
        }
      ],
      "source": [
        "# 8.\tWrite a python program  to check the triangle , is equilateral, isosceles, or scalene.\n",
        "# HINT:\n",
        "# In Equilateral triangle all three sides are equal\n",
        "# In isosceles triangle any two side are equal\n",
        "# In scalene triangle all three side are unequal\n",
        "\n",
        "#Check if triangle is equilateral,isosceles,or scalene\n",
        "\n",
        "a=int(input('enter side a'))\n",
        "b=int(input('enter side b'))\n",
        "c=int(input('enter side c'))\n",
        "\n",
        "if a==b==c:\n",
        "    print('Equilateral triangle')\n",
        "elif  a==b or b==c or a==c:\n",
        "    print('Isosceles triangle')\n",
        "else:\n",
        "    print('Scalene triangle')"
      ]
    },
    {
      "cell_type": "code",
      "execution_count": null,
      "id": "de30f9e5-1c55-4353-ba97-685d22a476d1",
      "metadata": {
        "id": "de30f9e5-1c55-4353-ba97-685d22a476d1",
        "outputId": "7bde4cf3-a72c-44bb-a89e-25cb1abcf8b6"
      },
      "outputs": [
        {
          "name": "stdin",
          "output_type": "stream",
          "text": [
            "enter product code (1-Battery,2-key,3-Electrical 12\n",
            "enter order amount 23\n"
          ]
        },
        {
          "name": "stdout",
          "output_type": "stream",
          "text": [
            "Net amount to pay :Rs 23.0\n"
          ]
        }
      ],
      "source": [
        "# 9.\tA toy vendor supplies three types of toys: Battery Based Toys, Key-based Toys, and Electrical Charging Based Toys.\n",
        "#The vendor gives a discount of 10% on orders for battery-based toys if the order is for more than Rs. 1000.\n",
        "#On orders of more than Rs. 100\n",
        "#for key-based toys, a discount of 5% is given, and a discount of 10% is given on orders for electrical charging based toys of value more than Rs. 500.\n",
        "#Assume that the numeric codes 1,2 and 3 are used for battery based toys, key-based toys, and electrical charging based toys respectively.\n",
        "#Write a program that reads the product code and the order amount and prints out the net amount that the customer is required to pay after the discount.\n",
        "#Top vender discount calcultion\n",
        "code=int(input('enter product code (1-Battery,2-key,3-Electrical'))\n",
        "amount =float(input('enter order amount'))\n",
        "\n",
        "if code ==1 and amount >1000:\n",
        "    discount =amount *0.10\n",
        "elif code ==2 and amount>100:\n",
        "    discount =amount>0.05\n",
        "elif code ==3 and amount >500:\n",
        "    discount =amount>0.10\n",
        "else:\n",
        "    discount =0\n",
        "net_amount =amount -discount\n",
        "print('Net amount to pay :Rs',net_amount)\n",
        "\n",
        "#Method2\n",
        "print('Press 1. For Battery based Toys')\n",
        "print('Press 2. For Key based Toys')\n",
        "print('Press 3. Electric chargin based Toy')\n",
        "opt =int(input('Enter the product code (1-Battery,2-key,3-Electrical'))\n",
        "amount =float(input('enter order amount'))\n",
        "\n",
        "if opt==1:\n",
        "    print('you have selected a battery based toy')\n",
        "    if amt>1000:\n",
        "          dis = amt * 0.1\n",
        "    else:\n",
        "        dis = 0\n",
        "elif opt==2:\n",
        "     if amt>100:\n",
        "          dis = amt * 0.05\n",
        "    else:\n",
        "        dis = 0\n",
        "elif opt==3:\n",
        "     if amt>500:\n",
        "          dis = amt * 0.1\n",
        "    else:\n",
        "        dis = 0\n",
        "else:\n",
        "     print('Product is not avaiabe')\n",
        "bill_amt = amt - dis\n",
        "print('Customer has to pay : ' ,bill_amt)\n"
      ]
    },
    {
      "cell_type": "code",
      "execution_count": null,
      "id": "2eab8338-730e-408a-a195-c0456445dcb9",
      "metadata": {
        "id": "2eab8338-730e-408a-a195-c0456445dcb9",
        "outputId": "193ffadd-9802-412e-f7d8-4a8d48ade4ab"
      },
      "outputs": [
        {
          "name": "stdin",
          "output_type": "stream",
          "text": [
            "enter a 3\n",
            "enter b  4\n",
            "enter c 2\n",
            "enter d  4\n",
            "enter x  1\n",
            "enter k 8\n"
          ]
        },
        {
          "name": "stdout",
          "output_type": "stream",
          "text": [
            "f(x) = 3\n"
          ]
        }
      ],
      "source": [
        "# 10 A function f is defined as follows :\n",
        "#         f(x)   =    ax3 – bx2 + cx –d,                  if x > k\n",
        "#         f(x)          =    0,                                   if x = k\n",
        "#         f(x)  =    -ax3 + bx2 – cx +d,                 if x <k\n",
        "\n",
        "#Function f(x) based on value of x and k\n",
        "a = int(input('enter a'))\n",
        "b = int(input('enter b '))\n",
        "c = int(input('enter c'))\n",
        "d = int(input('enter d '))\n",
        "x = int(input('enter x '))\n",
        "k = int(input('enter k'))\n",
        "\n",
        "if x > k:\n",
        "    fx = a*x**3 - b*x**2 + c*x - d\n",
        "elif x == k:\n",
        "    fx = 0\n",
        "else:\n",
        "    fx = -a*x**3 + b*x**2 - c*x + d\n",
        "\n",
        "print(\"f(x) =\", fx)"
      ]
    },
    {
      "cell_type": "code",
      "execution_count": null,
      "id": "1282e6a8-bf55-4e03-8a15-8f059d40d4f4",
      "metadata": {
        "id": "1282e6a8-bf55-4e03-8a15-8f059d40d4f4",
        "outputId": "674ee72c-86c4-4909-a6fb-9aba6dfb8109"
      },
      "outputs": [
        {
          "name": "stdin",
          "output_type": "stream",
          "text": [
            "enter past meter reading 2\n",
            "enter current meter reading 4\n"
          ]
        },
        {
          "name": "stdout",
          "output_type": "stream",
          "text": [
            "Electricity bill Rs. 1.0\n"
          ]
        }
      ],
      "source": [
        "# 11 The Paschim Gujarat Vij Company Ltd. computes the electricity bill based on the following table:\n",
        "# Units Consumed\tCharges\n",
        "# 0-100         \t0.50 per unit\n",
        "# 101-200\tRs. 50 plus Rs. 1 per unit over 100 units\n",
        "# 201-300\tRs. 150 plus 1.50 per unit over 200 units\n",
        "# > 300\t    Rs. 300 plus Rs.2 per unit over 300 units\n",
        "\n",
        "# 1.\tAsk user to enter the Past meter reading and current meter reading.\n",
        "# 2.\tFind the units consumed.\n",
        "# 3.\tCompute the bill according to given matrix.\n",
        "\n",
        "#Electricity bill calculator\n",
        "past = int(input('enter past meter reading'))\n",
        "current = int(input('enter current meter reading'))\n",
        "\n",
        "units = current - past\n",
        "\n",
        "if units <= 100:\n",
        "    bill = units * 0.5\n",
        "elif units <= 200:\n",
        "    bill = 50 + (units - 100) * 1\n",
        "elif units <= 300:\n",
        "    bill = 150 + (units - 200) * 1.5\n",
        "else:\n",
        "    bill = 300 + (units - 300) * 2\n",
        "\n",
        "print('Electricity bill Rs.', bill)\n",
        "\n",
        "\n",
        "\n",
        "#method2\n",
        "old__reading =int(input('Enter past meter reading'))\n",
        "new__reading =int(input('Enter current meter reading'))\n",
        "used__reading = new_reading -old reading\n",
        "print('My used_reading', used reading )\n",
        "if used_reading>0 and   used_reading <= 100:\n",
        "    bill_amt = used_reading * 0.5\n",
        "elif used_reading>100 and   used_reading <= 200:\n",
        "    bill_amt =50 + (used_reading) * 1\n",
        "elif used_reading>200 and   used_reading <= 300:\n",
        "    bill_amt = 150 + (used_reading) * 1.5\n",
        "else:\n",
        "    bill_amt = 300 + (used_reading) * 2\n",
        "print('The bill amount is', bill_amt)\n",
        "\n",
        "\n",
        "\n"
      ]
    },
    {
      "cell_type": "code",
      "execution_count": null,
      "id": "68cafc2e-75c0-4710-85ef-e9fb7441396d",
      "metadata": {
        "id": "68cafc2e-75c0-4710-85ef-e9fb7441396d",
        "outputId": "05997733-e0db-4901-d59c-5c690f0ccd32"
      },
      "outputs": [
        {
          "name": "stdin",
          "output_type": "stream",
          "text": [
            "enter working days 10\n",
            "enter absent days 10\n"
          ]
        },
        {
          "name": "stdout",
          "output_type": "stream",
          "text": [
            "invalid\n"
          ]
        }
      ],
      "source": [
        "wo =int(input('enter working days'))\n",
        "ab = int(input('enter absent days'))\n",
        "if wo>ab:\n",
        "    pr =wo-ab\n",
        "    percent =(pr/wo*100)\n",
        "    if percent>75:\n",
        "        print('Not detained')\n",
        "    else:\n",
        "        print('detained')\n",
        "else:\n",
        "    print('invalid')"
      ]
    },
    {
      "cell_type": "code",
      "execution_count": null,
      "id": "2d1dd8b1-f939-4eee-b50f-cb38bbfe44cb",
      "metadata": {
        "id": "2d1dd8b1-f939-4eee-b50f-cb38bbfe44cb",
        "outputId": "bd408a95-33c5-458b-e1dd-2e61587ce559"
      },
      "outputs": [
        {
          "name": "stdout",
          "output_type": "stream",
          "text": [
            "hii\n",
            "hey\n",
            "hello\n"
          ]
        }
      ],
      "source": [
        "print('hii')\n",
        "print('hey')\n",
        "print('hello')\n",
        "\n"
      ]
    },
    {
      "cell_type": "code",
      "execution_count": null,
      "id": "de4f297c-429a-4fd6-bcb4-ccb20040eeb4",
      "metadata": {
        "id": "de4f297c-429a-4fd6-bcb4-ccb20040eeb4",
        "outputId": "e4e987b9-6f5e-40d7-e7dc-a412ec8a8696"
      },
      "outputs": [
        {
          "name": "stdout",
          "output_type": "stream",
          "text": [
            "h\n",
            "e\n",
            "l\n",
            "l\n",
            "o\n"
          ]
        }
      ],
      "source": [
        "print('h')\n",
        "print('e')\n",
        "print('l')\n",
        "print('l')\n",
        "print('o')"
      ]
    },
    {
      "cell_type": "code",
      "execution_count": null,
      "id": "d535a102-a50b-4413-b8c3-783124e091b1",
      "metadata": {
        "id": "d535a102-a50b-4413-b8c3-783124e091b1"
      },
      "outputs": [],
      "source": [
        "# Loops\n",
        "# 1. for loop\n",
        "#2. while loop"
      ]
    },
    {
      "cell_type": "code",
      "execution_count": null,
      "id": "724f6c52-c60f-4a8e-a031-69049da941a5",
      "metadata": {
        "id": "724f6c52-c60f-4a8e-a031-69049da941a5"
      },
      "outputs": [],
      "source": [
        "# for loop\n",
        "# a.) when i want to iterate ina given iterable we use for loop for it\n",
        "     # whe i want to move character by characrter in a given sequence we use for loop for it\n",
        "\n",
        "#b.) when i want to do the task at certain number of times we uswe for loop foir it"
      ]
    },
    {
      "cell_type": "code",
      "execution_count": null,
      "id": "91b84a5e-21f2-4aa1-a7ea-fc9803d6d0c8",
      "metadata": {
        "id": "91b84a5e-21f2-4aa1-a7ea-fc9803d6d0c8",
        "outputId": "3c5df6d1-311a-4727-c3e5-f2b5db50bd76"
      },
      "outputs": [
        {
          "name": "stdout",
          "output_type": "stream",
          "text": [
            "a\n",
            "m\n",
            "a\n",
            "n\n"
          ]
        }
      ],
      "source": [
        "x = 'aman'\n",
        "for i in x:\n",
        "    print(i)"
      ]
    },
    {
      "cell_type": "code",
      "execution_count": null,
      "id": "dae7de8f-39bb-43ad-a791-88e42787f912",
      "metadata": {
        "id": "dae7de8f-39bb-43ad-a791-88e42787f912",
        "outputId": "f1303f64-059c-4528-e67e-a4a9d4e08854"
      },
      "outputs": [
        {
          "name": "stdout",
          "output_type": "stream",
          "text": [
            "a\n",
            "m\n",
            "a\n",
            "n\n",
            "bye\n"
          ]
        }
      ],
      "source": [
        "x = 'aman'\n",
        "for i in x:\n",
        "    print(i)\n",
        "\n",
        "print('bye')"
      ]
    },
    {
      "cell_type": "code",
      "execution_count": null,
      "id": "7a10efe8-c696-498a-871b-0fbcb7da07be",
      "metadata": {
        "id": "7a10efe8-c696-498a-871b-0fbcb7da07be",
        "outputId": "81fc1c4b-0527-408c-eb6f-f56d0fdc7ef2"
      },
      "outputs": [
        {
          "name": "stdout",
          "output_type": "stream",
          "text": [
            "bhavna\n",
            "bhavna\n",
            "bhavna\n",
            "bhavna\n",
            "bhavna\n",
            "bhavna\n"
          ]
        }
      ],
      "source": [
        "x = 'bhavna'\n",
        "for i in x:\n",
        "    print(x)\n"
      ]
    },
    {
      "cell_type": "code",
      "execution_count": null,
      "id": "0574e5c2-67e1-47e8-978d-a61937b81634",
      "metadata": {
        "id": "0574e5c2-67e1-47e8-978d-a61937b81634",
        "outputId": "57089938-3cbf-4bf9-cf9a-47dbb1b4b481"
      },
      "outputs": [
        {
          "name": "stdout",
          "output_type": "stream",
          "text": [
            "a\n",
            "hii\n",
            "m\n",
            "hii\n",
            "a\n",
            "hii\n",
            "n\n",
            "hii\n",
            "bye\n"
          ]
        }
      ],
      "source": [
        "x = 'aman'\n",
        "for i in x:\n",
        "    print(i)\n",
        "    print('hii')\n",
        "\n",
        "print('bye')"
      ]
    },
    {
      "cell_type": "code",
      "execution_count": null,
      "id": "20adf829-daef-4720-9d50-c7193071a6b5",
      "metadata": {
        "id": "20adf829-daef-4720-9d50-c7193071a6b5",
        "outputId": "4f147cfb-75a2-48d3-a5ac-9c35dd4f07e0"
      },
      "outputs": [
        {
          "name": "stdin",
          "output_type": "stream",
          "text": [
            "enter n 2\n"
          ]
        },
        {
          "name": "stdout",
          "output_type": "stream",
          "text": [
            "2\n",
            "bye\n"
          ]
        }
      ],
      "source": [
        "n=input('enter n')\n",
        "for i in n:\n",
        "    print(i)\n",
        "print('bye')"
      ]
    },
    {
      "cell_type": "code",
      "execution_count": null,
      "id": "26bd7c51-a0ae-488d-a3eb-c5414d030a38",
      "metadata": {
        "id": "26bd7c51-a0ae-488d-a3eb-c5414d030a38",
        "outputId": "40650b97-ef01-4831-fc28-da39fa82a5fc"
      },
      "outputs": [
        {
          "name": "stdout",
          "output_type": "stream",
          "text": [
            "ant\n",
            "hello\n",
            "ant\n",
            "hello\n",
            "ant\n",
            "hello\n",
            "hii\n"
          ]
        }
      ],
      "source": [
        "y= 'ant'\n",
        "for j in y:\n",
        "    print(y)\n",
        "    print('hello')\n",
        "print('hii')"
      ]
    },
    {
      "cell_type": "code",
      "execution_count": null,
      "id": "5ca9c9d3-e26b-4266-b345-75886d34026c",
      "metadata": {
        "id": "5ca9c9d3-e26b-4266-b345-75886d34026c",
        "outputId": "715d5424-8a0c-4626-d4d2-3db703582ef2"
      },
      "outputs": [
        {
          "name": "stdout",
          "output_type": "stream",
          "text": [
            "owl\n",
            "o\n",
            "owl\n",
            "w\n",
            "owl\n",
            "l\n",
            "hii\n"
          ]
        }
      ],
      "source": [
        "z='owl'\n",
        "for i in z:\n",
        "    print(z)\n",
        "    print(i)\n",
        "print('hii')"
      ]
    },
    {
      "cell_type": "code",
      "execution_count": null,
      "id": "f91eabe4-e021-4a49-ab1c-8d3e2cbbbfbe",
      "metadata": {
        "id": "f91eabe4-e021-4a49-ab1c-8d3e2cbbbfbe",
        "outputId": "b04c0091-fca8-4b6b-cb0c-84489e2f9b81"
      },
      "outputs": [
        {
          "name": "stdout",
          "output_type": "stream",
          "text": [
            "hii\n",
            "hii\n",
            "hii\n",
            "hii\n"
          ]
        }
      ],
      "source": [
        "n='hii'\n",
        "for i in n:\n",
        "    print(n)\n",
        "\n",
        "print('hii')"
      ]
    },
    {
      "cell_type": "code",
      "execution_count": null,
      "id": "24888b25-69dc-4009-a072-da2ae2da1415",
      "metadata": {
        "id": "24888b25-69dc-4009-a072-da2ae2da1415",
        "outputId": "a15b88bd-1729-484d-b11b-71456ae3e2ce"
      },
      "outputs": [
        {
          "ename": "TypeError",
          "evalue": "'int' object is not iterable",
          "output_type": "error",
          "traceback": [
            "\u001b[1;31m---------------------------------------------------------------------------\u001b[0m",
            "\u001b[1;31mTypeError\u001b[0m                                 Traceback (most recent call last)",
            "Cell \u001b[1;32mIn[17], line 3\u001b[0m\n\u001b[0;32m      1\u001b[0m a\u001b[38;5;241m=\u001b[39m\u001b[38;5;241m1234\u001b[39m\n\u001b[1;32m----> 3\u001b[0m \u001b[38;5;28;01mfor\u001b[39;00m i \u001b[38;5;129;01min\u001b[39;00m a:\n\u001b[0;32m      4\u001b[0m     \u001b[38;5;28mprint\u001b[39m(i)\n",
            "\u001b[1;31mTypeError\u001b[0m: 'int' object is not iterable"
          ]
        }
      ],
      "source": [
        "a=1234\n",
        "\n",
        "for i in a:\n",
        "    print(i)"
      ]
    },
    {
      "cell_type": "code",
      "execution_count": null,
      "id": "bac9be87-abc3-4ebd-bbf6-6342da27ef32",
      "metadata": {
        "id": "bac9be87-abc3-4ebd-bbf6-6342da27ef32",
        "outputId": "eb20e416-ea1e-43ea-bcfe-e863fa5ffb4f"
      },
      "outputs": [
        {
          "name": "stdin",
          "output_type": "stream",
          "text": [
            "enter n  bhavna\n"
          ]
        },
        {
          "name": "stdout",
          "output_type": "stream",
          "text": [
            "b\n",
            "h\n",
            "a\n",
            "v\n",
            "n\n",
            "a\n",
            "bye\n"
          ]
        }
      ],
      "source": [
        "n=input('enter n ')\n",
        "for i in n:\n",
        "    print(i)\n",
        "print('bye')"
      ]
    },
    {
      "cell_type": "code",
      "execution_count": null,
      "id": "47729b18-c903-48fc-a21d-a2b6d057f047",
      "metadata": {
        "id": "47729b18-c903-48fc-a21d-a2b6d057f047",
        "outputId": "d2390203-ad6a-416c-b58f-30c8ef50569b"
      },
      "outputs": [
        {
          "name": "stdout",
          "output_type": "stream",
          "text": [
            "1\n",
            "2\n",
            "3\n",
            "4\n"
          ]
        }
      ],
      "source": [
        "n='aman'\n",
        "c=0\n",
        "for i in n:\n",
        "    c=c+1\n",
        "    print(c)"
      ]
    },
    {
      "cell_type": "code",
      "execution_count": null,
      "id": "19243b7e-a280-4dd2-8d89-81f60ebb76b1",
      "metadata": {
        "id": "19243b7e-a280-4dd2-8d89-81f60ebb76b1",
        "outputId": "ed530103-ba0a-41ac-c443-10ff9bdb48e8"
      },
      "outputs": [
        {
          "name": "stdout",
          "output_type": "stream",
          "text": [
            "1\n",
            "2\n",
            "3\n",
            "4\n"
          ]
        }
      ],
      "source": [
        "n='aman'\n",
        "c=0\n",
        "for i in n:\n",
        "    c=c+1\n",
        "    print(c)"
      ]
    },
    {
      "cell_type": "code",
      "execution_count": null,
      "id": "8b30d4fc-3647-4780-9b86-4cf1f73e0c7a",
      "metadata": {
        "id": "8b30d4fc-3647-4780-9b86-4cf1f73e0c7a",
        "outputId": "ca7068b5-6bd8-49a4-9b59-c3430e3222f7"
      },
      "outputs": [
        {
          "name": "stdin",
          "output_type": "stream",
          "text": [
            "entert n  bhavna\n"
          ]
        },
        {
          "name": "stdout",
          "output_type": "stream",
          "text": [
            "b --- 1\n",
            "h --- 2\n",
            "a --- 3\n",
            "v --- 4\n",
            "n --- 5\n",
            "a --- 6\n"
          ]
        }
      ],
      "source": [
        "n=input('entert n ')\n",
        "c=0\n",
        "for i in n:\n",
        "    c=c+1\n",
        "    print(i,'---',c)"
      ]
    },
    {
      "cell_type": "code",
      "execution_count": null,
      "id": "460590a8-1ea1-40ee-8c56-48b864a0989b",
      "metadata": {
        "id": "460590a8-1ea1-40ee-8c56-48b864a0989b",
        "outputId": "f98d9588-3410-4b6e-cc79-770f66de9cbb"
      },
      "outputs": [
        {
          "name": "stdin",
          "output_type": "stream",
          "text": [
            "enter n bhavna\n"
          ]
        },
        {
          "name": "stdout",
          "output_type": "stream",
          "text": [
            "6\n"
          ]
        }
      ],
      "source": [
        "n=input('enter n')\n",
        "c=0\n",
        "for i in n:\n",
        "    c=c+1\n",
        "\n",
        "print(c)\n"
      ]
    },
    {
      "cell_type": "code",
      "execution_count": null,
      "id": "93dd8837-4206-4753-b8ab-b96b2571e98e",
      "metadata": {
        "id": "93dd8837-4206-4753-b8ab-b96b2571e98e",
        "outputId": "1016d124-cfd0-408d-8f31-84fc999be221"
      },
      "outputs": [
        {
          "name": "stdout",
          "output_type": "stream",
          "text": [
            "10\n"
          ]
        }
      ],
      "source": [
        "L= [1,2,3,4,5,6,7,8,9,0]\n",
        "c=0\n",
        "for i in L:\n",
        "    c=c+1\n",
        "print(c)"
      ]
    },
    {
      "cell_type": "code",
      "execution_count": null,
      "id": "ef99de00-c07b-4802-a967-704287d9836f",
      "metadata": {
        "id": "ef99de00-c07b-4802-a967-704287d9836f",
        "outputId": "322e5ab6-c9dc-4e36-98c2-ef23807e71ea"
      },
      "outputs": [
        {
          "name": "stdout",
          "output_type": "stream",
          "text": [
            "45\n"
          ]
        }
      ],
      "source": [
        "L=[1,2,3,4,5,6,7,8,9,0]\n",
        "s=0\n",
        "for i in L:\n",
        "    s=s+i\n",
        "\n",
        "print(s)"
      ]
    },
    {
      "cell_type": "code",
      "execution_count": null,
      "id": "402d48d4-1c8d-4871-8a0b-9d6d68d1fe19",
      "metadata": {
        "id": "402d48d4-1c8d-4871-8a0b-9d6d68d1fe19",
        "outputId": "29355d6c-d865-4d9f-ffe7-a3a7e1e9e4f7"
      },
      "outputs": [
        {
          "name": "stdout",
          "output_type": "stream",
          "text": [
            "1\n",
            "3\n",
            "6\n",
            "10\n",
            "15\n",
            "21\n",
            "28\n",
            "36\n",
            "45\n",
            "45\n"
          ]
        }
      ],
      "source": [
        "L=[1,2,3,4,5,6,7,8,9,0]\n",
        "s=0\n",
        "for i in L:\n",
        "    s=s+i\n",
        "    print(s)"
      ]
    },
    {
      "cell_type": "code",
      "execution_count": null,
      "id": "a8c93119-4cdb-4bc3-af97-eab7aa3a0ab0",
      "metadata": {
        "id": "a8c93119-4cdb-4bc3-af97-eab7aa3a0ab0",
        "outputId": "fb54c602-1dbf-4261-db8c-59629ab4ebf8"
      },
      "outputs": [
        {
          "name": "stdout",
          "output_type": "stream",
          "text": [
            "4.5\n"
          ]
        }
      ],
      "source": [
        "#Find the average of the list\n",
        "L= [1,2,3,4,5,6,7,8,9,0]\n",
        "s=0\n",
        "c=0\n",
        "for i in L:\n",
        "    s=s+i\n",
        "    c=c+1\n",
        "print(s/c)"
      ]
    },
    {
      "cell_type": "code",
      "execution_count": null,
      "id": "77f70fe5-e4dc-45fc-864f-eec8f6869c2c",
      "metadata": {
        "id": "77f70fe5-e4dc-45fc-864f-eec8f6869c2c",
        "outputId": "7d8df408-2934-45d5-f860-d6640eb5bdc5"
      },
      "outputs": [
        {
          "name": "stdout",
          "output_type": "stream",
          "text": [
            "1 1\n",
            "2 4\n",
            "3 9\n",
            "4 16\n",
            "5 25\n",
            "6 36\n",
            "7 49\n",
            "8 64\n",
            "9 81\n",
            "0 0\n"
          ]
        }
      ],
      "source": [
        "#Find the squareof the list\n",
        "L= [1,2,3,4,5,6,7,8,9,0]\n",
        "for i in L:\n",
        "    print(i,i**2)"
      ]
    },
    {
      "cell_type": "code",
      "execution_count": null,
      "id": "9d7c99da-5f83-4937-bf3e-2061f593f9c0",
      "metadata": {
        "id": "9d7c99da-5f83-4937-bf3e-2061f593f9c0",
        "outputId": "60161a0e-31ac-4928-8b69-31b5083da612"
      },
      "outputs": [
        {
          "name": "stdout",
          "output_type": "stream",
          "text": [
            "285\n"
          ]
        }
      ],
      "source": [
        "#Find the sum of square of the list\n",
        "L= [1,2,3,4,5,6,7,8,9,0]\n",
        "s=0\n",
        "for i in L:\n",
        "    s=s+i**2\n",
        "\n",
        "print(s)"
      ]
    },
    {
      "cell_type": "code",
      "execution_count": null,
      "id": "367ada1f-dcda-457c-986f-a642bd4fefda",
      "metadata": {
        "id": "367ada1f-dcda-457c-986f-a642bd4fefda",
        "outputId": "320f632d-85f9-4593-c875-84b72562cd33"
      },
      "outputs": [
        {
          "name": "stdout",
          "output_type": "stream",
          "text": [
            "count of even 5\n",
            "count of odd  5\n"
          ]
        }
      ],
      "source": [
        "#count the even and odd of the list\n",
        "L=[1,2,3,4,5,6,7,8,9,0]\n",
        "e=0\n",
        "o=0\n",
        "for i in L:\n",
        "    if i%2==0:\n",
        "        e=e+1\n",
        "    else:\n",
        "        o=o+1\n",
        "print('count of even',e)\n",
        "print('count of odd ',o)\n"
      ]
    },
    {
      "cell_type": "code",
      "execution_count": null,
      "id": "a6a33243-34fa-44be-b671-94ee347f74cd",
      "metadata": {
        "id": "a6a33243-34fa-44be-b671-94ee347f74cd",
        "outputId": "fc57d0d1-5df5-42ac-875a-038a2aa6a104"
      },
      "outputs": [
        {
          "name": "stdout",
          "output_type": "stream",
          "text": [
            "sum of even 4.0\n",
            "sum of odd 5.0\n"
          ]
        }
      ],
      "source": [
        "#count and sum of the even and odd of the list\n",
        "L= [1,2,3,4,5,6,7,8,9,0]\n",
        "e=0\n",
        "ce=0\n",
        "o=0\n",
        "co=0\n",
        "for i in L:\n",
        "    if i%2==0:\n",
        "        e=e+i\n",
        "        ce=ce+1\n",
        "    else:\n",
        "        o=o+i\n",
        "        co=co+1\n",
        "\n",
        "\n",
        "\n",
        "print('sum of even',e/ce)\n",
        "print('sum of odd',o/co)"
      ]
    },
    {
      "cell_type": "code",
      "execution_count": null,
      "id": "009d519d-2d0b-4f20-862d-b288554623b3",
      "metadata": {
        "id": "009d519d-2d0b-4f20-862d-b288554623b3",
        "outputId": "4e620935-f76a-430c-b7b2-08924711692e"
      },
      "outputs": [
        {
          "name": "stdout",
          "output_type": "stream",
          "text": [
            "count of even 5\n",
            "count of odd  5\n"
          ]
        }
      ],
      "source": [
        "#count the even and odd of the list\n",
        "L=[1,2,3,4,5,6,7,8,9,0]\n",
        "e=0\n",
        "o=0\n",
        "for i in L:\n",
        "    if i%2==0:\n",
        "        e=e+1\n",
        "    else:\n",
        "        o=o+1\n",
        "print('count of even',e)\n",
        "print('count of odd ',o)\n"
      ]
    },
    {
      "cell_type": "code",
      "execution_count": null,
      "id": "5b386a01-c81f-451a-b35e-46958884ac0f",
      "metadata": {
        "id": "5b386a01-c81f-451a-b35e-46958884ac0f",
        "outputId": "05264f58-5a5a-403e-de35-fd5696faea23"
      },
      "outputs": [
        {
          "name": "stdout",
          "output_type": "stream",
          "text": [
            "avgof even 4.0\n",
            "avg of odd  5.0\n"
          ]
        }
      ],
      "source": [
        "#count the even square and odd cube of the list\n",
        "L=[1,2,3,4,5,6,7,8,9,0]\n",
        "e=0\n",
        "ce=0\n",
        "o=0\n",
        "co=0\n",
        "\n",
        "for i in L:\n",
        "    if i%2==0:\n",
        "        e=e+i\n",
        "        ce=ce+1\n",
        "    else:\n",
        "        o=o+i\n",
        "        co=co+1\n",
        "\n",
        "print('avgof even',e/ce)\n",
        "print('avg of odd ',o/co)"
      ]
    },
    {
      "cell_type": "code",
      "execution_count": null,
      "id": "36e96b84-d0ab-4f39-a5b8-3ce5a2865479",
      "metadata": {
        "id": "36e96b84-d0ab-4f39-a5b8-3ce5a2865479",
        "outputId": "edc48f6f-e235-47af-e348-a514ce91e539"
      },
      "outputs": [
        {
          "name": "stdin",
          "output_type": "stream",
          "text": [
            "enter n  apple\n"
          ]
        },
        {
          "name": "stdout",
          "output_type": "stream",
          "text": [
            "2\n",
            "3\n"
          ]
        }
      ],
      "source": [
        "n = input('enter n ')\n",
        "v=0\n",
        "c=0\n",
        "for i in n:\n",
        "    if i=='a' or i=='e' or i=='i' or i=='o' or i=='u':\n",
        "        v=v+1\n",
        "    else:\n",
        "        c=c+1\n",
        "print(v)\n",
        "print(c)"
      ]
    },
    {
      "cell_type": "code",
      "execution_count": null,
      "id": "005e0ed7-e20a-4f17-8d29-0fbcbdfd991b",
      "metadata": {
        "id": "005e0ed7-e20a-4f17-8d29-0fbcbdfd991b"
      },
      "outputs": [],
      "source": [
        "#While loop\n",
        "#b.)when i want to do the task at certain number of times we use we for loop for it"
      ]
    },
    {
      "cell_type": "code",
      "execution_count": null,
      "id": "971a350e-e1d0-4f95-bf2f-9e71a96a3fe4",
      "metadata": {
        "id": "971a350e-e1d0-4f95-bf2f-9e71a96a3fe4",
        "outputId": "6c224963-cc1a-45be-a0df-deff6a9feafd"
      },
      "outputs": [
        {
          "name": "stdout",
          "output_type": "stream",
          "text": [
            "1\n",
            "2\n",
            "3\n",
            "4\n",
            "5\n",
            "6\n",
            "7\n",
            "8\n",
            "9\n",
            "10\n"
          ]
        }
      ],
      "source": [
        "for i in range(1,10+1):\n",
        "    print(i)\n"
      ]
    },
    {
      "cell_type": "code",
      "execution_count": null,
      "id": "8847540d-88b5-4ecb-8d7d-4dde6bb03ba6",
      "metadata": {
        "id": "8847540d-88b5-4ecb-8d7d-4dde6bb03ba6",
        "outputId": "b1145563-6f38-4512-d5fa-6b524932a5ce"
      },
      "outputs": [
        {
          "name": "stdin",
          "output_type": "stream",
          "text": [
            "enter n 9\n"
          ]
        },
        {
          "name": "stdout",
          "output_type": "stream",
          "text": [
            "1\n",
            "2\n",
            "3\n",
            "4\n",
            "5\n",
            "6\n",
            "7\n",
            "8\n",
            "9\n"
          ]
        }
      ],
      "source": [
        "n=int(input('enter n'))\n",
        "for i in range(1,n+1):\n",
        "    print(i)\n",
        "\n"
      ]
    },
    {
      "cell_type": "code",
      "execution_count": null,
      "id": "cafde704-46e4-4553-9e5e-88d72b7a2997",
      "metadata": {
        "id": "cafde704-46e4-4553-9e5e-88d72b7a2997",
        "outputId": "272d5d9d-5674-48bd-ad47-eea85788cc98"
      },
      "outputs": [
        {
          "name": "stdin",
          "output_type": "stream",
          "text": [
            "enter n 10\n"
          ]
        },
        {
          "name": "stdout",
          "output_type": "stream",
          "text": [
            "1\n",
            "2\n",
            "3\n",
            "4\n",
            "5\n",
            "6\n",
            "7\n",
            "8\n",
            "9\n",
            "10\n"
          ]
        }
      ],
      "source": [
        "n=int(input('enter n'))\n",
        "for i in range(1,n+1):\n",
        "    print(i)\n",
        "\n"
      ]
    },
    {
      "cell_type": "code",
      "execution_count": null,
      "id": "49206f2c-16e5-4820-8289-1c3ebf0fcbdc",
      "metadata": {
        "id": "49206f2c-16e5-4820-8289-1c3ebf0fcbdc",
        "outputId": "439af5ad-4a59-4698-fbd1-0e20b19f7dfd"
      },
      "outputs": [
        {
          "name": "stdin",
          "output_type": "stream",
          "text": [
            "enter n 3\n"
          ]
        },
        {
          "name": "stdout",
          "output_type": "stream",
          "text": [
            "hello 1\n",
            "hello 2\n",
            "hello 3\n"
          ]
        }
      ],
      "source": [
        "n=int(input('enter n'))\n",
        "for i in range(1,n+1):\n",
        "    print('hello', i)\n",
        "\n",
        "\n"
      ]
    },
    {
      "cell_type": "code",
      "execution_count": null,
      "id": "27319b69-4a2d-4737-85d0-f88f1944726d",
      "metadata": {
        "id": "27319b69-4a2d-4737-85d0-f88f1944726d",
        "outputId": "de9d4075-4394-4ef0-eb62-92489ff70f38"
      },
      "outputs": [
        {
          "name": "stdin",
          "output_type": "stream",
          "text": [
            "enter n 10\n"
          ]
        },
        {
          "name": "stdout",
          "output_type": "stream",
          "text": [
            "55\n"
          ]
        }
      ],
      "source": [
        "#SUM\n",
        "n=int(input('enter n'))\n",
        "s=0\n",
        "for i in range(1,10+1):\n",
        "    s=s+i\n",
        "print(s)"
      ]
    },
    {
      "cell_type": "code",
      "execution_count": null,
      "id": "52bdf4ea-c28a-4c02-85d7-1cc88c3505f9",
      "metadata": {
        "id": "52bdf4ea-c28a-4c02-85d7-1cc88c3505f9",
        "outputId": "d9b7e3c8-4eaa-45d1-a2db-0fe6ea34f20b"
      },
      "outputs": [
        {
          "name": "stdin",
          "output_type": "stream",
          "text": [
            "enter n 10\n"
          ]
        },
        {
          "name": "stdout",
          "output_type": "stream",
          "text": [
            "5.5\n"
          ]
        }
      ],
      "source": [
        "#average\n",
        "n=int(input('enter n'))\n",
        "s=0\n",
        "c=0\n",
        "for i in range(1,n+1):\n",
        "    s=s+i\n",
        "    c=c+1\n",
        "print(s/c)\n",
        "# or\n",
        "# print(s/n)"
      ]
    },
    {
      "cell_type": "code",
      "execution_count": null,
      "id": "38290980-e764-426d-8a3a-d0f492d4d4b4",
      "metadata": {
        "id": "38290980-e764-426d-8a3a-d0f492d4d4b4",
        "outputId": "b0535734-5f6d-4a36-b872-b60780b052df"
      },
      "outputs": [
        {
          "name": "stdin",
          "output_type": "stream",
          "text": [
            "enter n 3\n"
          ]
        },
        {
          "name": "stdout",
          "output_type": "stream",
          "text": [
            "sum of even 4\n",
            "sum of odd  28\n"
          ]
        }
      ],
      "source": [
        "#sum of square even no. and cube sum of odd number\n",
        "n=int(input('enter n'))\n",
        "e=0\n",
        "o=0\n",
        "for i in range(1,n+1):\n",
        "    if i%2==0:\n",
        "         e=e+i**2\n",
        "    else:\n",
        "        o=o+i**3\n",
        "print('sum of even',e)\n",
        "print('sum of odd ',o)\n"
      ]
    },
    {
      "cell_type": "code",
      "execution_count": null,
      "id": "e149bae7-060c-49f1-b514-03254953af91",
      "metadata": {
        "id": "e149bae7-060c-49f1-b514-03254953af91",
        "outputId": "d4b97819-f0f1-4f49-ad42-ddd2cb0e3fbc"
      },
      "outputs": [
        {
          "name": "stdin",
          "output_type": "stream",
          "text": [
            "enter n 5\n"
          ]
        },
        {
          "name": "stdout",
          "output_type": "stream",
          "text": [
            "5\n",
            "10\n",
            "15\n",
            "20\n",
            "25\n",
            "30\n",
            "35\n",
            "40\n",
            "45\n",
            "50\n"
          ]
        }
      ],
      "source": [
        "#Table\n",
        "n=int(input('enter n'))\n",
        "for i in range(1, 11):\n",
        "    print(n*i)"
      ]
    },
    {
      "cell_type": "code",
      "execution_count": null,
      "id": "30ff6e9c-e28d-4790-b32e-cc4d0da22fb2",
      "metadata": {
        "id": "30ff6e9c-e28d-4790-b32e-cc4d0da22fb2",
        "outputId": "1e45afb6-7d74-491b-b4c7-c8faab0c14fa"
      },
      "outputs": [
        {
          "name": "stdin",
          "output_type": "stream",
          "text": [
            "enter n 7\n"
          ]
        },
        {
          "name": "stdout",
          "output_type": "stream",
          "text": [
            "7 * 1 = 7\n",
            "7 * 2 = 14\n",
            "7 * 3 = 21\n",
            "7 * 4 = 28\n",
            "7 * 5 = 35\n",
            "7 * 6 = 42\n",
            "7 * 7 = 49\n",
            "7 * 8 = 56\n",
            "7 * 9 = 63\n",
            "7 * 10 = 70\n"
          ]
        }
      ],
      "source": [
        "#table explain\n",
        "n=int(input('enter n'))\n",
        "for i in range(1, 11):\n",
        "    print(n,'*',i,'=',n*i)\n"
      ]
    },
    {
      "cell_type": "code",
      "execution_count": null,
      "id": "cce79424-3041-4cea-92fe-d47dbbbf5657",
      "metadata": {
        "id": "cce79424-3041-4cea-92fe-d47dbbbf5657",
        "outputId": "06bd9fdc-cdff-4522-db19-29a70e6c5ede"
      },
      "outputs": [
        {
          "name": "stdin",
          "output_type": "stream",
          "text": [
            "enter n 4\n"
          ]
        },
        {
          "name": "stdout",
          "output_type": "stream",
          "text": [
            "24\n"
          ]
        }
      ],
      "source": [
        "#factorial\n",
        "n=int(input('enter n'))\n",
        "f=1\n",
        "for i in range(1, n+1):\n",
        "    f=f*i\n",
        "print(f)\n"
      ]
    },
    {
      "cell_type": "code",
      "execution_count": null,
      "id": "8fe0e004-5372-4726-9c6d-0bf07a16e093",
      "metadata": {
        "id": "8fe0e004-5372-4726-9c6d-0bf07a16e093",
        "outputId": "993658c9-5f8c-4b5d-a8c2-cc0e4b42113b"
      },
      "outputs": [
        {
          "name": "stdin",
          "output_type": "stream",
          "text": [
            "enter n 2\n"
          ]
        },
        {
          "name": "stdout",
          "output_type": "stream",
          "text": [
            "2 is prime\n"
          ]
        }
      ],
      "source": [
        "#Prime no.\n",
        "n=int(input('enter n'))\n",
        "c=0\n",
        "for i in range(1,n+1):\n",
        "   if n%i==0:\n",
        "       c=c+1\n",
        "\n",
        "if c==2:\n",
        "    print(n,'is prime')\n",
        "else:\n",
        "    print(n,'is not prime')"
      ]
    },
    {
      "cell_type": "code",
      "execution_count": null,
      "id": "f06f6d83-cbf1-40a0-a349-97d5dbb5bedd",
      "metadata": {
        "id": "f06f6d83-cbf1-40a0-a349-97d5dbb5bedd",
        "outputId": "f5e03fcc-9ba2-46dd-8028-6774bfddd33d"
      },
      "outputs": [
        {
          "name": "stdin",
          "output_type": "stream",
          "text": [
            "enter n 3\n",
            "enter a 100\n",
            "enter a 1\n",
            "enter a 2\n"
          ]
        },
        {
          "name": "stdout",
          "output_type": "stream",
          "text": [
            "34.333333333333336\n"
          ]
        }
      ],
      "source": [
        "#find avg in input no.\n",
        "n = int(input('enter n'))\n",
        "s=0\n",
        "for i in range(1,n+1):\n",
        "    a = int(input('enter a'))\n",
        "    s=s+a\n",
        "print(s/n)"
      ]
    },
    {
      "cell_type": "code",
      "execution_count": null,
      "id": "35292368-e57b-4810-bf12-bf2b652548e0",
      "metadata": {
        "id": "35292368-e57b-4810-bf12-bf2b652548e0",
        "outputId": "354e5e57-578b-4010-8144-bc3928f5f4f5"
      },
      "outputs": [
        {
          "name": "stdout",
          "output_type": "stream",
          "text": [
            "10\n",
            "9\n",
            "8\n",
            "7\n",
            "6\n",
            "5\n",
            "4\n",
            "3\n",
            "2\n"
          ]
        }
      ],
      "source": [
        "#reverse series\n",
        "for i in range(10,1,-1):\n",
        "    print(i)"
      ]
    },
    {
      "cell_type": "code",
      "execution_count": null,
      "id": "d3a3ccda-dd96-4bb5-97a1-ea70f1a54e4b",
      "metadata": {
        "id": "d3a3ccda-dd96-4bb5-97a1-ea70f1a54e4b",
        "outputId": "5c91062c-b7cb-4b67-f28b-b504f0d4b42c"
      },
      "outputs": [
        {
          "name": "stdout",
          "output_type": "stream",
          "text": [
            "1\n",
            "4\n",
            "7\n"
          ]
        }
      ],
      "source": [
        "for i in range(1,10,3):\n",
        "    print(i)\n"
      ]
    },
    {
      "cell_type": "code",
      "execution_count": null,
      "id": "199268e3-720e-4264-a563-07bee1fb7030",
      "metadata": {
        "id": "199268e3-720e-4264-a563-07bee1fb7030",
        "outputId": "144dca0a-30d1-4a45-f790-245e251a30bd"
      },
      "outputs": [
        {
          "name": "stdout",
          "output_type": "stream",
          "text": [
            "10\n",
            "6\n",
            "2\n"
          ]
        }
      ],
      "source": [
        "for i in range(10,1,-4):\n",
        "    print(i)\n"
      ]
    },
    {
      "cell_type": "code",
      "execution_count": null,
      "id": "3ea68979-2935-445c-8286-6f0ecd392757",
      "metadata": {
        "id": "3ea68979-2935-445c-8286-6f0ecd392757"
      },
      "outputs": [],
      "source": [
        "#while Loops-- when i want to do the task till the condition is True\n",
        "while cond:\n",
        "  stmnt"
      ]
    },
    {
      "cell_type": "code",
      "source": [
        "c=0\n",
        "while c<4:\n",
        "  c=c+1\n",
        "  print(c)"
      ],
      "metadata": {
        "colab": {
          "base_uri": "https://localhost:8080/"
        },
        "id": "RLLd2wqdhccl",
        "outputId": "d907ea01-44db-4a1c-bf7c-ad6080a77f22"
      },
      "id": "RLLd2wqdhccl",
      "execution_count": null,
      "outputs": [
        {
          "output_type": "stream",
          "name": "stdout",
          "text": [
            "1\n",
            "2\n",
            "3\n",
            "4\n"
          ]
        }
      ]
    },
    {
      "cell_type": "code",
      "source": [
        "c=0\n",
        "while c<4:\n",
        "  print(c)\n",
        "  c=c+1"
      ],
      "metadata": {
        "colab": {
          "base_uri": "https://localhost:8080/"
        },
        "id": "Nk4r1pgqhcYp",
        "outputId": "8f59be16-15bd-4261-db5f-7296b6d0d681"
      },
      "id": "Nk4r1pgqhcYp",
      "execution_count": null,
      "outputs": [
        {
          "output_type": "stream",
          "name": "stdout",
          "text": [
            "0\n",
            "1\n",
            "2\n",
            "3\n"
          ]
        }
      ]
    },
    {
      "cell_type": "code",
      "source": [
        "c=0\n",
        "while c<4:\n",
        "  print(c)\n",
        "  c=c+1"
      ],
      "metadata": {
        "colab": {
          "base_uri": "https://localhost:8080/"
        },
        "id": "oTYW6pVPhcT0",
        "outputId": "fef55c5b-cbc4-4de3-9de3-0a36c72bee8a"
      },
      "id": "oTYW6pVPhcT0",
      "execution_count": null,
      "outputs": [
        {
          "output_type": "stream",
          "name": "stdout",
          "text": [
            "0\n",
            "1\n",
            "2\n",
            "3\n"
          ]
        }
      ]
    },
    {
      "cell_type": "code",
      "source": [
        "c=0\n",
        "while c<=4:\n",
        "  c=c+1\n",
        "  print(c)"
      ],
      "metadata": {
        "colab": {
          "base_uri": "https://localhost:8080/"
        },
        "id": "i587f8h-hcQF",
        "outputId": "d034dad1-edaa-4139-f352-4887b2469819"
      },
      "id": "i587f8h-hcQF",
      "execution_count": null,
      "outputs": [
        {
          "output_type": "stream",
          "name": "stdout",
          "text": [
            "1\n",
            "2\n",
            "3\n",
            "4\n",
            "5\n"
          ]
        }
      ]
    },
    {
      "cell_type": "code",
      "source": [
        "c=0\n",
        "while c<=4:\n",
        "  c=c+1\n",
        "  print(c)"
      ],
      "metadata": {
        "colab": {
          "base_uri": "https://localhost:8080/"
        },
        "id": "dEMhaIh5hcMr",
        "outputId": "bfc90895-9148-424a-946d-6d8c914269e4"
      },
      "id": "dEMhaIh5hcMr",
      "execution_count": null,
      "outputs": [
        {
          "output_type": "stream",
          "name": "stdout",
          "text": [
            "1\n",
            "2\n",
            "3\n",
            "4\n",
            "5\n"
          ]
        }
      ]
    },
    {
      "cell_type": "code",
      "source": [
        "#infinite loop\n",
        "c=0\n",
        "while c<=4:\n",
        "  #c=c+1\n",
        "  print(c)"
      ],
      "metadata": {
        "id": "JCZh5k3-hcCJ"
      },
      "id": "JCZh5k3-hcCJ",
      "execution_count": null,
      "outputs": []
    },
    {
      "cell_type": "code",
      "source": [
        "#infinite loop\n",
        "c=1\n",
        "while c>0:\n",
        "  print(c)\n",
        "  c=c+1"
      ],
      "metadata": {
        "id": "_G9JM0Hdhznc"
      },
      "id": "_G9JM0Hdhznc",
      "execution_count": null,
      "outputs": []
    },
    {
      "cell_type": "code",
      "source": [
        "c=int(input('enter c'))\n",
        "while c!=0:\n",
        "  print('hello')\n",
        "  c=int(input('enter n'))"
      ],
      "metadata": {
        "id": "fwDefx9_hz_5"
      },
      "id": "fwDefx9_hz_5",
      "execution_count": null,
      "outputs": []
    },
    {
      "cell_type": "code",
      "source": [
        "c=0\n",
        "while c<10:\n",
        "  c=c+1\n",
        "  print(c)"
      ],
      "metadata": {
        "colab": {
          "base_uri": "https://localhost:8080/"
        },
        "id": "9FgemwRPh0bt",
        "outputId": "53967e16-9f46-4fc5-bb07-923c34ca5bb5"
      },
      "id": "9FgemwRPh0bt",
      "execution_count": null,
      "outputs": [
        {
          "output_type": "stream",
          "name": "stdout",
          "text": [
            "1\n",
            "2\n",
            "3\n",
            "4\n",
            "5\n",
            "6\n",
            "7\n",
            "8\n",
            "9\n",
            "10\n"
          ]
        }
      ]
    },
    {
      "cell_type": "code",
      "source": [
        "#reverse counting\n",
        "c=10\n",
        "while c>0:\n",
        "  print(c)\n",
        "  c=c-1"
      ],
      "metadata": {
        "colab": {
          "base_uri": "https://localhost:8080/"
        },
        "id": "4jG9M2INmYGq",
        "outputId": "256d0c1e-9114-4d31-8aae-634c007c2a4e"
      },
      "id": "4jG9M2INmYGq",
      "execution_count": null,
      "outputs": [
        {
          "output_type": "stream",
          "name": "stdout",
          "text": [
            "10\n",
            "9\n",
            "8\n",
            "7\n",
            "6\n",
            "5\n",
            "4\n",
            "3\n",
            "2\n",
            "1\n"
          ]
        }
      ]
    },
    {
      "cell_type": "code",
      "source": [
        "#input no.\n",
        "n= int(input('enter n'))\n",
        "c=0\n",
        "while c<n:\n",
        "  c=c+1\n",
        "  print(c)\n"
      ],
      "metadata": {
        "colab": {
          "base_uri": "https://localhost:8080/"
        },
        "id": "fZmaznrDoFof",
        "outputId": "74acf0bd-dc34-481d-fc5d-69e4c94837fc"
      },
      "id": "fZmaznrDoFof",
      "execution_count": null,
      "outputs": [
        {
          "output_type": "stream",
          "name": "stdout",
          "text": [
            "enter n4\n",
            "1\n",
            "2\n",
            "3\n",
            "4\n"
          ]
        }
      ]
    },
    {
      "cell_type": "code",
      "source": [
        "#reverse counting\n",
        "n=int(input('enter n '))\n",
        "c=0\n",
        "while n>c:\n",
        "  print(n)\n",
        "  n=n-1"
      ],
      "metadata": {
        "colab": {
          "base_uri": "https://localhost:8080/"
        },
        "id": "9pQ0Hz-2m77H",
        "outputId": "36e412b0-85a3-4f9b-ffbc-002cd7d92c37"
      },
      "id": "9pQ0Hz-2m77H",
      "execution_count": null,
      "outputs": [
        {
          "output_type": "stream",
          "name": "stdout",
          "text": [
            "enter n 10\n",
            "10\n",
            "9\n",
            "8\n",
            "7\n",
            "6\n",
            "5\n",
            "4\n",
            "3\n",
            "2\n",
            "1\n"
          ]
        }
      ]
    },
    {
      "cell_type": "code",
      "source": [
        "#sum of the input no.\n",
        "n=int(input('enter n'))\n",
        "c=0\n",
        "s=0\n",
        "while c<n:\n",
        "  c=c+1 #c+=1\n",
        "  s=s+c #s+=c\n",
        "print(s)"
      ],
      "metadata": {
        "colab": {
          "base_uri": "https://localhost:8080/"
        },
        "id": "azr2KR2nm8X1",
        "outputId": "fa2a0a3d-0767-482d-e8fe-e0f1093170fb"
      },
      "id": "azr2KR2nm8X1",
      "execution_count": null,
      "outputs": [
        {
          "output_type": "stream",
          "name": "stdout",
          "text": [
            "enter n5\n",
            "15\n"
          ]
        }
      ]
    },
    {
      "cell_type": "code",
      "source": [
        "#avg of the input no.\n",
        "n=int(input('enter n'))\n",
        "c=0\n",
        "s=0\n",
        "while c<n:\n",
        "  c=c+1\n",
        "  s=s+c #s+=c\n",
        "print(s/n)"
      ],
      "metadata": {
        "colab": {
          "base_uri": "https://localhost:8080/"
        },
        "id": "gxbHzq2Ao0X8",
        "outputId": "06eb192d-cb9e-4c6e-add7-f2cdc6d8c6cf"
      },
      "id": "gxbHzq2Ao0X8",
      "execution_count": null,
      "outputs": [
        {
          "output_type": "stream",
          "name": "stdout",
          "text": [
            "enter n6\n",
            "3.5\n"
          ]
        }
      ]
    },
    {
      "cell_type": "code",
      "source": [
        "#WAP to print the sum andd count of the even and odd number respectively.\n",
        "n=int(input('enter n '))\n",
        "c=0\n",
        "e=0\n",
        "ce=0\n",
        "se=0\n",
        "o=0\n",
        "co=0\n",
        "so=0\n",
        "while c<n:\n",
        "  c=c+1\n",
        "  if c%2==0:\n",
        "    e=e+1\n",
        "    ce=ce+1\n",
        "    se=se+c\n",
        "\n",
        "  else:\n",
        "    o=o+1\n",
        "    co=co+1\n",
        "    so=so+c\n",
        "\n",
        "    print(se,ce,so,co)\n",
        "print('sum of even no.',ce,se)\n",
        "print('sum of odd no.',co,so)"
      ],
      "metadata": {
        "colab": {
          "base_uri": "https://localhost:8080/"
        },
        "id": "2ANH36hOo0TV",
        "outputId": "eaa1cad0-99bc-46bb-db7a-baf9d0d8da9d"
      },
      "id": "2ANH36hOo0TV",
      "execution_count": null,
      "outputs": [
        {
          "output_type": "stream",
          "name": "stdout",
          "text": [
            "enter n 5\n",
            "0 0 1 1\n",
            "2 1 4 2\n",
            "6 2 9 3\n",
            "sum of even no. 2 6\n",
            "sum of odd no. 3 9\n"
          ]
        }
      ]
    },
    {
      "cell_type": "code",
      "source": [
        "#table print  of the input no.\n",
        "n=int(input('enter n'))\n",
        "c=0\n",
        "while c<10:\n",
        "  c=c+1\n",
        "  print(n*c)"
      ],
      "metadata": {
        "colab": {
          "base_uri": "https://localhost:8080/"
        },
        "id": "oMb0CrxKo0OM",
        "outputId": "b0692b6f-cc63-4ebd-ccf2-41243490d818"
      },
      "id": "oMb0CrxKo0OM",
      "execution_count": null,
      "outputs": [
        {
          "output_type": "stream",
          "name": "stdout",
          "text": [
            "enter n5\n",
            "5\n",
            "10\n",
            "15\n",
            "20\n",
            "25\n",
            "30\n",
            "35\n",
            "40\n",
            "45\n",
            "50\n"
          ]
        }
      ]
    },
    {
      "cell_type": "code",
      "source": [
        "#table print  of the input no.\n",
        "n=int(input('enter n'))\n",
        "c=0\n",
        "while c<10:\n",
        "  c=c+1\n",
        "  print(n,'*',c,'=',n*c)"
      ],
      "metadata": {
        "colab": {
          "base_uri": "https://localhost:8080/"
        },
        "id": "ieJSkirko0HH",
        "outputId": "b779faa6-bdc2-4ef0-9cdb-d4939fd2ead5"
      },
      "id": "ieJSkirko0HH",
      "execution_count": null,
      "outputs": [
        {
          "output_type": "stream",
          "name": "stdout",
          "text": [
            "enter n5\n",
            "5 * 1 = 5\n",
            "5 * 2 = 10\n",
            "5 * 3 = 15\n",
            "5 * 4 = 20\n",
            "5 * 5 = 25\n",
            "5 * 6 = 30\n",
            "5 * 7 = 35\n",
            "5 * 8 = 40\n",
            "5 * 9 = 45\n",
            "5 * 10 = 50\n"
          ]
        }
      ]
    },
    {
      "cell_type": "code",
      "source": [
        "#factorial of the input no.\n",
        "n=int(input('enter n  '))\n",
        "f=1\n",
        "c=0\n",
        "while c<n:\n",
        "  c=c+1\n",
        "  f=f*c\n",
        "print(f)"
      ],
      "metadata": {
        "colab": {
          "base_uri": "https://localhost:8080/"
        },
        "id": "sdG3gXlJoz9i",
        "outputId": "466d50b4-98e4-4157-e538-f8dceae7f6b5"
      },
      "id": "sdG3gXlJoz9i",
      "execution_count": null,
      "outputs": [
        {
          "output_type": "stream",
          "name": "stdout",
          "text": [
            "enter n  5\n",
            "120\n"
          ]
        }
      ]
    },
    {
      "cell_type": "code",
      "source": [
        "#Prime of the input no.\n",
        "n=int(input('enter n  '))\n",
        "c=0\n",
        "p=0\n",
        "while c<n:\n",
        "  c=c+1\n",
        "  if n%c==0:\n",
        "    p=p+1\n",
        "if p==2:\n",
        "  print('prime')\n",
        "else:\n",
        "  print('not prime')\n",
        "print(s)"
      ],
      "metadata": {
        "colab": {
          "base_uri": "https://localhost:8080/"
        },
        "id": "lp-B-fnioz3Q",
        "outputId": "5b6f31fd-44e5-4be2-82d4-aee0ea356d38"
      },
      "id": "lp-B-fnioz3Q",
      "execution_count": null,
      "outputs": [
        {
          "output_type": "stream",
          "name": "stdout",
          "text": [
            "enter n  5\n",
            "prime\n",
            "21\n"
          ]
        }
      ]
    },
    {
      "cell_type": "code",
      "source": [
        "456//10"
      ],
      "metadata": {
        "colab": {
          "base_uri": "https://localhost:8080/"
        },
        "id": "QXuXbxIExPqi",
        "outputId": "11f816a4-d90b-4c7c-fb51-2d4531c21066"
      },
      "id": "QXuXbxIExPqi",
      "execution_count": null,
      "outputs": [
        {
          "output_type": "execute_result",
          "data": {
            "text/plain": [
              "45"
            ]
          },
          "metadata": {},
          "execution_count": 39
        }
      ]
    },
    {
      "cell_type": "code",
      "source": [
        "45//10"
      ],
      "metadata": {
        "colab": {
          "base_uri": "https://localhost:8080/"
        },
        "id": "cbjNhexkxPh2",
        "outputId": "129c681c-ab90-4208-af61-312412712e92"
      },
      "id": "cbjNhexkxPh2",
      "execution_count": null,
      "outputs": [
        {
          "output_type": "execute_result",
          "data": {
            "text/plain": [
              "4"
            ]
          },
          "metadata": {},
          "execution_count": 40
        }
      ]
    },
    {
      "cell_type": "code",
      "source": [
        "5//10"
      ],
      "metadata": {
        "colab": {
          "base_uri": "https://localhost:8080/"
        },
        "id": "alv3OMMkxPYd",
        "outputId": "b071ee82-208f-4e53-bfbe-e2e328131e45"
      },
      "id": "alv3OMMkxPYd",
      "execution_count": null,
      "outputs": [
        {
          "output_type": "execute_result",
          "data": {
            "text/plain": [
              "0"
            ]
          },
          "metadata": {},
          "execution_count": 41
        }
      ]
    },
    {
      "cell_type": "code",
      "source": [
        "#count the digit of the input no.\n",
        "n=int(input('enter n'))\n",
        "c=0\n",
        "while n>0:\n",
        "  n=n//10\n",
        "  c+=1\n",
        "print(c)\n"
      ],
      "metadata": {
        "colab": {
          "base_uri": "https://localhost:8080/"
        },
        "id": "pxIDS6rsozsE",
        "outputId": "dbbe5cf9-2ec6-41da-9d88-cfbcbb614743"
      },
      "id": "pxIDS6rsozsE",
      "execution_count": null,
      "outputs": [
        {
          "output_type": "stream",
          "name": "stdout",
          "text": [
            "enter n457\n",
            "3\n"
          ]
        }
      ]
    },
    {
      "cell_type": "code",
      "source": [
        "#reverse input no.\n",
        "n= 456 #654"
      ],
      "metadata": {
        "id": "S_zaLl2Nm9TK"
      },
      "id": "S_zaLl2Nm9TK",
      "execution_count": null,
      "outputs": []
    },
    {
      "cell_type": "code",
      "source": [
        "321%10\n"
      ],
      "metadata": {
        "id": "3QUlw_t4wlGz",
        "colab": {
          "base_uri": "https://localhost:8080/"
        },
        "outputId": "01138325-b973-417a-ae65-08643cc53db4"
      },
      "id": "3QUlw_t4wlGz",
      "execution_count": null,
      "outputs": [
        {
          "output_type": "execute_result",
          "data": {
            "text/plain": [
              "1"
            ]
          },
          "metadata": {},
          "execution_count": 3
        }
      ]
    },
    {
      "cell_type": "code",
      "source": [
        "32%10"
      ],
      "metadata": {
        "id": "Oq9CadI3wlDc",
        "colab": {
          "base_uri": "https://localhost:8080/"
        },
        "outputId": "0b8c0cf8-06eb-4146-da93-b54ec916b578"
      },
      "id": "Oq9CadI3wlDc",
      "execution_count": null,
      "outputs": [
        {
          "output_type": "execute_result",
          "data": {
            "text/plain": [
              "2"
            ]
          },
          "metadata": {},
          "execution_count": 4
        }
      ]
    },
    {
      "cell_type": "code",
      "source": [
        "3%10"
      ],
      "metadata": {
        "id": "lfHcuRhwwlAL",
        "colab": {
          "base_uri": "https://localhost:8080/"
        },
        "outputId": "fc031aec-edb4-47d1-cc4f-a9538d9624cb"
      },
      "id": "lfHcuRhwwlAL",
      "execution_count": null,
      "outputs": [
        {
          "output_type": "execute_result",
          "data": {
            "text/plain": [
              "3"
            ]
          },
          "metadata": {},
          "execution_count": 5
        }
      ]
    },
    {
      "cell_type": "code",
      "source": [
        "321//10"
      ],
      "metadata": {
        "id": "NrCU66u1wk9T",
        "colab": {
          "base_uri": "https://localhost:8080/"
        },
        "outputId": "cae2d3d4-d06b-417b-da84-69dd3cd3bfc2"
      },
      "id": "NrCU66u1wk9T",
      "execution_count": null,
      "outputs": [
        {
          "output_type": "execute_result",
          "data": {
            "text/plain": [
              "32"
            ]
          },
          "metadata": {},
          "execution_count": 6
        }
      ]
    },
    {
      "cell_type": "code",
      "source": [
        "32//10"
      ],
      "metadata": {
        "id": "IVWjj580wk6a",
        "colab": {
          "base_uri": "https://localhost:8080/"
        },
        "outputId": "3246a29e-c81e-4bba-b876-1f3b97be6e94"
      },
      "id": "IVWjj580wk6a",
      "execution_count": null,
      "outputs": [
        {
          "output_type": "execute_result",
          "data": {
            "text/plain": [
              "3"
            ]
          },
          "metadata": {},
          "execution_count": 7
        }
      ]
    },
    {
      "cell_type": "code",
      "source": [
        "3//10\n"
      ],
      "metadata": {
        "id": "fdkWy4p2wk2n",
        "colab": {
          "base_uri": "https://localhost:8080/"
        },
        "outputId": "4e47896e-d14d-4a6f-ad8f-247854d9ed13"
      },
      "id": "fdkWy4p2wk2n",
      "execution_count": null,
      "outputs": [
        {
          "output_type": "execute_result",
          "data": {
            "text/plain": [
              "0"
            ]
          },
          "metadata": {},
          "execution_count": 8
        }
      ]
    },
    {
      "cell_type": "code",
      "source": [
        "#reverse input no.\n",
        "n= 321 #123\n",
        "rev=0\n",
        "while n>0:\n",
        "  d=n%10\n",
        "  rev=rev*10+d\n",
        "  n=n//10\n",
        "print(rev)\n"
      ],
      "metadata": {
        "id": "4zGr-N4lwksR",
        "colab": {
          "base_uri": "https://localhost:8080/"
        },
        "outputId": "21f7ca1e-ab25-46f6-dfa3-064f145e55f6"
      },
      "id": "4zGr-N4lwksR",
      "execution_count": null,
      "outputs": [
        {
          "output_type": "stream",
          "name": "stdout",
          "text": [
            "123\n"
          ]
        }
      ]
    },
    {
      "cell_type": "code",
      "source": [
        "#Palindrome\n",
        "n = int(input('enter n'))\n",
        "rev = 0\n",
        "x = n\n",
        "while n>0:\n",
        "  d = n%10\n",
        "  rev = rev*10+d\n",
        "  n = n//10\n",
        "print(rev)\n",
        "\n",
        "if x==rev:\n",
        "  print('palindrome')\n",
        "else:\n",
        "  print('not palindrome')"
      ],
      "metadata": {
        "id": "Gb8jYagsmYxw",
        "colab": {
          "base_uri": "https://localhost:8080/"
        },
        "outputId": "d495345a-5e3a-446f-e18e-c56ac7073d12"
      },
      "id": "Gb8jYagsmYxw",
      "execution_count": null,
      "outputs": [
        {
          "output_type": "stream",
          "name": "stdout",
          "text": [
            "enter n121\n",
            "121\n",
            "palindrome\n"
          ]
        }
      ]
    },
    {
      "cell_type": "code",
      "source": [
        "#Jumps Statement"
      ],
      "metadata": {
        "id": "OfbD0-ifmmwt"
      },
      "id": "OfbD0-ifmmwt",
      "execution_count": null,
      "outputs": []
    },
    {
      "cell_type": "code",
      "source": [
        "# break\n",
        "# continue\n",
        "# pass"
      ],
      "metadata": {
        "id": "ZF1FqrUYmnL3"
      },
      "id": "ZF1FqrUYmnL3",
      "execution_count": null,
      "outputs": []
    },
    {
      "cell_type": "code",
      "source": [
        "#Break\n",
        "for i in range(10):\n",
        "    if i==4:\n",
        "        break\n",
        "    print(i)"
      ],
      "metadata": {
        "id": "e7caSJrmmnRA",
        "colab": {
          "base_uri": "https://localhost:8080/"
        },
        "outputId": "d1f393d6-a38f-42f7-b50f-33ef087ae5dc"
      },
      "id": "e7caSJrmmnRA",
      "execution_count": null,
      "outputs": [
        {
          "output_type": "stream",
          "name": "stdout",
          "text": [
            "0\n",
            "1\n",
            "2\n",
            "3\n"
          ]
        }
      ]
    },
    {
      "cell_type": "code",
      "source": [
        "for i in range(10):\n",
        "    if i==4:\n",
        "        print(i)\n",
        "        break\n",
        "    print(i)"
      ],
      "metadata": {
        "id": "9YYC7-71nntP",
        "colab": {
          "base_uri": "https://localhost:8080/"
        },
        "outputId": "d4423a29-13bf-4c17-f199-03cc65290b81"
      },
      "id": "9YYC7-71nntP",
      "execution_count": null,
      "outputs": [
        {
          "output_type": "stream",
          "name": "stdout",
          "text": [
            "0\n",
            "1\n",
            "2\n",
            "3\n",
            "4\n"
          ]
        }
      ]
    },
    {
      "cell_type": "code",
      "source": [
        "for i in range(2,10):\n",
        "    print(i)\n",
        "    if i==4:\n",
        "\n",
        "        break\n",
        "    print(i)\n",
        "\n",
        "print('bye')"
      ],
      "metadata": {
        "id": "ZaWU3Vjgnne4",
        "colab": {
          "base_uri": "https://localhost:8080/"
        },
        "outputId": "726212d1-8d18-49ea-9154-d1ca2de1eb22"
      },
      "id": "ZaWU3Vjgnne4",
      "execution_count": null,
      "outputs": [
        {
          "output_type": "stream",
          "name": "stdout",
          "text": [
            "2\n",
            "2\n",
            "3\n",
            "3\n",
            "4\n",
            "bye\n"
          ]
        }
      ]
    },
    {
      "cell_type": "code",
      "source": [
        "for i in range(1,6):\n",
        "    if i==3:\n",
        "        print('hello')\n",
        "        break\n",
        "\n",
        "    print(i)"
      ],
      "metadata": {
        "id": "UHoUnL_DslE-",
        "colab": {
          "base_uri": "https://localhost:8080/"
        },
        "outputId": "f86dcfef-787f-4480-bfaf-30d1f2586d01"
      },
      "id": "UHoUnL_DslE-",
      "execution_count": null,
      "outputs": [
        {
          "output_type": "stream",
          "name": "stdout",
          "text": [
            "1\n",
            "2\n",
            "hello\n"
          ]
        }
      ]
    },
    {
      "cell_type": "code",
      "source": [
        "for i in range(10):\n",
        "    if i==3:\n",
        "        break\n",
        "    print(i)\n",
        "print('bye')"
      ],
      "metadata": {
        "id": "7bchg05Fsk0U",
        "colab": {
          "base_uri": "https://localhost:8080/"
        },
        "outputId": "a69ffb64-bfe9-4aa5-f3db-b9431ea9a9bf"
      },
      "id": "7bchg05Fsk0U",
      "execution_count": null,
      "outputs": [
        {
          "output_type": "stream",
          "name": "stdout",
          "text": [
            "0\n",
            "1\n",
            "2\n",
            "bye\n"
          ]
        }
      ]
    },
    {
      "cell_type": "code",
      "source": [
        "for i in range(10):\n",
        "    print(i)\n",
        "    if i==3:\n",
        "        break\n",
        "print('bye')"
      ],
      "metadata": {
        "id": "2df1R-BmskmI",
        "colab": {
          "base_uri": "https://localhost:8080/"
        },
        "outputId": "e6d30ec4-714c-457b-a8d7-c2b865e80f2a"
      },
      "id": "2df1R-BmskmI",
      "execution_count": null,
      "outputs": [
        {
          "output_type": "stream",
          "name": "stdout",
          "text": [
            "0\n",
            "1\n",
            "2\n",
            "3\n",
            "bye\n"
          ]
        }
      ]
    },
    {
      "cell_type": "code",
      "source": [
        "for i in range(10):\n",
        "    print(i)\n",
        "    if i==3:\n",
        "        break\n",
        "print('bye')"
      ],
      "metadata": {
        "id": "IkE3FxD9mnYV",
        "colab": {
          "base_uri": "https://localhost:8080/"
        },
        "outputId": "574e09a5-430f-499e-d97b-26e652ee0c4d"
      },
      "id": "IkE3FxD9mnYV",
      "execution_count": null,
      "outputs": [
        {
          "output_type": "stream",
          "name": "stdout",
          "text": [
            "0\n",
            "1\n",
            "2\n",
            "3\n",
            "bye\n"
          ]
        }
      ]
    },
    {
      "cell_type": "code",
      "source": [
        "for i in range(10):\n",
        "    print(i)\n",
        "    if i==3:\n",
        "        break\n",
        "    print(i)\n",
        "print('bye')"
      ],
      "metadata": {
        "colab": {
          "base_uri": "https://localhost:8080/"
        },
        "id": "teb1YN199ww8",
        "outputId": "587c8ae2-bfed-48da-8e6a-c121b5e0c292"
      },
      "id": "teb1YN199ww8",
      "execution_count": null,
      "outputs": [
        {
          "output_type": "stream",
          "name": "stdout",
          "text": [
            "0\n",
            "0\n",
            "1\n",
            "1\n",
            "2\n",
            "2\n",
            "3\n",
            "bye\n"
          ]
        }
      ]
    },
    {
      "cell_type": "code",
      "source": [
        "for i in range(10):\n",
        "    if i==3:\n",
        "        break\n",
        "        print('hello')\n",
        "    print(i)\n",
        "print('bye')"
      ],
      "metadata": {
        "colab": {
          "base_uri": "https://localhost:8080/"
        },
        "id": "klqEAgwo9wrY",
        "outputId": "21752274-9f30-42c2-bbab-584b2301880a"
      },
      "id": "klqEAgwo9wrY",
      "execution_count": null,
      "outputs": [
        {
          "output_type": "stream",
          "name": "stdout",
          "text": [
            "0\n",
            "1\n",
            "2\n",
            "bye\n"
          ]
        }
      ]
    },
    {
      "cell_type": "code",
      "source": [
        "for i in range(10):\n",
        "    if i==3:\n",
        "        print(i)\n",
        "        break\n",
        "        print('hello')\n",
        "\n",
        "print('bye')"
      ],
      "metadata": {
        "colab": {
          "base_uri": "https://localhost:8080/"
        },
        "id": "KbPudgWZ9whU",
        "outputId": "a1b21d83-62a1-4493-9982-e95436723529"
      },
      "id": "KbPudgWZ9whU",
      "execution_count": null,
      "outputs": [
        {
          "output_type": "stream",
          "name": "stdout",
          "text": [
            "3\n",
            "bye\n"
          ]
        }
      ]
    },
    {
      "cell_type": "code",
      "source": [
        "x=1\n",
        "while x<=10:\n",
        "    print(x)\n",
        "    if x==5:\n",
        "        break\n",
        "    x=x+1\n",
        "\n",
        "print(\"This statement will print after the loop..\")"
      ],
      "metadata": {
        "colab": {
          "base_uri": "https://localhost:8080/"
        },
        "id": "n4CA0Qin9wR4",
        "outputId": "530a2db4-54ad-4034-fea5-0e0ad31a0994"
      },
      "id": "n4CA0Qin9wR4",
      "execution_count": null,
      "outputs": [
        {
          "output_type": "stream",
          "name": "stdout",
          "text": [
            "1\n",
            "2\n",
            "3\n",
            "4\n",
            "5\n",
            "This statement will print after the loop..\n"
          ]
        }
      ]
    },
    {
      "cell_type": "code",
      "source": [
        "list = [1,2,3,4,5,6]\n",
        "s=0\n",
        "c=0\n",
        "for num in list:\n",
        "        print(num)\n",
        "        s+=num\n",
        "        c+=1\n",
        "        if c==3:\n",
        "             break\n",
        "print(\"sum is\",(s))"
      ],
      "metadata": {
        "colab": {
          "base_uri": "https://localhost:8080/"
        },
        "id": "0T6Hpk1--JW7",
        "outputId": "c48fc42e-f2f2-4d0e-81ee-07f1cf8647a2"
      },
      "id": "0T6Hpk1--JW7",
      "execution_count": null,
      "outputs": [
        {
          "output_type": "stream",
          "name": "stdout",
          "text": [
            "1\n",
            "2\n",
            "3\n",
            "sum is 6\n"
          ]
        }
      ]
    },
    {
      "cell_type": "code",
      "source": [
        "x=0\n",
        "while x<=7:\n",
        "    x=x+1\n",
        "    if x==5:\n",
        "        break\n",
        "    print(x)\n",
        "\n",
        "print(\"This statement will print after the loop..\")"
      ],
      "metadata": {
        "colab": {
          "base_uri": "https://localhost:8080/"
        },
        "id": "mT4kKBq_ANA5",
        "outputId": "e3afe093-603d-4998-9f35-bfd464d98124"
      },
      "id": "mT4kKBq_ANA5",
      "execution_count": null,
      "outputs": [
        {
          "output_type": "stream",
          "name": "stdout",
          "text": [
            "1\n",
            "2\n",
            "3\n",
            "4\n",
            "This statement will print after the loop..\n"
          ]
        }
      ]
    },
    {
      "cell_type": "code",
      "source": [
        "s=0\n",
        "c=0\n",
        "while c < 6:\n",
        "    s+=c\n",
        "    c+=1\n",
        "    if(c == 5):\n",
        "        break\n",
        "    print(\"count is:\",(c))\n",
        "print(\"sum is:\",(s))"
      ],
      "metadata": {
        "colab": {
          "base_uri": "https://localhost:8080/"
        },
        "id": "vCJJL0MyAYGT",
        "outputId": "e395fcf1-ed1a-4942-96ef-3edd5d13496d"
      },
      "id": "vCJJL0MyAYGT",
      "execution_count": null,
      "outputs": [
        {
          "output_type": "stream",
          "name": "stdout",
          "text": [
            "count is: 1\n",
            "count is: 2\n",
            "count is: 3\n",
            "count is: 4\n",
            "sum is: 10\n"
          ]
        }
      ]
    },
    {
      "cell_type": "code",
      "source": [
        "s=0\n",
        "c=0\n",
        "while c < 6:\n",
        "    s+=c\n",
        "    c+=1\n",
        "    if(c == 3):\n",
        "        break\n",
        "print(\"sum is\",(s))"
      ],
      "metadata": {
        "colab": {
          "base_uri": "https://localhost:8080/"
        },
        "id": "iYxINU_6-JTS",
        "outputId": "dbb648e3-b4f4-44b9-da8a-f093ab634440"
      },
      "id": "iYxINU_6-JTS",
      "execution_count": null,
      "outputs": [
        {
          "output_type": "stream",
          "name": "stdout",
          "text": [
            "sum is 3\n"
          ]
        }
      ]
    },
    {
      "cell_type": "code",
      "source": [
        "for i in range(1,6):\n",
        "    if i==3:\n",
        "        break\n",
        "    print(i)\n",
        "else:\n",
        "    print('hello')\n",
        "print('hii')"
      ],
      "metadata": {
        "colab": {
          "base_uri": "https://localhost:8080/"
        },
        "id": "Nn6cxWjiBOO1",
        "outputId": "962380a9-b46f-4ffd-ef60-6c565ac3dd0d"
      },
      "id": "Nn6cxWjiBOO1",
      "execution_count": null,
      "outputs": [
        {
          "output_type": "stream",
          "name": "stdout",
          "text": [
            "1\n",
            "2\n",
            "hii\n"
          ]
        }
      ]
    },
    {
      "cell_type": "code",
      "source": [
        "n=12345\n",
        "for i in n:\n",
        "    print(i)\n",
        "    if i==2:\n",
        "        print(i)\n",
        "        break\n",
        "        print('hello')\n",
        "    print(i)"
      ],
      "metadata": {
        "colab": {
          "base_uri": "https://localhost:8080/",
          "height": 211
        },
        "id": "2JTvRwdE-JAK",
        "outputId": "4e4d8059-9ee1-4751-e068-4f5daaa425b5"
      },
      "id": "2JTvRwdE-JAK",
      "execution_count": null,
      "outputs": [
        {
          "output_type": "error",
          "ename": "TypeError",
          "evalue": "'int' object is not iterable",
          "traceback": [
            "\u001b[0;31m---------------------------------------------------------------------------\u001b[0m",
            "\u001b[0;31mTypeError\u001b[0m                                 Traceback (most recent call last)",
            "\u001b[0;32m<ipython-input-20-fac21306a052>\u001b[0m in \u001b[0;36m<cell line: 0>\u001b[0;34m()\u001b[0m\n\u001b[1;32m      1\u001b[0m \u001b[0mn\u001b[0m\u001b[0;34m=\u001b[0m\u001b[0;36m12345\u001b[0m\u001b[0;34m\u001b[0m\u001b[0;34m\u001b[0m\u001b[0m\n\u001b[0;32m----> 2\u001b[0;31m \u001b[0;32mfor\u001b[0m \u001b[0mi\u001b[0m \u001b[0;32min\u001b[0m \u001b[0mn\u001b[0m\u001b[0;34m:\u001b[0m\u001b[0;34m\u001b[0m\u001b[0;34m\u001b[0m\u001b[0m\n\u001b[0m\u001b[1;32m      3\u001b[0m     \u001b[0mprint\u001b[0m\u001b[0;34m(\u001b[0m\u001b[0mi\u001b[0m\u001b[0;34m)\u001b[0m\u001b[0;34m\u001b[0m\u001b[0;34m\u001b[0m\u001b[0m\n\u001b[1;32m      4\u001b[0m     \u001b[0;32mif\u001b[0m \u001b[0mi\u001b[0m\u001b[0;34m==\u001b[0m\u001b[0;36m2\u001b[0m\u001b[0;34m:\u001b[0m\u001b[0;34m\u001b[0m\u001b[0;34m\u001b[0m\u001b[0m\n\u001b[1;32m      5\u001b[0m         \u001b[0mprint\u001b[0m\u001b[0;34m(\u001b[0m\u001b[0mi\u001b[0m\u001b[0;34m)\u001b[0m\u001b[0;34m\u001b[0m\u001b[0;34m\u001b[0m\u001b[0m\n",
            "\u001b[0;31mTypeError\u001b[0m: 'int' object is not iterable"
          ]
        }
      ]
    },
    {
      "cell_type": "code",
      "source": [
        "#Continue\n",
        "\n",
        "for i in range(1,6):\n",
        "    if i==3:\n",
        "        continue\n",
        "    print(i)"
      ],
      "metadata": {
        "colab": {
          "base_uri": "https://localhost:8080/"
        },
        "id": "AxX9xSRT-I8p",
        "outputId": "49dce1e0-802e-4c2c-8136-d0fb39ec95fc"
      },
      "id": "AxX9xSRT-I8p",
      "execution_count": null,
      "outputs": [
        {
          "output_type": "stream",
          "name": "stdout",
          "text": [
            "1\n",
            "2\n",
            "4\n",
            "5\n"
          ]
        }
      ]
    },
    {
      "cell_type": "code",
      "source": [
        "for i in range(1,6):\n",
        "    if i==3:\n",
        "        print(i)\n",
        "        continue\n",
        "    print(i)"
      ],
      "metadata": {
        "colab": {
          "base_uri": "https://localhost:8080/"
        },
        "id": "GOqI1r9d-I5B",
        "outputId": "4a16e1b6-3ee6-4725-9c1e-4674284476fc"
      },
      "id": "GOqI1r9d-I5B",
      "execution_count": null,
      "outputs": [
        {
          "output_type": "stream",
          "name": "stdout",
          "text": [
            "1\n",
            "2\n",
            "3\n",
            "4\n",
            "5\n"
          ]
        }
      ]
    },
    {
      "cell_type": "code",
      "source": [
        "for i in range(1,6):\n",
        "    print(i)\n",
        "    if i==3:\n",
        "        print(i)\n",
        "        continue\n"
      ],
      "metadata": {
        "colab": {
          "base_uri": "https://localhost:8080/"
        },
        "id": "Fu7FHgLa-I1Z",
        "outputId": "662df9d6-c81d-4de8-90d5-62b0cde74d6d"
      },
      "id": "Fu7FHgLa-I1Z",
      "execution_count": null,
      "outputs": [
        {
          "output_type": "stream",
          "name": "stdout",
          "text": [
            "1\n",
            "2\n",
            "3\n",
            "3\n",
            "4\n",
            "5\n"
          ]
        }
      ]
    },
    {
      "cell_type": "code",
      "source": [
        "for i in range(1,5):\n",
        "    print(i)\n",
        "    if i==3:\n",
        "\n",
        "        continue\n",
        "        print(i)"
      ],
      "metadata": {
        "colab": {
          "base_uri": "https://localhost:8080/"
        },
        "id": "RCw1Uo98-Ix0",
        "outputId": "3e2814c1-5cb4-47f3-a898-d0ab25f1898b"
      },
      "id": "RCw1Uo98-Ix0",
      "execution_count": null,
      "outputs": [
        {
          "output_type": "stream",
          "name": "stdout",
          "text": [
            "1\n",
            "2\n",
            "3\n",
            "4\n"
          ]
        }
      ]
    },
    {
      "cell_type": "code",
      "source": [
        "for i in range(1,7):\n",
        "    if i==3:\n",
        "        continue\n",
        "    print(i)"
      ],
      "metadata": {
        "colab": {
          "base_uri": "https://localhost:8080/"
        },
        "id": "oTaVxiPo-It-",
        "outputId": "a9cbc5da-2552-4f70-d0bf-8271a46af4f9"
      },
      "id": "oTaVxiPo-It-",
      "execution_count": null,
      "outputs": [
        {
          "output_type": "stream",
          "name": "stdout",
          "text": [
            "1\n",
            "2\n",
            "4\n",
            "5\n",
            "6\n"
          ]
        }
      ]
    },
    {
      "cell_type": "code",
      "source": [
        "for i in range(1,7):\n",
        "    print(i)\n",
        "    if i==3:\n",
        "        continue"
      ],
      "metadata": {
        "colab": {
          "base_uri": "https://localhost:8080/"
        },
        "id": "QsENF0gs-Inv",
        "outputId": "0b4b10cd-7a66-40b1-fd41-8fa6e983a064"
      },
      "id": "QsENF0gs-Inv",
      "execution_count": null,
      "outputs": [
        {
          "output_type": "stream",
          "name": "stdout",
          "text": [
            "1\n",
            "2\n",
            "3\n",
            "4\n",
            "5\n",
            "6\n"
          ]
        }
      ]
    },
    {
      "cell_type": "code",
      "source": [
        "for i in range(1,6):\n",
        "    print(i)\n",
        "    if i==3:\n",
        "        continue\n",
        "    print(i)"
      ],
      "metadata": {
        "colab": {
          "base_uri": "https://localhost:8080/"
        },
        "id": "3c0ih3Y2-IgV",
        "outputId": "033b6d3c-e537-4a34-fcdc-d95fd2648932"
      },
      "id": "3c0ih3Y2-IgV",
      "execution_count": null,
      "outputs": [
        {
          "output_type": "stream",
          "name": "stdout",
          "text": [
            "1\n",
            "1\n",
            "2\n",
            "2\n",
            "3\n",
            "4\n",
            "4\n",
            "5\n",
            "5\n"
          ]
        }
      ]
    },
    {
      "cell_type": "code",
      "source": [
        "for i in range(1,6):\n",
        "\n",
        "    if i==3:\n",
        "        continue\n",
        "        print('hello')\n",
        "print('bye')\n"
      ],
      "metadata": {
        "colab": {
          "base_uri": "https://localhost:8080/"
        },
        "id": "X4Nk9SQI9wOo",
        "outputId": "e1c06fc6-424a-4e9b-f99f-0df610ab938d"
      },
      "id": "X4Nk9SQI9wOo",
      "execution_count": null,
      "outputs": [
        {
          "output_type": "stream",
          "name": "stdout",
          "text": [
            "bye\n"
          ]
        }
      ]
    },
    {
      "cell_type": "code",
      "source": [
        "for i in range(1,6):\n",
        "\n",
        "    if i==3:\n",
        "        print(i)\n",
        "        continue\n",
        "        print('hello')\n",
        "print('bye')\n"
      ],
      "metadata": {
        "colab": {
          "base_uri": "https://localhost:8080/"
        },
        "id": "6-wp7sOk_Kvt",
        "outputId": "a78a231d-72d3-4a35-f4e4-50c38c01bdae"
      },
      "id": "6-wp7sOk_Kvt",
      "execution_count": null,
      "outputs": [
        {
          "output_type": "stream",
          "name": "stdout",
          "text": [
            "3\n",
            "bye\n"
          ]
        }
      ]
    },
    {
      "cell_type": "code",
      "source": [
        "x=0\n",
        "while x<=7:\n",
        "    x=x+1\n",
        "    if x==5:\n",
        "        continue\n",
        "    print(x)\n",
        "\n",
        "print(\"This statement will print after the loop..\")"
      ],
      "metadata": {
        "colab": {
          "base_uri": "https://localhost:8080/"
        },
        "id": "Ln-3Ud0L_Kpx",
        "outputId": "5aed8ba4-45c6-40e1-c459-8566a40a762e"
      },
      "id": "Ln-3Ud0L_Kpx",
      "execution_count": null,
      "outputs": [
        {
          "output_type": "stream",
          "name": "stdout",
          "text": [
            "1\n",
            "2\n",
            "3\n",
            "4\n",
            "6\n",
            "7\n",
            "8\n",
            "This statement will print after the loop..\n"
          ]
        }
      ]
    },
    {
      "cell_type": "code",
      "source": [
        "s=0\n",
        "c=0\n",
        "while c < 6:\n",
        "    s+=c\n",
        "    c+=1\n",
        "    if(c == 5):\n",
        "        continue\n",
        "    print(\"count is:\",(c))\n",
        "print(\"sum is:\",(s))"
      ],
      "metadata": {
        "colab": {
          "base_uri": "https://localhost:8080/"
        },
        "id": "n9uqMdSO_Kgh",
        "outputId": "89dc9170-91fa-478d-9194-ff60ba06d117"
      },
      "id": "n9uqMdSO_Kgh",
      "execution_count": null,
      "outputs": [
        {
          "output_type": "stream",
          "name": "stdout",
          "text": [
            "count is: 1\n",
            "count is: 2\n",
            "count is: 3\n",
            "count is: 4\n",
            "count is: 6\n",
            "sum is: 15\n"
          ]
        }
      ]
    },
    {
      "cell_type": "code",
      "source": [
        "print(i)"
      ],
      "metadata": {
        "colab": {
          "base_uri": "https://localhost:8080/"
        },
        "id": "xHl_U5h5_KM7",
        "outputId": "eef563ef-f13d-4218-e2f0-35505f49db65"
      },
      "id": "xHl_U5h5_KM7",
      "execution_count": null,
      "outputs": [
        {
          "output_type": "stream",
          "name": "stdout",
          "text": [
            "5\n"
          ]
        }
      ]
    },
    {
      "cell_type": "code",
      "source": [
        "s=0\n",
        "for c in range(1,9):\n",
        "    s+=c\n",
        "    c+=1\n",
        "\n",
        "    if(c == 5):\n",
        "\n",
        "        continue\n",
        "\n",
        "    print(\"c is:\",(c))\n",
        "print(\"sum is\",(s))"
      ],
      "metadata": {
        "colab": {
          "base_uri": "https://localhost:8080/"
        },
        "id": "-ddgpkN2_KHq",
        "outputId": "9cb8d71e-e85d-495d-ffd9-5fe3287ca1c0"
      },
      "id": "-ddgpkN2_KHq",
      "execution_count": null,
      "outputs": [
        {
          "output_type": "stream",
          "name": "stdout",
          "text": [
            "c is: 2\n",
            "c is: 3\n",
            "c is: 4\n",
            "c is: 6\n",
            "c is: 7\n",
            "c is: 8\n",
            "c is: 9\n",
            "sum is 36\n"
          ]
        }
      ]
    },
    {
      "cell_type": "code",
      "source": [
        "n='deepanshu'\n",
        "for i in n:\n",
        "    if i=='a':\n",
        "        break\n",
        "        print('hello')\n",
        "    print(i)\n"
      ],
      "metadata": {
        "colab": {
          "base_uri": "https://localhost:8080/"
        },
        "id": "2Cf9ChBy_KDI",
        "outputId": "4b211c89-add9-4b6d-b57a-d74df926847d"
      },
      "id": "2Cf9ChBy_KDI",
      "execution_count": null,
      "outputs": [
        {
          "output_type": "stream",
          "name": "stdout",
          "text": [
            "d\n",
            "e\n",
            "e\n",
            "p\n"
          ]
        }
      ]
    },
    {
      "cell_type": "code",
      "source": [
        "n='deepanshu'\n",
        "for i in n:\n",
        "    if i=='a':\n",
        "        continue\n",
        "        print('hello')\n",
        "print(i)"
      ],
      "metadata": {
        "colab": {
          "base_uri": "https://localhost:8080/"
        },
        "id": "fF5B4oOB_J_W",
        "outputId": "f25c2f60-6c86-411c-fc4e-bb4d56452f36"
      },
      "id": "fF5B4oOB_J_W",
      "execution_count": null,
      "outputs": [
        {
          "output_type": "stream",
          "name": "stdout",
          "text": [
            "u\n"
          ]
        }
      ]
    },
    {
      "cell_type": "code",
      "source": [
        "# pass"
      ],
      "metadata": {
        "id": "Iofp97Eg9wLZ"
      },
      "id": "Iofp97Eg9wLZ",
      "execution_count": null,
      "outputs": []
    },
    {
      "cell_type": "code",
      "source": [
        "n=int(input('enter n '))\n",
        "if n%2==0:\n",
        "    print('even')\n",
        "else:\n",
        "    pass\n"
      ],
      "metadata": {
        "colab": {
          "base_uri": "https://localhost:8080/"
        },
        "id": "w_RDg-Nc9wIB",
        "outputId": "478c9f38-19bc-4538-b776-0d9e0781f5b1"
      },
      "id": "w_RDg-Nc9wIB",
      "execution_count": null,
      "outputs": [
        {
          "name": "stdout",
          "output_type": "stream",
          "text": [
            "enter n 3\n"
          ]
        }
      ]
    },
    {
      "cell_type": "code",
      "source": [
        "for i in range(1,6):\n",
        "    print(i)\n",
        "else:\n",
        "    print('hello')\n",
        "print('hii')"
      ],
      "metadata": {
        "colab": {
          "base_uri": "https://localhost:8080/"
        },
        "id": "yX9krmJtAuUQ",
        "outputId": "18994ca6-bb49-4c79-b0dd-ab750fc0a1f1"
      },
      "id": "yX9krmJtAuUQ",
      "execution_count": null,
      "outputs": [
        {
          "output_type": "stream",
          "name": "stdout",
          "text": [
            "1\n",
            "2\n",
            "3\n",
            "4\n",
            "5\n",
            "hello\n",
            "hii\n"
          ]
        }
      ]
    },
    {
      "cell_type": "code",
      "source": [
        "for i in range(1,6):\n",
        "    if i==3:\n",
        "        break\n",
        "    print(i)\n",
        "else:\n",
        "    print('hello')\n"
      ],
      "metadata": {
        "colab": {
          "base_uri": "https://localhost:8080/"
        },
        "id": "aCvEChhIAuQd",
        "outputId": "25462ae2-47dd-43dd-f88f-282c1bfd476d"
      },
      "id": "aCvEChhIAuQd",
      "execution_count": null,
      "outputs": [
        {
          "output_type": "stream",
          "name": "stdout",
          "text": [
            "1\n",
            "2\n"
          ]
        }
      ]
    },
    {
      "cell_type": "code",
      "source": [
        "# Nested Loop"
      ],
      "metadata": {
        "id": "oM4ClSegAuMd"
      },
      "id": "oM4ClSegAuMd",
      "execution_count": null,
      "outputs": []
    },
    {
      "cell_type": "code",
      "source": [
        "for i in range(1,3): # outer loop\n",
        "    for j in range(1,3): # inner loop\n",
        "        print(j)"
      ],
      "metadata": {
        "colab": {
          "base_uri": "https://localhost:8080/"
        },
        "id": "4-m5ZoGWDOSH",
        "outputId": "fee63c83-a7c5-4162-ddae-e8997558a912"
      },
      "id": "4-m5ZoGWDOSH",
      "execution_count": null,
      "outputs": [
        {
          "output_type": "stream",
          "name": "stdout",
          "text": [
            "1\n",
            "2\n",
            "1\n",
            "2\n"
          ]
        }
      ]
    },
    {
      "cell_type": "code",
      "source": [
        "for i in range(3): # outer loop\n",
        "    for j in range(1,3): # inner loop\n",
        "        print(i)"
      ],
      "metadata": {
        "colab": {
          "base_uri": "https://localhost:8080/"
        },
        "id": "71WI0TZqAuIO",
        "outputId": "7251fb06-851e-4526-ac58-d436425031f4"
      },
      "id": "71WI0TZqAuIO",
      "execution_count": null,
      "outputs": [
        {
          "output_type": "stream",
          "name": "stdout",
          "text": [
            "0\n",
            "0\n",
            "1\n",
            "1\n",
            "2\n",
            "2\n"
          ]
        }
      ]
    },
    {
      "cell_type": "code",
      "source": [
        "for i in range(1,3): # outer loop\n",
        "    for j in range(1,i): # inner loop\n",
        "        print(j)"
      ],
      "metadata": {
        "colab": {
          "base_uri": "https://localhost:8080/"
        },
        "id": "L_Cwu7CwAuCs",
        "outputId": "1d17ab86-25f2-487e-b17d-6a092310a59c"
      },
      "id": "L_Cwu7CwAuCs",
      "execution_count": null,
      "outputs": [
        {
          "output_type": "stream",
          "name": "stdout",
          "text": [
            "1\n"
          ]
        }
      ]
    },
    {
      "cell_type": "code",
      "source": [
        "n=int(input('enter n '))\n",
        "for i in range(1,n+1):\n",
        "    print('Table of ',i)\n",
        "    for j in range(1,11):\n",
        "        print(i,'*',j,'=',i*j)\n",
        "    print()"
      ],
      "metadata": {
        "colab": {
          "base_uri": "https://localhost:8080/"
        },
        "id": "JUefgA0gAt8z",
        "outputId": "fea12ca7-3f5c-4bf5-919b-849346001ae5"
      },
      "id": "JUefgA0gAt8z",
      "execution_count": null,
      "outputs": [
        {
          "output_type": "stream",
          "name": "stdout",
          "text": [
            "enter n 3\n",
            "Table of  1\n",
            "1 * 1 = 1\n",
            "1 * 2 = 2\n",
            "1 * 3 = 3\n",
            "1 * 4 = 4\n",
            "1 * 5 = 5\n",
            "1 * 6 = 6\n",
            "1 * 7 = 7\n",
            "1 * 8 = 8\n",
            "1 * 9 = 9\n",
            "1 * 10 = 10\n",
            "\n",
            "Table of  2\n",
            "2 * 1 = 2\n",
            "2 * 2 = 4\n",
            "2 * 3 = 6\n",
            "2 * 4 = 8\n",
            "2 * 5 = 10\n",
            "2 * 6 = 12\n",
            "2 * 7 = 14\n",
            "2 * 8 = 16\n",
            "2 * 9 = 18\n",
            "2 * 10 = 20\n",
            "\n",
            "Table of  3\n",
            "3 * 1 = 3\n",
            "3 * 2 = 6\n",
            "3 * 3 = 9\n",
            "3 * 4 = 12\n",
            "3 * 5 = 15\n",
            "3 * 6 = 18\n",
            "3 * 7 = 21\n",
            "3 * 8 = 24\n",
            "3 * 9 = 27\n",
            "3 * 10 = 30\n",
            "\n"
          ]
        }
      ]
    },
    {
      "cell_type": "code",
      "source": [
        "for i in range(1,10):\n",
        "    print(i,end=' ')"
      ],
      "metadata": {
        "colab": {
          "base_uri": "https://localhost:8080/"
        },
        "id": "2ha1WpGTAt0Q",
        "outputId": "0185f65c-3092-4cf9-a531-0929d9dc6f5e"
      },
      "id": "2ha1WpGTAt0Q",
      "execution_count": null,
      "outputs": [
        {
          "output_type": "stream",
          "name": "stdout",
          "text": [
            "1 2 3 4 5 6 7 8 9 "
          ]
        }
      ]
    },
    {
      "cell_type": "code",
      "source": [
        "print('hello',end=' ')\n",
        "print('hii',end=',')\n",
        "print('hey')\n",
        "print('bye')"
      ],
      "metadata": {
        "colab": {
          "base_uri": "https://localhost:8080/"
        },
        "id": "eRcGPVZhAttY",
        "outputId": "74a2ca81-53a3-4228-e13f-278087eec3d8"
      },
      "id": "eRcGPVZhAttY",
      "execution_count": null,
      "outputs": [
        {
          "output_type": "stream",
          "name": "stdout",
          "text": [
            "hello hii,hey\n",
            "bye\n"
          ]
        }
      ]
    },
    {
      "cell_type": "code",
      "source": [
        "L=['python','per','java','pascal','c','c++']\n",
        "for i in L:\n",
        "    for j in i:\n",
        "        if j=='p':\n",
        "            print(i)"
      ],
      "metadata": {
        "colab": {
          "base_uri": "https://localhost:8080/"
        },
        "id": "YJmad4OHAtpC",
        "outputId": "c17b0985-21ac-4880-89f4-0123c2daacf2"
      },
      "id": "YJmad4OHAtpC",
      "execution_count": null,
      "outputs": [
        {
          "output_type": "stream",
          "name": "stdout",
          "text": [
            "python\n",
            "per\n",
            "pascal\n"
          ]
        }
      ]
    },
    {
      "cell_type": "code",
      "source": [
        "# Nested loop\n",
        "\n",
        "for i in range(1,3): # outer loop\n",
        "    for j in range(1,3): # inner loop\n",
        "        print(j)"
      ],
      "metadata": {
        "colab": {
          "base_uri": "https://localhost:8080/"
        },
        "id": "MeeNpRR7FbrE",
        "outputId": "96d6434f-289b-42b7-be68-a6e23205ba25"
      },
      "id": "MeeNpRR7FbrE",
      "execution_count": null,
      "outputs": [
        {
          "output_type": "stream",
          "name": "stdout",
          "text": [
            "1\n",
            "2\n",
            "1\n",
            "2\n"
          ]
        }
      ]
    },
    {
      "cell_type": "code",
      "source": [
        "for i in range(1,3): # outer loop\n",
        "    for j in range(1,4): # inner loop\n",
        "        print(i)"
      ],
      "metadata": {
        "colab": {
          "base_uri": "https://localhost:8080/"
        },
        "id": "UrU3POePFbzB",
        "outputId": "e69f5f44-ea31-4530-e64e-9a9defbc7b57"
      },
      "id": "UrU3POePFbzB",
      "execution_count": null,
      "outputs": [
        {
          "output_type": "stream",
          "name": "stdout",
          "text": [
            "1\n",
            "1\n",
            "1\n",
            "2\n",
            "2\n",
            "2\n"
          ]
        }
      ]
    },
    {
      "cell_type": "code",
      "source": [
        "for i in range(3):\n",
        "    for j in range(1,i):\n",
        "        print(j)"
      ],
      "metadata": {
        "colab": {
          "base_uri": "https://localhost:8080/"
        },
        "id": "XXoBMdYDGMlU",
        "outputId": "dc41e4d4-c28c-4dc7-82cd-ec102b07fcaa"
      },
      "id": "XXoBMdYDGMlU",
      "execution_count": null,
      "outputs": [
        {
          "output_type": "stream",
          "name": "stdout",
          "text": [
            "1\n"
          ]
        }
      ]
    },
    {
      "cell_type": "code",
      "source": [
        "n=int(input('enter n '))\n",
        "for i in range(1,n+1):\n",
        "    print('\\n')\n",
        "    for j in range(1,11):\n",
        "        print(i,'*',j,'=',i*j)"
      ],
      "metadata": {
        "colab": {
          "base_uri": "https://localhost:8080/"
        },
        "id": "v1RRauPOGMYO",
        "outputId": "54237351-99c3-49b3-d5c5-6a4bf7d96145"
      },
      "id": "v1RRauPOGMYO",
      "execution_count": null,
      "outputs": [
        {
          "output_type": "stream",
          "name": "stdout",
          "text": [
            "enter n 4\n",
            "\n",
            "\n",
            "1 * 1 = 1\n",
            "1 * 2 = 2\n",
            "1 * 3 = 3\n",
            "1 * 4 = 4\n",
            "1 * 5 = 5\n",
            "1 * 6 = 6\n",
            "1 * 7 = 7\n",
            "1 * 8 = 8\n",
            "1 * 9 = 9\n",
            "1 * 10 = 10\n",
            "\n",
            "\n",
            "2 * 1 = 2\n",
            "2 * 2 = 4\n",
            "2 * 3 = 6\n",
            "2 * 4 = 8\n",
            "2 * 5 = 10\n",
            "2 * 6 = 12\n",
            "2 * 7 = 14\n",
            "2 * 8 = 16\n",
            "2 * 9 = 18\n",
            "2 * 10 = 20\n",
            "\n",
            "\n",
            "3 * 1 = 3\n",
            "3 * 2 = 6\n",
            "3 * 3 = 9\n",
            "3 * 4 = 12\n",
            "3 * 5 = 15\n",
            "3 * 6 = 18\n",
            "3 * 7 = 21\n",
            "3 * 8 = 24\n",
            "3 * 9 = 27\n",
            "3 * 10 = 30\n",
            "\n",
            "\n",
            "4 * 1 = 4\n",
            "4 * 2 = 8\n",
            "4 * 3 = 12\n",
            "4 * 4 = 16\n",
            "4 * 5 = 20\n",
            "4 * 6 = 24\n",
            "4 * 7 = 28\n",
            "4 * 8 = 32\n",
            "4 * 9 = 36\n",
            "4 * 10 = 40\n"
          ]
        }
      ]
    },
    {
      "cell_type": "code",
      "source": [
        "print('hello\\nBhavna')"
      ],
      "metadata": {
        "colab": {
          "base_uri": "https://localhost:8080/"
        },
        "id": "juxQBoy2GMH7",
        "outputId": "28a2fb59-0e80-4d45-e68b-6f16c20282ff"
      },
      "id": "juxQBoy2GMH7",
      "execution_count": null,
      "outputs": [
        {
          "output_type": "stream",
          "name": "stdout",
          "text": [
            "hello\n",
            "Bhavna\n"
          ]
        }
      ]
    },
    {
      "cell_type": "code",
      "source": [
        "L=['C','C++','Python','Java','Perl','Ruby','PHP']\n",
        "for i in L:\n",
        "    for j in i:\n",
        "        if j=='P':\n",
        "            print(i)"
      ],
      "metadata": {
        "colab": {
          "base_uri": "https://localhost:8080/"
        },
        "id": "bLI_dNmZGO5x",
        "outputId": "aa15223d-928c-4c6d-9c7e-0d490c4065a3"
      },
      "id": "bLI_dNmZGO5x",
      "execution_count": null,
      "outputs": [
        {
          "output_type": "stream",
          "name": "stdout",
          "text": [
            "Python\n",
            "Perl\n",
            "PHP\n",
            "PHP\n"
          ]
        }
      ]
    },
    {
      "cell_type": "code",
      "source": [
        "L=['C','C++','Python','Java','Perl','Ruby','PHP']\n",
        "for i in L:\n",
        "    if 'P' in i:\n",
        "        print(i)"
      ],
      "metadata": {
        "colab": {
          "base_uri": "https://localhost:8080/"
        },
        "id": "X91iEcXIGOyW",
        "outputId": "37494d79-f6a3-4625-f312-9d149567a0f5"
      },
      "id": "X91iEcXIGOyW",
      "execution_count": null,
      "outputs": [
        {
          "output_type": "stream",
          "name": "stdout",
          "text": [
            "Python\n",
            "Perl\n",
            "PHP\n"
          ]
        }
      ]
    },
    {
      "cell_type": "code",
      "source": [
        "for i in range(1,10):\n",
        "    if i==3:\n",
        "        continue\n",
        "    print(i)\n",
        "else:\n",
        "    print('hello')\n",
        "\n",
        "print('hii')"
      ],
      "metadata": {
        "colab": {
          "base_uri": "https://localhost:8080/"
        },
        "id": "_YAA-uYWG7OU",
        "outputId": "5bc4082c-d3af-442e-8e79-b8576b67f67f"
      },
      "id": "_YAA-uYWG7OU",
      "execution_count": null,
      "outputs": [
        {
          "output_type": "stream",
          "name": "stdout",
          "text": [
            "1\n",
            "2\n",
            "4\n",
            "5\n",
            "6\n",
            "7\n",
            "8\n",
            "9\n",
            "hello\n",
            "hii\n"
          ]
        }
      ]
    },
    {
      "cell_type": "code",
      "source": [
        "# prime numbers in a given range\n",
        "\n",
        "n=int(input('enter n '))\n",
        "for i in range(1,n+1):\n",
        "    if i>1:\n",
        "        for j in range(2,i):\n",
        "            if i%j==0:\n",
        "                break\n",
        "        else:\n",
        "            print(i)"
      ],
      "metadata": {
        "colab": {
          "base_uri": "https://localhost:8080/"
        },
        "id": "2B8p0eyoG7Ef",
        "outputId": "f98cd1d6-b848-48e7-d509-3acb962e2c0b"
      },
      "id": "2B8p0eyoG7Ef",
      "execution_count": null,
      "outputs": [
        {
          "output_type": "stream",
          "name": "stdout",
          "text": [
            "enter n 4\n",
            "2\n",
            "3\n"
          ]
        }
      ]
    },
    {
      "cell_type": "code",
      "source": [
        "for i in range(2,2):\n",
        "    print(i)\n",
        "else:\n",
        "    print('hello')"
      ],
      "metadata": {
        "colab": {
          "base_uri": "https://localhost:8080/"
        },
        "id": "cv-XMYhXG6_T",
        "outputId": "8042842c-352c-4026-a928-b640a7741d0b"
      },
      "id": "cv-XMYhXG6_T",
      "execution_count": null,
      "outputs": [
        {
          "output_type": "stream",
          "name": "stdout",
          "text": [
            "hello\n"
          ]
        }
      ]
    },
    {
      "cell_type": "code",
      "source": [
        "n=int(input('enter n '))\n",
        "c=0\n",
        "ne=0\n",
        "while n!=0:\n",
        "    if n>0:\n",
        "        c=c+1\n",
        "    else:\n",
        "        ne+=1\n",
        "    n=int(input('enter n '))\n",
        "\n",
        "\n",
        "print(c)\n",
        "print(ne)\n",
        "\n"
      ],
      "metadata": {
        "colab": {
          "base_uri": "https://localhost:8080/"
        },
        "id": "sL14X--gG650",
        "outputId": "45832b01-86c7-4d41-ed82-46ff8fa6b083"
      },
      "id": "sL14X--gG650",
      "execution_count": null,
      "outputs": [
        {
          "output_type": "stream",
          "name": "stdout",
          "text": [
            "enter n 6\n",
            "enter n -8\n",
            "enter n -1\n",
            "enter n -2\n",
            "enter n 8\n",
            "enter n 9\n",
            "enter n 0\n",
            "3\n",
            "3\n"
          ]
        }
      ]
    },
    {
      "cell_type": "code",
      "source": [
        "n=int(input('enter n '))\n",
        "a=int(input('enter a '))\n",
        "min=a\n",
        "max=a\n",
        "\n",
        "for i in range(1,n):\n",
        "    a=int(input('enter a '))\n",
        "    if a<min:\n",
        "        min=a\n",
        "    if a>max:\n",
        "        max=a\n",
        "\n",
        "\n",
        "print('minimum',min)\n",
        "print('maximum',max)\n",
        "\n",
        "\n",
        "\n"
      ],
      "metadata": {
        "colab": {
          "base_uri": "https://localhost:8080/"
        },
        "id": "iHGxi6HGG61h",
        "outputId": "d263e6a7-a5c6-4797-d846-0ec9cfc2dd59"
      },
      "id": "iHGxi6HGG61h",
      "execution_count": null,
      "outputs": [
        {
          "output_type": "stream",
          "name": "stdout",
          "text": [
            "enter n 3\n",
            "enter a 16\n",
            "enter a 12\n",
            "enter a 56\n",
            "minimum 12\n",
            "maximum 56\n"
          ]
        }
      ]
    },
    {
      "cell_type": "code",
      "source": [],
      "metadata": {
        "id": "W4RVoEQwHhYM"
      },
      "id": "W4RVoEQwHhYM",
      "execution_count": null,
      "outputs": []
    },
    {
      "cell_type": "code",
      "source": [
        "for i in range(10,310,10):\n",
        "    print(i)"
      ],
      "metadata": {
        "colab": {
          "base_uri": "https://localhost:8080/"
        },
        "id": "nz8w7_dqHe_3",
        "outputId": "f8c42005-602d-4e4c-b4e9-62c8a6ad666e"
      },
      "id": "nz8w7_dqHe_3",
      "execution_count": null,
      "outputs": [
        {
          "output_type": "stream",
          "name": "stdout",
          "text": [
            "10\n",
            "20\n",
            "30\n",
            "40\n",
            "50\n",
            "60\n",
            "70\n",
            "80\n",
            "90\n",
            "100\n",
            "110\n",
            "120\n",
            "130\n",
            "140\n",
            "150\n",
            "160\n",
            "170\n",
            "180\n",
            "190\n",
            "200\n",
            "210\n",
            "220\n",
            "230\n",
            "240\n",
            "250\n",
            "260\n",
            "270\n",
            "280\n",
            "290\n",
            "300\n"
          ]
        }
      ]
    },
    {
      "cell_type": "code",
      "source": [
        "for i in range(105,0,-7):\n",
        "    print(i)"
      ],
      "metadata": {
        "colab": {
          "base_uri": "https://localhost:8080/"
        },
        "id": "r_VfbA5FHeuJ",
        "outputId": "3f8bcea0-aae8-4ffe-ee97-39ee2f4a4565"
      },
      "id": "r_VfbA5FHeuJ",
      "execution_count": null,
      "outputs": [
        {
          "output_type": "stream",
          "name": "stdout",
          "text": [
            "105\n",
            "98\n",
            "91\n",
            "84\n",
            "77\n",
            "70\n",
            "63\n",
            "56\n",
            "49\n",
            "42\n",
            "35\n",
            "28\n",
            "21\n",
            "14\n",
            "7\n"
          ]
        }
      ]
    },
    {
      "cell_type": "code",
      "source": [
        "n=231\n",
        "\n",
        "for i in str(n):\n",
        "    print(i)\n",
        "    if i=='1':\n",
        "        print('one')\n"
      ],
      "metadata": {
        "colab": {
          "base_uri": "https://localhost:8080/"
        },
        "id": "AJwS9QFyHeoY",
        "outputId": "e29f4ca1-c7d8-4af0-b8f8-90ea867e6ebf"
      },
      "id": "AJwS9QFyHeoY",
      "execution_count": null,
      "outputs": [
        {
          "output_type": "stream",
          "name": "stdout",
          "text": [
            "2\n",
            "3\n",
            "1\n",
            "one\n"
          ]
        }
      ]
    },
    {
      "cell_type": "code",
      "source": [
        "231\n",
        "# 132\n",
        "\n",
        "a=132\n",
        "b=a%10\n"
      ],
      "metadata": {
        "id": "9RRwjrBfHejx"
      },
      "id": "9RRwjrBfHejx",
      "execution_count": null,
      "outputs": []
    },
    {
      "cell_type": "code",
      "source": [
        "# Data Types\n",
        "#1. Immutable - numeric, string , stuples\n",
        "#2. Mutable - list , dictionary , set"
      ],
      "metadata": {
        "id": "PdC6XKrMHeU4"
      },
      "id": "PdC6XKrMHeU4",
      "execution_count": null,
      "outputs": []
    },
    {
      "cell_type": "code",
      "source": [
        "# string :- # It is a sequence of characters that always written into quotation"
      ],
      "metadata": {
        "id": "Bx89O7jKG6sk"
      },
      "id": "Bx89O7jKG6sk",
      "execution_count": null,
      "outputs": []
    },
    {
      "cell_type": "code",
      "source": [
        "s1 = 'abcd'\n",
        "print(s1,type(s1))"
      ],
      "metadata": {
        "colab": {
          "base_uri": "https://localhost:8080/"
        },
        "id": "HTTQtdIlGOqG",
        "outputId": "246e7231-a902-4382-d467-957bf2db93a9"
      },
      "id": "HTTQtdIlGOqG",
      "execution_count": null,
      "outputs": [
        {
          "output_type": "stream",
          "name": "stdout",
          "text": [
            "abcd <class 'str'>\n"
          ]
        }
      ]
    },
    {
      "cell_type": "code",
      "source": [
        "s2=\"xyz\"\n",
        "print(s2,type(s2))"
      ],
      "metadata": {
        "colab": {
          "base_uri": "https://localhost:8080/"
        },
        "id": "H18srj36GOih",
        "outputId": "c94fff34-6ba9-4259-8e25-0abb7ba3a2fe"
      },
      "id": "H18srj36GOih",
      "execution_count": null,
      "outputs": [
        {
          "output_type": "stream",
          "name": "stdout",
          "text": [
            "xyz <class 'str'>\n"
          ]
        }
      ]
    },
    {
      "cell_type": "code",
      "source": [
        "# multiline string\n",
        "s3 = '''hello\n",
        "i\n",
        "    am\n",
        "Dee\n",
        "            p\n",
        "an\n",
        "        s\n",
        "h\n",
        "    u'''\n",
        "\n",
        "print(s3)"
      ],
      "metadata": {
        "colab": {
          "base_uri": "https://localhost:8080/"
        },
        "id": "GZ0DbCZjGOeb",
        "outputId": "d6e0f08f-8398-49f3-adf2-6baed8e9abf2"
      },
      "id": "GZ0DbCZjGOeb",
      "execution_count": null,
      "outputs": [
        {
          "output_type": "stream",
          "name": "stdout",
          "text": [
            "hello\n",
            "i\n",
            "    am\n",
            "Dee\n",
            "            p\n",
            "an\n",
            "        s\n",
            "h\n",
            "    u\n"
          ]
        }
      ]
    },
    {
      "cell_type": "code",
      "source": [
        "s3 =\"\"\"hello\n",
        "i\n",
        "    am\n",
        "Dee\n",
        "            p\n",
        "an\n",
        "        s\n",
        "h\n",
        "    u\"\"\"\n",
        "\n",
        "print(s3)"
      ],
      "metadata": {
        "colab": {
          "base_uri": "https://localhost:8080/"
        },
        "id": "EuU7HPE8Fb7t",
        "outputId": "477cc650-df87-46a3-bbf7-7ec9f0bc0d6f"
      },
      "id": "EuU7HPE8Fb7t",
      "execution_count": null,
      "outputs": [
        {
          "output_type": "stream",
          "name": "stdout",
          "text": [
            "hello\n",
            "i\n",
            "    am\n",
            "Dee\n",
            "            p\n",
            "an\n",
            "        s\n",
            "h\n",
            "    u\n"
          ]
        }
      ]
    },
    {
      "cell_type": "code",
      "source": [
        "first = 'Bhavna'\n",
        "last = 'Mogha'\n",
        "\n",
        "full = first +' ' + last # concatenation\n",
        "\n",
        "print(full)\n",
        "print((first + \" \")*2 ) # repetition of string"
      ],
      "metadata": {
        "colab": {
          "base_uri": "https://localhost:8080/"
        },
        "id": "boI8VeTLBqg6",
        "outputId": "04515a66-5901-4cb8-e643-ab7b484eb75a"
      },
      "id": "boI8VeTLBqg6",
      "execution_count": null,
      "outputs": [
        {
          "output_type": "stream",
          "name": "stdout",
          "text": [
            "Bhavna Mogha\n",
            "Bhavna Bhavna \n"
          ]
        }
      ]
    },
    {
      "cell_type": "code",
      "source": [
        "first = 'Abhay'\n",
        "last = 'verma'\n",
        "\n",
        "full = first +' ' + last # concatenation : non -numeric and similiar datatype with add\n",
        "\n",
        "print(full)\n",
        "print((first + \" \")*2 ) # repetition of string"
      ],
      "metadata": {
        "colab": {
          "base_uri": "https://localhost:8080/"
        },
        "id": "LXuzKxfVMeOJ",
        "outputId": "d5b02d5f-fab6-43de-cd28-699d85197bfe"
      },
      "id": "LXuzKxfVMeOJ",
      "execution_count": null,
      "outputs": [
        {
          "output_type": "stream",
          "name": "stdout",
          "text": [
            "Abhay verma\n",
            "Abhay Abhay \n"
          ]
        }
      ]
    },
    {
      "cell_type": "code",
      "source": [
        "print('My first name is',first, 'and my last name is',last)\n",
        "print(f'My first name is {first} and my last name is {last}') # f specifier\n",
        "print('My first name is {} and my last name is {}'.format(first,last))"
      ],
      "metadata": {
        "colab": {
          "base_uri": "https://localhost:8080/"
        },
        "id": "7E-nf0H1Meym",
        "outputId": "a8547cbb-c699-403e-dc50-370dd1655760"
      },
      "id": "7E-nf0H1Meym",
      "execution_count": null,
      "outputs": [
        {
          "output_type": "stream",
          "name": "stdout",
          "text": [
            "My first name is Abhay and my last name is verma\n",
            "My first name is Abhay and my last name is verma\n",
            "My first name is Abhay and my last name is verma\n"
          ]
        }
      ]
    },
    {
      "cell_type": "code",
      "source": [
        "s = 'apple'\n",
        "\n",
        "print(len(s))"
      ],
      "metadata": {
        "colab": {
          "base_uri": "https://localhost:8080/"
        },
        "id": "4zARv4pfCsEG",
        "outputId": "da7b99cf-46a0-496b-f5aa-5e978678aba4"
      },
      "id": "4zARv4pfCsEG",
      "execution_count": null,
      "outputs": [
        {
          "output_type": "stream",
          "name": "stdout",
          "text": [
            "5\n"
          ]
        }
      ]
    },
    {
      "cell_type": "code",
      "source": [
        "# Indexing & Slicing"
      ],
      "metadata": {
        "id": "gN25JY7pMfq1"
      },
      "id": "gN25JY7pMfq1",
      "execution_count": null,
      "outputs": []
    },
    {
      "cell_type": "code",
      "source": [
        "s = 'deepanshu @123'\n",
        "print(len(s))"
      ],
      "metadata": {
        "colab": {
          "base_uri": "https://localhost:8080/"
        },
        "id": "BZ9X7v51Mm5m",
        "outputId": "2adfe217-88e9-4f36-d4f7-914ad5c07193"
      },
      "id": "BZ9X7v51Mm5m",
      "execution_count": null,
      "outputs": [
        {
          "output_type": "stream",
          "name": "stdout",
          "text": [
            "14\n"
          ]
        }
      ]
    },
    {
      "cell_type": "code",
      "source": [
        "# Indexing := always started zero\n",
        "# print(s[5])\n",
        "# print(s[0])\n",
        "# print(s[-1])\n",
        "# print(s[9])\n",
        "# print(s[-5])\n",
        "# print(s[99])"
      ],
      "metadata": {
        "id": "A7daVDmUMmpa"
      },
      "id": "A7daVDmUMmpa",
      "execution_count": null,
      "outputs": []
    },
    {
      "cell_type": "code",
      "source": [
        "s = 'deepanshu @123'"
      ],
      "metadata": {
        "id": "WVlRAj5yMme4"
      },
      "id": "WVlRAj5yMme4",
      "execution_count": null,
      "outputs": []
    },
    {
      "cell_type": "code",
      "source": [
        "# slicing\n",
        "# print(s[4:8]) #4 is start index and 8 in end or stop index\n",
        "# print(s[8:11])\n",
        "# print(s[-6:-3])\n",
        "# print(s[0:20])\n",
        "# print(s[0:])\n",
        "# print(s[:100000])\n",
        "# print(s[:])\n",
        "# print(s[0:-3])\n",
        "# print(s[7:2])"
      ],
      "metadata": {
        "id": "3XhDXbRPMmSx"
      },
      "id": "3XhDXbRPMmSx",
      "execution_count": null,
      "outputs": []
    },
    {
      "cell_type": "code",
      "source": [
        "#step sizing in slicing\n",
        "s = 'deepanshu @123'\n",
        "print(s[0:100:3])\n",
        "print(s[0:100:1])\n",
        "print(s[::1])\n",
        "print(s[::-1]) # reverse of string"
      ],
      "metadata": {
        "colab": {
          "base_uri": "https://localhost:8080/"
        },
        "id": "cYULBzRJNO3t",
        "outputId": "af553b57-a7b5-462a-c6cb-3d72cd1c4928"
      },
      "id": "cYULBzRJNO3t",
      "execution_count": null,
      "outputs": [
        {
          "output_type": "stream",
          "name": "stdout",
          "text": [
            "dps 2\n",
            "deepanshu @123\n",
            "deepanshu @123\n",
            "321@ uhsnapeed\n"
          ]
        }
      ]
    },
    {
      "cell_type": "code",
      "source": [
        "# string functions"
      ],
      "metadata": {
        "id": "Q2WQOLD0NOwe"
      },
      "id": "Q2WQOLD0NOwe",
      "execution_count": null,
      "outputs": []
    },
    {
      "cell_type": "code",
      "source": [
        "s='a quick brown fox jumps over the lazy dog'\n",
        "print(s)\n",
        "print(len(s))"
      ],
      "metadata": {
        "colab": {
          "base_uri": "https://localhost:8080/"
        },
        "id": "dek6ZGL8NOge",
        "outputId": "edc5c417-a22b-4f77-b816-b56cedd14504"
      },
      "id": "dek6ZGL8NOge",
      "execution_count": null,
      "outputs": [
        {
          "output_type": "stream",
          "name": "stdout",
          "text": [
            "a quick brown fox jumps over the lazy dog\n",
            "41\n"
          ]
        }
      ]
    },
    {
      "cell_type": "code",
      "source": [
        "# index  :- find out the numerica no. in alphabate or word/number of the string\n",
        "print(s.index('q'))\n",
        "print(s.index('a'))\n",
        "# print(s.index('A'))"
      ],
      "metadata": {
        "colab": {
          "base_uri": "https://localhost:8080/"
        },
        "id": "LL2d0ndkNObC",
        "outputId": "2d6ccbef-6baa-4808-88a8-6c7e1b69d115"
      },
      "id": "LL2d0ndkNObC",
      "execution_count": null,
      "outputs": [
        {
          "output_type": "stream",
          "name": "stdout",
          "text": [
            "2\n",
            "0\n"
          ]
        }
      ]
    },
    {
      "cell_type": "markdown",
      "source": [],
      "metadata": {
        "id": "deyCn__uAOvz"
      },
      "id": "deyCn__uAOvz"
    },
    {
      "cell_type": "code",
      "source": [
        "# count\n",
        "print(s.count('o'))\n",
        "print(s.count('A'))"
      ],
      "metadata": {
        "colab": {
          "base_uri": "https://localhost:8080/"
        },
        "id": "4qV-ROUYNOSz",
        "outputId": "3c286642-f34d-4480-9749-d1ccdee5b367"
      },
      "id": "4qV-ROUYNOSz",
      "execution_count": null,
      "outputs": [
        {
          "output_type": "stream",
          "name": "stdout",
          "text": [
            "4\n",
            "0\n"
          ]
        }
      ]
    },
    {
      "cell_type": "code",
      "source": [
        "# replace\n",
        "print(s.replace('fox','cat'))"
      ],
      "metadata": {
        "colab": {
          "base_uri": "https://localhost:8080/"
        },
        "id": "gClbuZbgNOOg",
        "outputId": "a208984b-5cbd-4412-832a-1ca2c53a8669"
      },
      "id": "gClbuZbgNOOg",
      "execution_count": null,
      "outputs": [
        {
          "output_type": "stream",
          "name": "stdout",
          "text": [
            "a quick brown cat jumps over the lazy dog\n"
          ]
        }
      ]
    },
    {
      "cell_type": "code",
      "source": [
        "s1 = 'deepanhsu'\n",
        "s2 = '234567890'\n",
        "s3 = 'deepanshu12376584'\n",
        "s4 = ' '\n",
        "s5 = '$#$^&B&(G^(' #special character\n",
        "\n",
        "print(s1.isalpha())  #is function use for checking\n",
        "print(s2.isdigit())\n",
        "print(s2.isalnum())\n",
        "print(s4.isspace())"
      ],
      "metadata": {
        "colab": {
          "base_uri": "https://localhost:8080/"
        },
        "id": "RKl9lJvdNOKm",
        "outputId": "89c12a40-1118-499c-874b-8e58c8e8bc17"
      },
      "id": "RKl9lJvdNOKm",
      "execution_count": null,
      "outputs": [
        {
          "output_type": "stream",
          "name": "stdout",
          "text": [
            "True\n",
            "True\n",
            "True\n",
            "True\n"
          ]
        }
      ]
    },
    {
      "cell_type": "code",
      "source": [
        "s1='deepanshu'\n",
        "s2='DEEPANSHU'\n",
        "s3='Deepanshu'\n",
        "s4='deepanshu verma'\n",
        "\n",
        "# print(s1.islower())\n",
        "# print(s2.isupper())\n",
        "# print(s1.upper())\n",
        "# print(s2.lower())\n",
        "print(s1.capitalize())\n",
        "# print(s3.iscapitalize())\n",
        "print(s4.capitalize())\n",
        "print(s4.title())\n",
        "print(s3.istitle())"
      ],
      "metadata": {
        "colab": {
          "base_uri": "https://localhost:8080/"
        },
        "id": "_RWaDXX-NOFy",
        "outputId": "8dae9a40-b13d-4de4-da5c-2f7f70c745bf"
      },
      "id": "_RWaDXX-NOFy",
      "execution_count": null,
      "outputs": [
        {
          "output_type": "stream",
          "name": "stdout",
          "text": [
            "Deepanshu\n",
            "Deepanshu verma\n",
            "Deepanshu Verma\n",
            "True\n"
          ]
        }
      ]
    },
    {
      "cell_type": "code",
      "source": [
        "X='sASDFDGGFHghgiijiDRDkj'\n",
        "print(X.swapcase()) # change small to capital or capital to small"
      ],
      "metadata": {
        "colab": {
          "base_uri": "https://localhost:8080/"
        },
        "id": "9vLrNm6QNtRc",
        "outputId": "9edad6a7-b1b0-423c-92c0-317a40060b27"
      },
      "id": "9vLrNm6QNtRc",
      "execution_count": null,
      "outputs": [
        {
          "output_type": "stream",
          "name": "stdout",
          "text": [
            "SasdfdggfhGHGIIJIdrdKJ\n"
          ]
        }
      ]
    },
    {
      "cell_type": "code",
      "source": [
        "print(s)"
      ],
      "metadata": {
        "colab": {
          "base_uri": "https://localhost:8080/"
        },
        "id": "nW-DVgreNtKg",
        "outputId": "8d044eaa-7898-4711-df5b-36e430385d29"
      },
      "id": "nW-DVgreNtKg",
      "execution_count": null,
      "outputs": [
        {
          "output_type": "stream",
          "name": "stdout",
          "text": [
            "a quick brown fox jumps over the lazy dog\n"
          ]
        }
      ]
    },
    {
      "cell_type": "code",
      "source": [
        "# split\n",
        "print(s.split(' '))\n",
        "print(s.split('o'))"
      ],
      "metadata": {
        "colab": {
          "base_uri": "https://localhost:8080/"
        },
        "id": "rBEwkiYpNtBp",
        "outputId": "43735aeb-2585-4459-eba6-3c2bf4c33c8b"
      },
      "id": "rBEwkiYpNtBp",
      "execution_count": null,
      "outputs": [
        {
          "output_type": "stream",
          "name": "stdout",
          "text": [
            "['a', 'quick', 'brown', 'fox', 'jumps', 'over', 'the', 'lazy', 'dog']\n",
            "['a quick br', 'wn f', 'x jumps ', 'ver the lazy d', 'g']\n"
          ]
        }
      ]
    },
    {
      "cell_type": "code",
      "source": [
        "print(s.startswith('a'))\n",
        "print(s.endswith('og'))"
      ],
      "metadata": {
        "colab": {
          "base_uri": "https://localhost:8080/"
        },
        "id": "wZlp5zP7Ns4M",
        "outputId": "06c0caf7-be5e-41fd-9315-6b285aa279ef"
      },
      "id": "wZlp5zP7Ns4M",
      "execution_count": null,
      "outputs": [
        {
          "output_type": "stream",
          "name": "stdout",
          "text": [
            "True\n",
            "True\n"
          ]
        }
      ]
    },
    {
      "cell_type": "code",
      "source": [
        "#tuples:-are my immutable data type that stores the elements coma sepeartedly #usees in SQL as row form\n",
        "#tuples are packed into the parenthesis\n",
        "#tuples are represented into the parenthesis"
      ],
      "metadata": {
        "id": "B_UNAUv1Nsy3"
      },
      "id": "B_UNAUv1Nsy3",
      "execution_count": null,
      "outputs": []
    },
    {
      "cell_type": "code",
      "source": [
        "t1 = (1,2,3,4,5,6)\n",
        "print(t1,type(t1))"
      ],
      "metadata": {
        "id": "QTlFWT5wNss3",
        "colab": {
          "base_uri": "https://localhost:8080/"
        },
        "outputId": "10144e90-bcec-4773-b341-9cec4323c17a"
      },
      "id": "QTlFWT5wNss3",
      "execution_count": null,
      "outputs": [
        {
          "output_type": "stream",
          "name": "stdout",
          "text": [
            "(1, 2, 3, 4, 5, 6) <class 'tuple'>\n"
          ]
        }
      ]
    },
    {
      "cell_type": "code",
      "source": [
        "t2=('a','b','c')\n",
        "print(t2,type(t2))"
      ],
      "metadata": {
        "id": "Ru8vWCpQNsoh",
        "colab": {
          "base_uri": "https://localhost:8080/"
        },
        "outputId": "0aa06e9e-8507-4c2b-d3e6-f9fa3440ad8e"
      },
      "id": "Ru8vWCpQNsoh",
      "execution_count": null,
      "outputs": [
        {
          "output_type": "stream",
          "name": "stdout",
          "text": [
            "('a', 'b', 'c') <class 'tuple'>\n"
          ]
        }
      ]
    },
    {
      "cell_type": "code",
      "source": [
        "tup =(10,) # tuple identification in coma  or represented in packed parenthesis\n",
        "print(tup,type(tup))"
      ],
      "metadata": {
        "id": "k-LNRusDNskU",
        "colab": {
          "base_uri": "https://localhost:8080/"
        },
        "outputId": "a5d2dd66-747f-49fe-a99d-7f633d29d34c"
      },
      "id": "k-LNRusDNskU",
      "execution_count": null,
      "outputs": [
        {
          "output_type": "stream",
          "name": "stdout",
          "text": [
            "(10,) <class 'tuple'>\n"
          ]
        }
      ]
    },
    {
      "cell_type": "code",
      "source": [
        "t3=('xyz')\n",
        "print(t3,type(t3))"
      ],
      "metadata": {
        "id": "iDb8_bRPNsgP",
        "colab": {
          "base_uri": "https://localhost:8080/"
        },
        "outputId": "af5b761e-c9cf-4f97-a358-5d6d4a51b96d"
      },
      "id": "iDb8_bRPNsgP",
      "execution_count": null,
      "outputs": [
        {
          "output_type": "stream",
          "name": "stdout",
          "text": [
            "xyz <class 'str'>\n"
          ]
        }
      ]
    },
    {
      "cell_type": "code",
      "source": [
        "t=1,2,3,'xyz',6,'abc'\n",
        "print(t,type(t))"
      ],
      "metadata": {
        "id": "-3hWJsDsNsb4",
        "colab": {
          "base_uri": "https://localhost:8080/"
        },
        "outputId": "fa15ae4e-6ebd-4ef2-a488-21987e5ccc6c"
      },
      "id": "-3hWJsDsNsb4",
      "execution_count": null,
      "outputs": [
        {
          "output_type": "stream",
          "name": "stdout",
          "text": [
            "(1, 2, 3, 'xyz', 6, 'abc') <class 'tuple'>\n"
          ]
        }
      ]
    },
    {
      "cell_type": "code",
      "source": [
        "a=('xyz')\n",
        "#b=('xyz',)\n",
        "b = (('xyz',))\n",
        "c=(('abcd','def'),)"
      ],
      "metadata": {
        "id": "8rj7iTBeLDr6"
      },
      "id": "8rj7iTBeLDr6",
      "execution_count": null,
      "outputs": []
    },
    {
      "cell_type": "code",
      "source": [
        "for i in a:\n",
        "     print(i,type(i))"
      ],
      "metadata": {
        "colab": {
          "base_uri": "https://localhost:8080/"
        },
        "id": "CGapSNSaLDkn",
        "outputId": "cf6724ec-ddb2-47f3-8a58-c0c202eea444"
      },
      "id": "CGapSNSaLDkn",
      "execution_count": null,
      "outputs": [
        {
          "output_type": "stream",
          "name": "stdout",
          "text": [
            "x <class 'str'>\n",
            "y <class 'str'>\n",
            "z <class 'str'>\n"
          ]
        }
      ]
    },
    {
      "cell_type": "code",
      "source": [
        "for i in b:\n",
        "     print(i,type(i)) # char wise run"
      ],
      "metadata": {
        "colab": {
          "base_uri": "https://localhost:8080/"
        },
        "id": "l8pm02tlLDgb",
        "outputId": "e77fc731-0dc6-4215-eab5-da5374c26d0c"
      },
      "id": "l8pm02tlLDgb",
      "execution_count": null,
      "outputs": [
        {
          "output_type": "stream",
          "name": "stdout",
          "text": [
            "xyz <class 'str'>\n"
          ]
        }
      ]
    },
    {
      "cell_type": "code",
      "source": [
        "for i in c:\n",
        "     print(i,type(i)) # element wise run"
      ],
      "metadata": {
        "colab": {
          "base_uri": "https://localhost:8080/"
        },
        "id": "Y8mey7GpLDal",
        "outputId": "accbeeac-4eb3-4582-c15a-4a5102fbf72f"
      },
      "id": "Y8mey7GpLDal",
      "execution_count": null,
      "outputs": [
        {
          "output_type": "stream",
          "name": "stdout",
          "text": [
            "('abcd', 'def') <class 'tuple'>\n"
          ]
        }
      ]
    },
    {
      "cell_type": "code",
      "source": [
        "#Tuple fuctions"
      ],
      "metadata": {
        "id": "ggubHxz3LDOr"
      },
      "id": "ggubHxz3LDOr",
      "execution_count": null,
      "outputs": []
    },
    {
      "cell_type": "code",
      "source": [
        "t=('a','quick','brown','fox','jumps','over','a','lazy','dog')\n",
        "print(t)\n",
        "print(len(t))"
      ],
      "metadata": {
        "id": "izEUKnkDMgfd",
        "colab": {
          "base_uri": "https://localhost:8080/"
        },
        "outputId": "796769af-ec8f-4084-82eb-7cccec1e5941"
      },
      "id": "izEUKnkDMgfd",
      "execution_count": null,
      "outputs": [
        {
          "output_type": "stream",
          "name": "stdout",
          "text": [
            "('a', 'quick', 'brown', 'fox', 'jumps', 'over', 'a', 'lazy', 'dog')\n",
            "9\n"
          ]
        }
      ]
    },
    {
      "cell_type": "code",
      "source": [
        "#index\n",
        "print(t.index('a'))\n",
        "#print(t.index('q'))"
      ],
      "metadata": {
        "colab": {
          "base_uri": "https://localhost:8080/"
        },
        "id": "U9N0OX0hNPfG",
        "outputId": "d14b8934-c08f-410c-d6b6-47540c220957"
      },
      "id": "U9N0OX0hNPfG",
      "execution_count": null,
      "outputs": [
        {
          "output_type": "stream",
          "name": "stdout",
          "text": [
            "0\n"
          ]
        }
      ]
    },
    {
      "cell_type": "code",
      "source": [
        "#count\n",
        "print(t.count('o'))\n",
        "print(t.count('a'))\n"
      ],
      "metadata": {
        "colab": {
          "base_uri": "https://localhost:8080/"
        },
        "id": "cZ3ckh9bNPXJ",
        "outputId": "47a66cd8-859f-45d6-de2d-0822abc38745"
      },
      "id": "cZ3ckh9bNPXJ",
      "execution_count": null,
      "outputs": [
        {
          "output_type": "stream",
          "name": "stdout",
          "text": [
            "0\n",
            "2\n"
          ]
        }
      ]
    },
    {
      "cell_type": "code",
      "source": [
        "T=(6,2,3,8,2,6,23,8,5,3)\n",
        "print(sorted(T))\n",
        "print(sorted(T,reverse=True))\n",
        "print(min(T))\n",
        "print(max(T))\n",
        "print(sum(T))"
      ],
      "metadata": {
        "colab": {
          "base_uri": "https://localhost:8080/"
        },
        "id": "3T0alhfENPPz",
        "outputId": "0071df45-8b89-4479-fb70-85ea4da34465"
      },
      "id": "3T0alhfENPPz",
      "execution_count": null,
      "outputs": [
        {
          "output_type": "stream",
          "name": "stdout",
          "text": [
            "[2, 2, 3, 3, 5, 6, 6, 8, 8, 23]\n",
            "[23, 8, 8, 6, 6, 5, 3, 3, 2, 2]\n",
            "2\n",
            "23\n",
            "66\n"
          ]
        }
      ]
    },
    {
      "cell_type": "code",
      "source": [
        "t1=('a','X','A','7','x','@','Z','')\n",
        "print(t1)\n",
        "print(sorted(t1)) #ascii"
      ],
      "metadata": {
        "colab": {
          "base_uri": "https://localhost:8080/"
        },
        "id": "F09rBdvmNPEP",
        "outputId": "48b336ce-28fc-4b91-9da4-f9aaaa664274"
      },
      "id": "F09rBdvmNPEP",
      "execution_count": null,
      "outputs": [
        {
          "output_type": "stream",
          "name": "stdout",
          "text": [
            "('a', 'X', 'A', '7', 'x', '@', 'Z', '')\n",
            "['', '7', '@', 'A', 'X', 'Z', 'a', 'x']\n"
          ]
        }
      ]
    },
    {
      "cell_type": "code",
      "source": [
        "print(ord('a'))"
      ],
      "metadata": {
        "colab": {
          "base_uri": "https://localhost:8080/"
        },
        "id": "V5gmdhlxNPAN",
        "outputId": "666eb58c-0c24-4ea3-8368-22ace95a4298"
      },
      "id": "V5gmdhlxNPAN",
      "execution_count": null,
      "outputs": [
        {
          "output_type": "stream",
          "name": "stdout",
          "text": [
            "97\n"
          ]
        }
      ]
    },
    {
      "cell_type": "code",
      "source": [
        "for i in t1:\n",
        "   print(i,'...',ord(i))"
      ],
      "metadata": {
        "colab": {
          "base_uri": "https://localhost:8080/",
          "height": 280
        },
        "id": "KCAM-M0UJzxE",
        "outputId": "3fd83de8-a325-479f-a678-fcdb1c41d123"
      },
      "id": "KCAM-M0UJzxE",
      "execution_count": null,
      "outputs": [
        {
          "output_type": "stream",
          "name": "stdout",
          "text": [
            "a ... 97\n",
            "X ... 88\n",
            "A ... 65\n",
            "7 ... 55\n",
            "x ... 120\n",
            "@ ... 64\n",
            "Z ... 90\n"
          ]
        },
        {
          "output_type": "error",
          "ename": "TypeError",
          "evalue": "ord() expected a character, but string of length 0 found",
          "traceback": [
            "\u001b[0;31m---------------------------------------------------------------------------\u001b[0m",
            "\u001b[0;31mTypeError\u001b[0m                                 Traceback (most recent call last)",
            "\u001b[0;32m<ipython-input-61-2a2b74e4f707>\u001b[0m in \u001b[0;36m<cell line: 0>\u001b[0;34m()\u001b[0m\n\u001b[1;32m      1\u001b[0m \u001b[0;32mfor\u001b[0m \u001b[0mi\u001b[0m \u001b[0;32min\u001b[0m \u001b[0mt1\u001b[0m\u001b[0;34m:\u001b[0m\u001b[0;34m\u001b[0m\u001b[0;34m\u001b[0m\u001b[0m\n\u001b[0;32m----> 2\u001b[0;31m    \u001b[0mprint\u001b[0m\u001b[0;34m(\u001b[0m\u001b[0mi\u001b[0m\u001b[0;34m,\u001b[0m\u001b[0;34m'...'\u001b[0m\u001b[0;34m,\u001b[0m\u001b[0mord\u001b[0m\u001b[0;34m(\u001b[0m\u001b[0mi\u001b[0m\u001b[0;34m)\u001b[0m\u001b[0;34m)\u001b[0m\u001b[0;34m\u001b[0m\u001b[0;34m\u001b[0m\u001b[0m\n\u001b[0m",
            "\u001b[0;31mTypeError\u001b[0m: ord() expected a character, but string of length 0 found"
          ]
        }
      ]
    },
    {
      "cell_type": "code",
      "source": [
        "print(t)"
      ],
      "metadata": {
        "colab": {
          "base_uri": "https://localhost:8080/"
        },
        "id": "NQ-BqcRtPwG3",
        "outputId": "0f88adcc-fca6-410c-8529-18e79813782f"
      },
      "id": "NQ-BqcRtPwG3",
      "execution_count": null,
      "outputs": [
        {
          "output_type": "stream",
          "name": "stdout",
          "text": [
            "('a', 'quick', 'brown', 'fox', 'jumps', 'over', 'a', 'lazy', 'dog')\n"
          ]
        }
      ]
    },
    {
      "cell_type": "code",
      "source": [
        "print(','.join(t)) # /"
      ],
      "metadata": {
        "colab": {
          "base_uri": "https://localhost:8080/"
        },
        "id": "5VMAQXFRPwC8",
        "outputId": "8f74cc04-f98f-473d-ffd1-137c12ccd719"
      },
      "id": "5VMAQXFRPwC8",
      "execution_count": null,
      "outputs": [
        {
          "output_type": "stream",
          "name": "stdout",
          "text": [
            "a,quick,brown,fox,jumps,over,a,lazy,dog\n"
          ]
        }
      ]
    },
    {
      "cell_type": "code",
      "source": [
        "#Palindrome string in given input no. #madam,naman,nitin,level,rar,racecar\n",
        "s=input('enter string')\n",
        "if s==s[::-1]:\n",
        "    print('palindrome')\n",
        "else:\n",
        "    print('not palindrome')"
      ],
      "metadata": {
        "colab": {
          "base_uri": "https://localhost:8080/"
        },
        "id": "sEbMuvPrPv_j",
        "outputId": "4bcef353-421d-4dad-82a4-5251945d71ed"
      },
      "id": "sEbMuvPrPv_j",
      "execution_count": null,
      "outputs": [
        {
          "output_type": "stream",
          "name": "stdout",
          "text": [
            "enter stringdvd\n",
            "palindrome\n"
          ]
        }
      ]
    },
    {
      "cell_type": "code",
      "source": [
        "#Check the special character in given string\n",
        "s='bhav@123.com'\n",
        "for i in s:\n",
        "    # if i.isalpha():\n",
        "    #      pass\n",
        "    # elif i.isdigit():\n",
        "    #   pass\n",
        "    if i.isalnum():\n",
        "        pass\n",
        "    else:\n",
        "        print(True)\n",
        "        break"
      ],
      "metadata": {
        "colab": {
          "base_uri": "https://localhost:8080/"
        },
        "id": "-mbGLLdTPv7g",
        "outputId": "5ba7b0e7-96ed-415f-d4c1-a143fd13e8bc"
      },
      "id": "-mbGLLdTPv7g",
      "execution_count": null,
      "outputs": [
        {
          "output_type": "stream",
          "name": "stdout",
          "text": [
            "True\n"
          ]
        }
      ]
    },
    {
      "cell_type": "code",
      "source": [
        "#Remove the duplicate input string\n",
        "a= 'banana' #ban\n",
        "\n",
        "s=''\n",
        "for i in a:\n",
        "    if i not in s:\n",
        "        s=s+i\n",
        "print(s)"
      ],
      "metadata": {
        "colab": {
          "base_uri": "https://localhost:8080/"
        },
        "id": "hWSfyJatPv3q",
        "outputId": "caf94131-f24c-49ab-ed3e-c44328fa81b7"
      },
      "id": "hWSfyJatPv3q",
      "execution_count": null,
      "outputs": [
        {
          "output_type": "stream",
          "name": "stdout",
          "text": [
            "ban\n"
          ]
        }
      ]
    },
    {
      "cell_type": "code",
      "source": [
        "#remove the replace in a give string\n",
        "a='a quick brown fox jumps over the lazy dog'\n",
        "s=''\n",
        "for i in a.replace(' ',' '):\n",
        "    if i not in s:\n",
        "        s=s+i\n",
        "print(s)"
      ],
      "metadata": {
        "colab": {
          "base_uri": "https://localhost:8080/"
        },
        "id": "6QB-ZnG3Pvzd",
        "outputId": "3c0f2992-468a-4990-e105-a9fcfc038fdc"
      },
      "id": "6QB-ZnG3Pvzd",
      "execution_count": null,
      "outputs": [
        {
          "output_type": "stream",
          "name": "stdout",
          "text": [
            "a quickbrownfxjmpsvethlzydg\n"
          ]
        }
      ]
    },
    {
      "cell_type": "code",
      "source": [
        "# check the all alphabets\n",
        "a='a quick brown fox jumps over the lazy dog'\n",
        "s=''\n",
        "for i in a.replace(' ',' '):\n",
        "    if i not in s:\n",
        "        s=s+i\n",
        "print(sorted(s))\n",
        "\n",
        "if sorted(s)==[chr(i) for i in range(ord('a'),ord('z')+1)]:\n",
        "  print('Alphabets')\n",
        "else:\n",
        "  print('Not Alphabets')"
      ],
      "metadata": {
        "colab": {
          "base_uri": "https://localhost:8080/"
        },
        "id": "ioavy39bPvvj",
        "outputId": "e29fe270-6343-4d52-b1fd-75e5af113714"
      },
      "id": "ioavy39bPvvj",
      "execution_count": null,
      "outputs": [
        {
          "output_type": "stream",
          "name": "stdout",
          "text": [
            "[' ', 'a', 'b', 'c', 'd', 'e', 'f', 'g', 'h', 'i', 'j', 'k', 'l', 'm', 'n', 'o', 'p', 'q', 'r', 's', 't', 'u', 'v', 'w', 'x', 'y', 'z']\n",
            "Not Alphabets\n"
          ]
        }
      ]
    },
    {
      "cell_type": "code",
      "source": [
        "s='apple'\n",
        "print(s.index('p'))"
      ],
      "metadata": {
        "colab": {
          "base_uri": "https://localhost:8080/"
        },
        "id": "sEpNoZvnPvrs",
        "outputId": "3aa6bef7-bc91-481c-de05-22f01e64b27b"
      },
      "id": "sEpNoZvnPvrs",
      "execution_count": null,
      "outputs": [
        {
          "output_type": "stream",
          "name": "stdout",
          "text": [
            "1\n"
          ]
        }
      ]
    },
    {
      "cell_type": "code",
      "source": [
        "#Method 1\n",
        "s='apple'\n",
        "c=0\n",
        "for i in s:\n",
        "  c=c+1\n",
        "  print(i,'..',c)"
      ],
      "metadata": {
        "colab": {
          "base_uri": "https://localhost:8080/"
        },
        "id": "xm_wkGb0PvoH",
        "outputId": "9953f5b3-60d6-4444-ce08-7d0aa6cc8eb5"
      },
      "id": "xm_wkGb0PvoH",
      "execution_count": null,
      "outputs": [
        {
          "output_type": "stream",
          "name": "stdout",
          "text": [
            "a .. 1\n",
            "p .. 2\n",
            "p .. 3\n",
            "l .. 4\n",
            "e .. 5\n"
          ]
        }
      ]
    },
    {
      "cell_type": "code",
      "source": [
        "s='apple'\n",
        "for i in range(len(s)):\n",
        "  print(i,'...',s[i])"
      ],
      "metadata": {
        "colab": {
          "base_uri": "https://localhost:8080/"
        },
        "id": "n3DkW_rUPvj4",
        "outputId": "0dca4022-b341-4f13-c232-18de53fb61d0"
      },
      "id": "n3DkW_rUPvj4",
      "execution_count": null,
      "outputs": [
        {
          "output_type": "stream",
          "name": "stdout",
          "text": [
            "0 ... a\n",
            "1 ... p\n",
            "2 ... p\n",
            "3 ... l\n",
            "4 ... e\n"
          ]
        }
      ]
    },
    {
      "cell_type": "code",
      "source": [
        "#List\n",
        "#list are my mutable data type that stores the elements coma separtedly\n",
        "#List are always represented into the []"
      ],
      "metadata": {
        "id": "6s5kAsQkEoX2"
      },
      "id": "6s5kAsQkEoX2",
      "execution_count": null,
      "outputs": []
    },
    {
      "cell_type": "code",
      "source": [
        "l1=[1,2,3,4,5]\n",
        "print(l1,type(l1))"
      ],
      "metadata": {
        "colab": {
          "base_uri": "https://localhost:8080/"
        },
        "id": "lOB4jpETEoUN",
        "outputId": "d2066a1e-54b8-4001-a4b7-7c1dc918d671"
      },
      "id": "lOB4jpETEoUN",
      "execution_count": null,
      "outputs": [
        {
          "output_type": "stream",
          "name": "stdout",
          "text": [
            "[1, 2, 3, 4, 5] <class 'list'>\n"
          ]
        }
      ]
    },
    {
      "cell_type": "code",
      "source": [
        "l2=['a','b',2,'z']\n",
        "print(l2,type(l2))"
      ],
      "metadata": {
        "colab": {
          "base_uri": "https://localhost:8080/"
        },
        "id": "aQIhbDfPEoQr",
        "outputId": "61110a48-cbd5-4751-bc54-5cb1593731f3"
      },
      "id": "aQIhbDfPEoQr",
      "execution_count": null,
      "outputs": [
        {
          "output_type": "stream",
          "name": "stdout",
          "text": [
            "['a', 'b', 2, 'z'] <class 'list'>\n"
          ]
        }
      ]
    },
    {
      "cell_type": "code",
      "source": [
        "l3=[ ]\n",
        "print(l3,type(l3))"
      ],
      "metadata": {
        "colab": {
          "base_uri": "https://localhost:8080/"
        },
        "id": "YjFUy6VIEoNa",
        "outputId": "652fa836-3a0c-43f0-f4a8-31103ec8cf68"
      },
      "id": "YjFUy6VIEoNa",
      "execution_count": null,
      "outputs": [
        {
          "output_type": "stream",
          "name": "stdout",
          "text": [
            "[] <class 'list'>\n"
          ]
        }
      ]
    },
    {
      "cell_type": "code",
      "source": [
        "l1=['Bhavna']\n",
        "#l2 =mogha Error due to cancatenation different data type\n",
        "l2=['Mogha']\n",
        "\n",
        "print(l1+l2)\n",
        "print(l2*3)\n"
      ],
      "metadata": {
        "colab": {
          "base_uri": "https://localhost:8080/"
        },
        "id": "5Nm_aE_0EoGQ",
        "outputId": "2d782fcd-275b-499e-e3d1-4e498d2f80d7"
      },
      "id": "5Nm_aE_0EoGQ",
      "execution_count": null,
      "outputs": [
        {
          "output_type": "stream",
          "name": "stdout",
          "text": [
            "['Bhavna', 'Mogha']\n",
            "['Mogha', 'Mogha', 'Mogha']\n"
          ]
        }
      ]
    },
    {
      "cell_type": "code",
      "source": [
        "#list Functions"
      ],
      "metadata": {
        "id": "QtTEdIQOEoCY"
      },
      "id": "QtTEdIQOEoCY",
      "execution_count": null,
      "outputs": []
    },
    {
      "cell_type": "code",
      "source": [
        "l=['a','quick','brown','fox','jumps','over','a','lazy','dog']\n",
        "print(l)\n",
        "print(len(l))"
      ],
      "metadata": {
        "colab": {
          "base_uri": "https://localhost:8080/"
        },
        "id": "hK6Jpg1rEn-p",
        "outputId": "c5e001c7-f705-4598-9a5c-35c221952809"
      },
      "id": "hK6Jpg1rEn-p",
      "execution_count": null,
      "outputs": [
        {
          "output_type": "stream",
          "name": "stdout",
          "text": [
            "['a', 'quick', 'brown', 'fox', 'jumps', 'over', 'a', 'lazy', 'dog']\n",
            "9\n"
          ]
        }
      ]
    },
    {
      "cell_type": "code",
      "source": [
        "#index\n",
        "print(l.index('a'))\n",
        "#print(l.index('q')) error becoz this is char"
      ],
      "metadata": {
        "colab": {
          "base_uri": "https://localhost:8080/"
        },
        "id": "59uLc-UXEn61",
        "outputId": "a88597ba-8e95-42ca-e636-f300922f9af5"
      },
      "id": "59uLc-UXEn61",
      "execution_count": null,
      "outputs": [
        {
          "output_type": "stream",
          "name": "stdout",
          "text": [
            "0\n"
          ]
        }
      ]
    },
    {
      "cell_type": "code",
      "source": [
        "#count\n",
        "print(l.count('o'))\n",
        "print(l.count('a'))"
      ],
      "metadata": {
        "colab": {
          "base_uri": "https://localhost:8080/"
        },
        "id": "02bjucnmEn2y",
        "outputId": "a0e1f06e-a5df-4335-e71d-0caa035b1875"
      },
      "id": "02bjucnmEn2y",
      "execution_count": null,
      "outputs": [
        {
          "output_type": "stream",
          "name": "stdout",
          "text": [
            "0\n",
            "2\n"
          ]
        }
      ]
    },
    {
      "cell_type": "code",
      "source": [
        "#append : #same add in  this last string\n",
        "l.append('house')\n",
        "print(l)"
      ],
      "metadata": {
        "colab": {
          "base_uri": "https://localhost:8080/"
        },
        "id": "vw4_x3psEnw7",
        "outputId": "cbb32205-4cbe-4f33-9dba-39a826908b1e"
      },
      "id": "vw4_x3psEnw7",
      "execution_count": null,
      "outputs": [
        {
          "output_type": "stream",
          "name": "stdout",
          "text": [
            "['a', 'quick', 'brown', 'fox', 'jumps', 'over', 'a', 'lazy', 'dog', 'house']\n"
          ]
        }
      ]
    },
    {
      "cell_type": "code",
      "source": [
        "#extend #also add in the last of the strong but they can iterate if str show char and if list show and print element\n",
        "l.extend('in')\n",
        "print(l)"
      ],
      "metadata": {
        "colab": {
          "base_uri": "https://localhost:8080/"
        },
        "id": "4SnZOi5FEnrt",
        "outputId": "26e825b4-2027-48a2-d546-95c426cc0fa4"
      },
      "id": "4SnZOi5FEnrt",
      "execution_count": null,
      "outputs": [
        {
          "output_type": "stream",
          "name": "stdout",
          "text": [
            "['a', 'quick', 'brown', 'fox', 'jumps', 'over', 'a', 'lazy', 'dog', 'house', 'i', 'n', 'i', 'n']\n"
          ]
        }
      ]
    },
    {
      "cell_type": "code",
      "source": [
        "l.extend(['house'])\n",
        "l.extend(['the','evening'])\n",
        "print(l)"
      ],
      "metadata": {
        "colab": {
          "base_uri": "https://localhost:8080/"
        },
        "id": "w0PyqQaXEniA",
        "outputId": "ce6930f0-df09-4939-d4a7-4c35987ecf7c"
      },
      "id": "w0PyqQaXEniA",
      "execution_count": null,
      "outputs": [
        {
          "output_type": "stream",
          "name": "stdout",
          "text": [
            "['a', 'quick', 'brown', 'fox', 'jumps', 'over', 'a', 'lazy', 'dog', 'house', 'i', 'n', 'i', 'n', 'house', 'house', 'the', 'evening']\n"
          ]
        }
      ]
    },
    {
      "cell_type": "code",
      "source": [
        "l.extend(123)\n",
        "print(l)"
      ],
      "metadata": {
        "colab": {
          "base_uri": "https://localhost:8080/",
          "height": 159
        },
        "id": "294L764YIZ-K",
        "outputId": "b91bbdda-ca2b-4156-cc69-ce696a9e8ba0"
      },
      "id": "294L764YIZ-K",
      "execution_count": null,
      "outputs": [
        {
          "output_type": "error",
          "ename": "TypeError",
          "evalue": "'int' object is not iterable",
          "traceback": [
            "\u001b[0;31m---------------------------------------------------------------------------\u001b[0m",
            "\u001b[0;31mTypeError\u001b[0m                                 Traceback (most recent call last)",
            "\u001b[0;32m<ipython-input-4-864e2ba6364a>\u001b[0m in \u001b[0;36m<cell line: 0>\u001b[0;34m()\u001b[0m\n\u001b[0;32m----> 1\u001b[0;31m \u001b[0ml\u001b[0m\u001b[0;34m.\u001b[0m\u001b[0mextend\u001b[0m\u001b[0;34m(\u001b[0m\u001b[0;36m123\u001b[0m\u001b[0;34m)\u001b[0m\u001b[0;34m\u001b[0m\u001b[0;34m\u001b[0m\u001b[0m\n\u001b[0m\u001b[1;32m      2\u001b[0m \u001b[0mprint\u001b[0m\u001b[0;34m(\u001b[0m\u001b[0ml\u001b[0m\u001b[0;34m)\u001b[0m\u001b[0;34m\u001b[0m\u001b[0;34m\u001b[0m\u001b[0m\n",
            "\u001b[0;31mTypeError\u001b[0m: 'int' object is not iterable"
          ]
        }
      ]
    },
    {
      "cell_type": "code",
      "source": [
        "#insert\n",
        "l.insert(0,'labra')\n",
        "print(l)\n"
      ],
      "metadata": {
        "colab": {
          "base_uri": "https://localhost:8080/"
        },
        "id": "P7XqG300Ialw",
        "outputId": "0ad4649e-e70b-4150-96af-58e452abb766"
      },
      "id": "P7XqG300Ialw",
      "execution_count": null,
      "outputs": [
        {
          "output_type": "stream",
          "name": "stdout",
          "text": [
            "['labra', 'a', 'quick', 'brown', 'fox', 'jumps', 'over', 'a', 'lazy', 'dog', 'house', 'i', 'n', 'i', 'n', 'house', 'house', 'the', 'evening']\n"
          ]
        }
      ]
    },
    {
      "cell_type": "code",
      "source": [
        "#pop\n",
        "l.pop(8)\n",
        "print(l)"
      ],
      "metadata": {
        "colab": {
          "base_uri": "https://localhost:8080/"
        },
        "id": "ZSRtF2DdIZ6W",
        "outputId": "8402e77c-0902-4425-ad9d-fbdab8febbce"
      },
      "id": "ZSRtF2DdIZ6W",
      "execution_count": null,
      "outputs": [
        {
          "output_type": "stream",
          "name": "stdout",
          "text": [
            "['labra', 'a', 'quick', 'brown', 'fox', 'jumps', 'over', 'a', 'house', 'i', 'n', 'i', 'n', 'house', 'house', 'the', 'evening']\n"
          ]
        }
      ]
    },
    {
      "cell_type": "code",
      "source": [
        "l.pop()"
      ],
      "metadata": {
        "colab": {
          "base_uri": "https://localhost:8080/",
          "height": 35
        },
        "id": "RmwmeNJbIZ2I",
        "outputId": "0b7eee8d-02a1-4dc8-f3f4-13015c5416da"
      },
      "id": "RmwmeNJbIZ2I",
      "execution_count": null,
      "outputs": [
        {
          "output_type": "execute_result",
          "data": {
            "text/plain": [
              "'evening'"
            ],
            "application/vnd.google.colaboratory.intrinsic+json": {
              "type": "string"
            }
          },
          "metadata": {},
          "execution_count": 17
        }
      ]
    },
    {
      "cell_type": "code",
      "source": [
        "print(l)"
      ],
      "metadata": {
        "colab": {
          "base_uri": "https://localhost:8080/"
        },
        "id": "0reag9MGIZyX",
        "outputId": "e69f1eb8-e6a6-4b0e-9be4-f61a90f2dee6"
      },
      "id": "0reag9MGIZyX",
      "execution_count": null,
      "outputs": [
        {
          "output_type": "stream",
          "name": "stdout",
          "text": [
            "['labra', 'a', 'quick', 'brown', 'fox', 'jumps', 'over', 'a', 'house', 'i', 'n', 'i', 'n', 'house', 'house', 'the']\n"
          ]
        }
      ]
    },
    {
      "cell_type": "code",
      "source": [
        "#remove\n",
        "l.remove('a')\n",
        "print(l)"
      ],
      "metadata": {
        "colab": {
          "base_uri": "https://localhost:8080/"
        },
        "id": "c4TF14c-IZul",
        "outputId": "1b1dc718-abcf-4057-ffcb-d0b203ec1be9"
      },
      "id": "c4TF14c-IZul",
      "execution_count": null,
      "outputs": [
        {
          "output_type": "stream",
          "name": "stdout",
          "text": [
            "['labra', 'quick', 'brown', 'fox', 'jumps', 'over', 'a', 'house', 'i', 'n', 'i', 'n', 'house', 'house', 'the']\n"
          ]
        }
      ]
    },
    {
      "cell_type": "code",
      "source": [
        "print(l)"
      ],
      "metadata": {
        "colab": {
          "base_uri": "https://localhost:8080/"
        },
        "id": "8FAOiiS_IZrD",
        "outputId": "f41729f6-7e44-4dce-f912-1a9ab9c0d577"
      },
      "id": "8FAOiiS_IZrD",
      "execution_count": null,
      "outputs": [
        {
          "output_type": "stream",
          "name": "stdout",
          "text": [
            "['labra', 'quick', 'brown', 'fox', 'jumps', 'over', 'a', 'house', 'i', 'n', 'i', 'n', 'house', 'house', 'the']\n"
          ]
        }
      ]
    },
    {
      "cell_type": "code",
      "source": [
        "l.reverse()\n",
        "print(l)"
      ],
      "metadata": {
        "colab": {
          "base_uri": "https://localhost:8080/"
        },
        "id": "jgAi-qNdIZnF",
        "outputId": "95166ed0-429b-4cdb-b0db-7d3c700592eb"
      },
      "id": "jgAi-qNdIZnF",
      "execution_count": null,
      "outputs": [
        {
          "output_type": "stream",
          "name": "stdout",
          "text": [
            "['dog', 'lazy', 'a', 'over', 'jumps', 'fox', 'brown', 'quick', 'a']\n"
          ]
        }
      ]
    },
    {
      "cell_type": "code",
      "source": [
        "print(sorted(l))\n",
        "print(sorted(l,reverse=True))"
      ],
      "metadata": {
        "id": "WlAIHI0tJ0Yi",
        "colab": {
          "base_uri": "https://localhost:8080/"
        },
        "outputId": "5b90454b-2e41-422b-f556-cb938c2a0571"
      },
      "id": "WlAIHI0tJ0Yi",
      "execution_count": null,
      "outputs": [
        {
          "output_type": "stream",
          "name": "stdout",
          "text": [
            "['a', 'a', 'brown', 'dog', 'fox', 'jumps', 'lazy', 'over', 'quick']\n",
            "['quick', 'over', 'lazy', 'jumps', 'fox', 'dog', 'brown', 'a', 'a']\n"
          ]
        }
      ]
    },
    {
      "cell_type": "code",
      "source": [
        "print(l)"
      ],
      "metadata": {
        "colab": {
          "base_uri": "https://localhost:8080/"
        },
        "id": "1Jmoqg_eLAEe",
        "outputId": "4a2e26af-2811-4c3c-fe74-b07b4d7968d4"
      },
      "id": "1Jmoqg_eLAEe",
      "execution_count": null,
      "outputs": [
        {
          "output_type": "stream",
          "name": "stdout",
          "text": [
            "['dog', 'lazy', 'a', 'over', 'jumps', 'fox', 'brown', 'quick', 'a']\n"
          ]
        }
      ]
    },
    {
      "cell_type": "code",
      "source": [
        "l.sort()"
      ],
      "metadata": {
        "id": "qjiFdP1tLAPP"
      },
      "id": "qjiFdP1tLAPP",
      "execution_count": null,
      "outputs": []
    },
    {
      "cell_type": "code",
      "source": [
        "print(l)"
      ],
      "metadata": {
        "colab": {
          "base_uri": "https://localhost:8080/"
        },
        "id": "X8xX_lwsLAYp",
        "outputId": "7c2f237c-9ade-41f6-cacb-639a21370705"
      },
      "id": "X8xX_lwsLAYp",
      "execution_count": null,
      "outputs": [
        {
          "output_type": "stream",
          "name": "stdout",
          "text": [
            "['a', 'a', 'brown', 'dog', 'fox', 'jumps', 'lazy', 'over', 'quick']\n"
          ]
        }
      ]
    },
    {
      "cell_type": "code",
      "source": [
        "l.sort(reverse=True)"
      ],
      "metadata": {
        "id": "UXhOFyeJAHbs"
      },
      "id": "UXhOFyeJAHbs",
      "execution_count": null,
      "outputs": []
    },
    {
      "cell_type": "code",
      "source": [
        "print(l)"
      ],
      "metadata": {
        "colab": {
          "base_uri": "https://localhost:8080/"
        },
        "id": "WT7Can_7AHiW",
        "outputId": "1eb0af13-979f-46dc-c756-db57040dfe41"
      },
      "id": "WT7Can_7AHiW",
      "execution_count": null,
      "outputs": [
        {
          "output_type": "stream",
          "name": "stdout",
          "text": [
            "['a', 'quick', 'brown', 'fox', 'jumps', 'over', 'a', 'lazy', 'dog']\n"
          ]
        }
      ]
    },
    {
      "cell_type": "code",
      "source": [
        "l.clear()"
      ],
      "metadata": {
        "id": "nHgWv4IVAHre"
      },
      "id": "nHgWv4IVAHre",
      "execution_count": null,
      "outputs": []
    },
    {
      "cell_type": "code",
      "source": [
        "print(l)"
      ],
      "metadata": {
        "colab": {
          "base_uri": "https://localhost:8080/"
        },
        "id": "pVYEBWmzAHyW",
        "outputId": "924552d0-d15e-4319-bce7-7a8aa9280140"
      },
      "id": "pVYEBWmzAHyW",
      "execution_count": null,
      "outputs": [
        {
          "output_type": "stream",
          "name": "stdout",
          "text": [
            "[]\n"
          ]
        }
      ]
    },
    {
      "cell_type": "code",
      "source": [
        "print(''.join(l))"
      ],
      "metadata": {
        "colab": {
          "base_uri": "https://localhost:8080/"
        },
        "id": "588yyN5GeArH",
        "outputId": "2669dc49-4b44-4b81-a568-e1f7cf871966"
      },
      "id": "588yyN5GeArH",
      "execution_count": null,
      "outputs": [
        {
          "output_type": "stream",
          "name": "stdout",
          "text": [
            "aquickbrownfoxjumpsoveralazydog\n"
          ]
        }
      ]
    },
    {
      "cell_type": "code",
      "source": [
        "L =[7,2,5,2,3,6,2,7,9,3] #[7,2,5,6,9,3]\n",
        "l=[]\n",
        "for i in L:\n",
        "  if i not in l:\n",
        "    l.append(i)\n",
        "print(l)"
      ],
      "metadata": {
        "colab": {
          "base_uri": "https://localhost:8080/"
        },
        "id": "A5P8Fm5ZeAgT",
        "outputId": "57321b42-03bb-41d5-fa80-52da4f3645ed"
      },
      "id": "A5P8Fm5ZeAgT",
      "execution_count": null,
      "outputs": [
        {
          "output_type": "stream",
          "name": "stdout",
          "text": [
            "[7, 2, 5, 3, 6, 9]\n"
          ]
        }
      ]
    },
    {
      "cell_type": "code",
      "source": [
        "s1='silent'\n",
        "s2='listen'\n",
        "if sorted(s1)==sorted(s2):\n",
        "    print('Anagram')\n",
        "else:\n",
        "    print('Not Anagram')"
      ],
      "metadata": {
        "colab": {
          "base_uri": "https://localhost:8080/"
        },
        "id": "Vpc_V5BIfuf_",
        "outputId": "a40c7e83-3d74-4f59-9eb7-865506d947b2"
      },
      "id": "Vpc_V5BIfuf_",
      "execution_count": null,
      "outputs": [
        {
          "output_type": "stream",
          "name": "stdout",
          "text": [
            "Anagram\n"
          ]
        }
      ]
    },
    {
      "cell_type": "code",
      "source": [
        "s1=input('enter s1')\n",
        "s2='listen'\n",
        "l=[]\n",
        "for i in s2:\n",
        "  if i in s1:\n",
        "    l.append(s1[s1.index(i)])\n",
        "print(''.join(l))"
      ],
      "metadata": {
        "colab": {
          "base_uri": "https://localhost:8080/"
        },
        "id": "EZabxXg5eATU",
        "outputId": "5958cd19-9b9e-4685-e87c-2299768e742c"
      },
      "id": "EZabxXg5eATU",
      "execution_count": null,
      "outputs": [
        {
          "output_type": "stream",
          "name": "stdout",
          "text": [
            "enter s1silent\n",
            "listen\n"
          ]
        }
      ]
    },
    {
      "cell_type": "code",
      "source": [
        "# Nested list"
      ],
      "metadata": {
        "id": "JyyDtb-vAH7E"
      },
      "id": "JyyDtb-vAH7E",
      "execution_count": null,
      "outputs": []
    },
    {
      "cell_type": "code",
      "source": [
        "L=[1,2,3,4,5,6]\n",
        "print(len(L))"
      ],
      "metadata": {
        "colab": {
          "base_uri": "https://localhost:8080/"
        },
        "id": "td2Wz1PlAIE8",
        "outputId": "16bbbab1-ab69-4859-8cd2-5b2f28b81ad9"
      },
      "id": "td2Wz1PlAIE8",
      "execution_count": null,
      "outputs": [
        {
          "output_type": "stream",
          "name": "stdout",
          "text": [
            "6\n"
          ]
        }
      ]
    },
    {
      "cell_type": "code",
      "source": [
        "L=[1,2,[3,4],5,6]\n",
        "print(len(L))\n",
        "print(L)"
      ],
      "metadata": {
        "colab": {
          "base_uri": "https://localhost:8080/"
        },
        "id": "ifHAWvdiAgzG",
        "outputId": "366a2ac3-c5b9-42a5-db00-901da9678bad"
      },
      "id": "ifHAWvdiAgzG",
      "execution_count": null,
      "outputs": [
        {
          "output_type": "stream",
          "name": "stdout",
          "text": [
            "5\n",
            "[1, 2, [3, 4], 5, 6]\n"
          ]
        }
      ]
    },
    {
      "cell_type": "code",
      "source": [
        "L=[1,[2,[3,4],5],6]\n",
        "print(L,len(L))"
      ],
      "metadata": {
        "colab": {
          "base_uri": "https://localhost:8080/"
        },
        "id": "MCwbqhEIAgrc",
        "outputId": "0fbdaa8a-f9d5-4eae-b434-aefe64b8290e"
      },
      "id": "MCwbqhEIAgrc",
      "execution_count": null,
      "outputs": [
        {
          "output_type": "stream",
          "name": "stdout",
          "text": [
            "[1, [2, [3, 4], 5], 6] 3\n"
          ]
        }
      ]
    },
    {
      "cell_type": "code",
      "source": [
        "l1=[1,2,3,4,5,[6,7,8,9],0]\n",
        "print(l1)\n",
        "print(len(l1))"
      ],
      "metadata": {
        "colab": {
          "base_uri": "https://localhost:8080/"
        },
        "id": "Ezw9EOdOAggi",
        "outputId": "a825b9c7-3ffe-4316-eddf-2c82ac62774b"
      },
      "id": "Ezw9EOdOAggi",
      "execution_count": null,
      "outputs": [
        {
          "output_type": "stream",
          "name": "stdout",
          "text": [
            "[1, 2, 3, 4, 5, [6, 7, 8, 9], 0]\n",
            "7\n"
          ]
        }
      ]
    },
    {
      "cell_type": "code",
      "source": [
        "l2=[1,2,[3,4],5,[6,7,8,9],0]\n",
        "print(l2)\n",
        "print(len(l2))"
      ],
      "metadata": {
        "colab": {
          "base_uri": "https://localhost:8080/"
        },
        "id": "3aUaFOxAAgN7",
        "outputId": "7290f4df-9d46-4497-d07f-4ce048c95447"
      },
      "id": "3aUaFOxAAgN7",
      "execution_count": null,
      "outputs": [
        {
          "output_type": "stream",
          "name": "stdout",
          "text": [
            "[1, 2, [3, 4], 5, [6, 7, 8, 9], 0]\n",
            "6\n"
          ]
        }
      ]
    },
    {
      "cell_type": "code",
      "source": [
        "l2=[1,2,[3,4],5,[6,[7],8,9],0]\n",
        "print(l2)\n",
        "print(len(l2))"
      ],
      "metadata": {
        "colab": {
          "base_uri": "https://localhost:8080/"
        },
        "id": "1Fo6Q8BNAyAz",
        "outputId": "f6481cd4-b241-4d94-972b-25516e5cc3b3"
      },
      "id": "1Fo6Q8BNAyAz",
      "execution_count": null,
      "outputs": [
        {
          "output_type": "stream",
          "name": "stdout",
          "text": [
            "[1, 2, [3, 4], 5, [6, [7], 8, 9], 0]\n",
            "6\n"
          ]
        }
      ]
    },
    {
      "cell_type": "code",
      "source": [
        "l2=[[1,2,[3,4],5,[6,[7],8,9],0]]\n",
        "print(l2)\n",
        "print(len(l2))"
      ],
      "metadata": {
        "colab": {
          "base_uri": "https://localhost:8080/"
        },
        "id": "DrxpOTycAx8F",
        "outputId": "3eaf1c0c-6159-4635-a007-826dec158be1"
      },
      "id": "DrxpOTycAx8F",
      "execution_count": null,
      "outputs": [
        {
          "output_type": "stream",
          "name": "stdout",
          "text": [
            "[[1, 2, [3, 4], 5, [6, [7], 8, 9], 0]]\n",
            "1\n"
          ]
        }
      ]
    },
    {
      "cell_type": "code",
      "source": [
        "l=['a', 'quick', 'brown', ['fox', 'jumps'], 'over', 'a', 'lazy', 'dog']\n",
        "print(l)\n",
        "print(len(l))\n"
      ],
      "metadata": {
        "colab": {
          "base_uri": "https://localhost:8080/"
        },
        "id": "XWdnkrDrAx3k",
        "outputId": "762cb55c-f02b-47bf-cb58-76a4d5bda240"
      },
      "id": "XWdnkrDrAx3k",
      "execution_count": null,
      "outputs": [
        {
          "output_type": "stream",
          "name": "stdout",
          "text": [
            "['a', 'quick', 'brown', ['fox', 'jumps'], 'over', 'a', 'lazy', 'dog']\n",
            "8\n"
          ]
        }
      ]
    },
    {
      "cell_type": "code",
      "source": [
        "print(l[5])\n",
        "print(l[-3])\n",
        "#print(l[100])\n",
        "print(l[4][2])\n",
        "print(l[-4][2])\n",
        "print(l[-2][-3])\n"
      ],
      "metadata": {
        "colab": {
          "base_uri": "https://localhost:8080/"
        },
        "id": "EPlJzAPYAxyN",
        "outputId": "2b7b936c-e64e-4995-cd59-e4b101849014"
      },
      "id": "EPlJzAPYAxyN",
      "execution_count": null,
      "outputs": [
        {
          "output_type": "stream",
          "name": "stdout",
          "text": [
            "a\n",
            "a\n",
            "e\n",
            "e\n",
            "a\n"
          ]
        }
      ]
    },
    {
      "cell_type": "code",
      "source": [
        "l=['a', 'quick', 'brown', ['fox', 'jumps'], 'over', 'a', 'lazy', 'dog']\n",
        "print(l)"
      ],
      "metadata": {
        "colab": {
          "base_uri": "https://localhost:8080/"
        },
        "id": "fz9oosjoAxrf",
        "outputId": "b50f9678-4051-46d9-8b2e-8489f4b808ba"
      },
      "id": "fz9oosjoAxrf",
      "execution_count": null,
      "outputs": [
        {
          "output_type": "stream",
          "name": "stdout",
          "text": [
            "['a', 'quick', 'brown', ['fox', 'jumps'], 'over', 'a', 'lazy', 'dog']\n"
          ]
        }
      ]
    },
    {
      "cell_type": "code",
      "source": [
        "print(l[1])\n",
        "print(l[1:2])\n",
        "print(l[3])\n",
        "print(l[3:4])\n",
        "print(l[3:4][0])\n",
        "print(l[3:4][0][1])\n",
        "print(l[3:4][0][1][-3:])"
      ],
      "metadata": {
        "colab": {
          "base_uri": "https://localhost:8080/"
        },
        "id": "yxhADL86AxkB",
        "outputId": "87c9743f-1bdd-4068-f54a-20797ec74768"
      },
      "id": "yxhADL86AxkB",
      "execution_count": null,
      "outputs": [
        {
          "output_type": "stream",
          "name": "stdout",
          "text": [
            "quick\n",
            "['quick']\n",
            "['fox', 'jumps']\n",
            "[['fox', 'jumps']]\n",
            "['fox', 'jumps']\n",
            "jumps\n",
            "mps\n"
          ]
        }
      ]
    },
    {
      "cell_type": "code",
      "source": [
        "l=['a', 'quick', 'brown', ['fox', 'jumps'], 'over', 'a', 'lazy', 'dog']\n",
        "print(l)"
      ],
      "metadata": {
        "colab": {
          "base_uri": "https://localhost:8080/"
        },
        "id": "7ZKXLGlyAgCS",
        "outputId": "74addba5-d557-41ff-8d5f-4a0074c92d9f"
      },
      "id": "7ZKXLGlyAgCS",
      "execution_count": null,
      "outputs": [
        {
          "output_type": "stream",
          "name": "stdout",
          "text": [
            "['a', 'quick', 'brown', ['fox', 'jumps'], 'over', 'a', 'lazy', 'dog']\n"
          ]
        }
      ]
    },
    {
      "cell_type": "code",
      "source": [
        "# print(l[2:6])\n",
        "# print(l[2:6][1])\n",
        "# print(l[2:6][1][0])\n",
        "print(l[0:100])\n",
        "print(l[0:])\n",
        "print(l[:100])\n",
        "print(l[:])\n",
        "print(l[100:0])"
      ],
      "metadata": {
        "colab": {
          "base_uri": "https://localhost:8080/"
        },
        "id": "7TZDVslEAf3X",
        "outputId": "8ed0772f-0031-4d03-f694-50856c390153"
      },
      "id": "7TZDVslEAf3X",
      "execution_count": null,
      "outputs": [
        {
          "output_type": "stream",
          "name": "stdout",
          "text": [
            "['a', 'quick', 'brown', ['fox', 'jumps'], 'over', 'a', 'lazy', 'dog']\n",
            "['a', 'quick', 'brown', ['fox', 'jumps'], 'over', 'a', 'lazy', 'dog']\n",
            "['a', 'quick', 'brown', ['fox', 'jumps'], 'over', 'a', 'lazy', 'dog']\n",
            "['a', 'quick', 'brown', ['fox', 'jumps'], 'over', 'a', 'lazy', 'dog']\n",
            "[]\n"
          ]
        }
      ]
    },
    {
      "cell_type": "code",
      "source": [
        "# list comprehension"
      ],
      "metadata": {
        "id": "Kv2ptPK7BTZf"
      },
      "id": "Kv2ptPK7BTZf",
      "execution_count": null,
      "outputs": []
    },
    {
      "cell_type": "code",
      "source": [
        "# when i want my expected output in the form of list we use list comprehension\n",
        "# list comprehension provides you the shorter syntax of code"
      ],
      "metadata": {
        "id": "VUVDEhGEBUCU"
      },
      "id": "VUVDEhGEBUCU",
      "execution_count": null,
      "outputs": []
    },
    {
      "cell_type": "code",
      "source": [
        "L=[]\n",
        "for i in range(1,10):\n",
        "    L.append(i)\n",
        "print(L)"
      ],
      "metadata": {
        "colab": {
          "base_uri": "https://localhost:8080/"
        },
        "id": "g_mOgXl_BTQk",
        "outputId": "fe3b2277-7efc-450f-9438-f5a68a12263e"
      },
      "id": "g_mOgXl_BTQk",
      "execution_count": null,
      "outputs": [
        {
          "output_type": "stream",
          "name": "stdout",
          "text": [
            "[1, 2, 3, 4, 5, 6, 7, 8, 9]\n"
          ]
        }
      ]
    },
    {
      "cell_type": "code",
      "source": [
        "# syntax [ans   for loop]\n",
        "l1 = [i for i in range(1,10)]\n",
        "print(l1)"
      ],
      "metadata": {
        "colab": {
          "base_uri": "https://localhost:8080/"
        },
        "id": "Jv_dYEtkBoLf",
        "outputId": "fe2009a3-443d-48ea-e9a5-38c3010c88b6"
      },
      "id": "Jv_dYEtkBoLf",
      "execution_count": null,
      "outputs": [
        {
          "output_type": "stream",
          "name": "stdout",
          "text": [
            "[1, 2, 3, 4, 5, 6, 7, 8, 9]\n"
          ]
        }
      ]
    },
    {
      "cell_type": "code",
      "source": [
        "L=[]\n",
        "for i in range(1,10):\n",
        "    if i>=7:\n",
        "        L.append(i)\n",
        "print(L)"
      ],
      "metadata": {
        "colab": {
          "base_uri": "https://localhost:8080/"
        },
        "id": "CgLGtjwRBoEf",
        "outputId": "3d20ca8f-e180-4247-bb36-da972953112c"
      },
      "id": "CgLGtjwRBoEf",
      "execution_count": null,
      "outputs": [
        {
          "output_type": "stream",
          "name": "stdout",
          "text": [
            "[7, 8, 9]\n"
          ]
        }
      ]
    },
    {
      "cell_type": "code",
      "source": [
        "# syntax [ans  for loop if con]\n",
        "l2 = [i for i in range(1,10) if i>=7 ]\n",
        "print(l2)"
      ],
      "metadata": {
        "colab": {
          "base_uri": "https://localhost:8080/"
        },
        "id": "TExaa47xBn8N",
        "outputId": "d731dce1-e3fb-4139-e952-3cb3034fc759"
      },
      "id": "TExaa47xBn8N",
      "execution_count": null,
      "outputs": [
        {
          "output_type": "stream",
          "name": "stdout",
          "text": [
            "[7, 8, 9]\n"
          ]
        }
      ]
    },
    {
      "cell_type": "code",
      "source": [
        "L=[]\n",
        "for i in range(1,10):\n",
        "    if i%2==0:\n",
        "        L.append('even')\n",
        "    else:\n",
        "        L.append('odd')\n",
        "\n",
        "print(L)"
      ],
      "metadata": {
        "colab": {
          "base_uri": "https://localhost:8080/"
        },
        "id": "nkcrlE6kBnvY",
        "outputId": "3095e69f-3ef5-4deb-9a97-81a2e1865146"
      },
      "id": "nkcrlE6kBnvY",
      "execution_count": null,
      "outputs": [
        {
          "output_type": "stream",
          "name": "stdout",
          "text": [
            "['odd', 'even', 'odd', 'even', 'odd', 'even', 'odd', 'even', 'odd']\n"
          ]
        }
      ]
    },
    {
      "cell_type": "code",
      "source": [
        "# syntax [ans if con  else ans for loop ]\n",
        "l3 = ['even' if i%2==0 else 'odd' for i in range(1,10)]\n",
        "print(l3)"
      ],
      "metadata": {
        "colab": {
          "base_uri": "https://localhost:8080/"
        },
        "id": "EQzddE46BTHR",
        "outputId": "b9cb18d1-8c27-4675-dd75-b58af97003cb"
      },
      "id": "EQzddE46BTHR",
      "execution_count": null,
      "outputs": [
        {
          "output_type": "stream",
          "name": "stdout",
          "text": [
            "['odd', 'even', 'odd', 'even', 'odd', 'even', 'odd', 'even', 'odd']\n"
          ]
        }
      ]
    },
    {
      "cell_type": "code",
      "source": [
        "# Data Type\n",
        "#1. Immutable - Numeric , string, tuples\n",
        "#2. Mutable - list , dict , set"
      ],
      "metadata": {
        "id": "508KGS5lBTCh"
      },
      "id": "508KGS5lBTCh",
      "execution_count": null,
      "outputs": []
    },
    {
      "cell_type": "code",
      "source": [
        "# Dictionary\n"
      ],
      "metadata": {
        "id": "8p4jWoi9B4A2"
      },
      "id": "8p4jWoi9B4A2",
      "execution_count": null,
      "outputs": []
    },
    {
      "cell_type": "code",
      "source": [
        "# dinctionary are my  mutable data type that stores the elements in a key-value pair format\n",
        "# each key key value pairs are seperated by commas\n",
        "# key and value are seperated by colon\n",
        "# dictionary represents into the curly brackets {}\n",
        "# dictionary key should be unique"
      ],
      "metadata": {
        "id": "wncdybv3B31R"
      },
      "id": "wncdybv3B31R",
      "execution_count": null,
      "outputs": []
    },
    {
      "cell_type": "code",
      "source": [
        "d = {1:'a','name':'xyz',100:4,'hii': 0}\n",
        "print(d)\n",
        "print(type(d))\n",
        "print(len(d))"
      ],
      "metadata": {
        "id": "r2cB1oPGB3r-",
        "colab": {
          "base_uri": "https://localhost:8080/"
        },
        "outputId": "7056f229-86ea-475d-b253-cf36b7046851"
      },
      "id": "r2cB1oPGB3r-",
      "execution_count": null,
      "outputs": [
        {
          "output_type": "stream",
          "name": "stdout",
          "text": [
            "{1: 'a', 'name': 'xyz', 100: 4, 'hii': 0}\n",
            "<class 'dict'>\n",
            "4\n"
          ]
        }
      ]
    },
    {
      "cell_type": "code",
      "source": [
        "d2={1:100 , 2:200, 'abc':'xyz',9:'nine',5:200,1:'one'}\n",
        "print(len(d2))\n",
        "print(d2)"
      ],
      "metadata": {
        "id": "GHSyLC31B3d2",
        "colab": {
          "base_uri": "https://localhost:8080/"
        },
        "outputId": "2cbc17b8-1f2a-4bf4-8ba2-58902b7ed33d"
      },
      "id": "GHSyLC31B3d2",
      "execution_count": null,
      "outputs": [
        {
          "output_type": "stream",
          "name": "stdout",
          "text": [
            "5\n",
            "{1: 'one', 2: 200, 'abc': 'xyz', 9: 'nine', 5: 200}\n"
          ]
        }
      ]
    },
    {
      "cell_type": "code",
      "source": [
        "d={1:'a',5:'quick',0:'brown',2:'fox',10:'jumps',7:'over'}"
      ],
      "metadata": {
        "id": "01EAlcomB3ZX"
      },
      "id": "01EAlcomB3ZX",
      "execution_count": null,
      "outputs": []
    },
    {
      "cell_type": "code",
      "source": [
        "# to acces any values in dictionary i have to pass it's key\n",
        "print(d[0])\n",
        "# print(d[99])"
      ],
      "metadata": {
        "id": "KVbaZDlnLAgj",
        "colab": {
          "base_uri": "https://localhost:8080/"
        },
        "outputId": "389795db-82e8-49f0-9acc-447ffb53e4e8"
      },
      "id": "KVbaZDlnLAgj",
      "execution_count": null,
      "outputs": [
        {
          "output_type": "stream",
          "name": "stdout",
          "text": [
            "brown\n"
          ]
        }
      ]
    },
    {
      "cell_type": "code",
      "source": [
        "# to acces any values in dictionary i have to pass it's key\n",
        "print(d[0])\n",
        "# print(d[99])"
      ],
      "metadata": {
        "colab": {
          "base_uri": "https://localhost:8080/"
        },
        "id": "MzEeKOj3J3mL",
        "outputId": "8cb8c323-5526-4778-87c8-21c384d6e185"
      },
      "id": "MzEeKOj3J3mL",
      "execution_count": null,
      "outputs": [
        {
          "output_type": "stream",
          "name": "stdout",
          "text": [
            "brown\n"
          ]
        }
      ]
    },
    {
      "cell_type": "code",
      "source": [
        "print(d.keys())\n",
        "print(d.values())\n",
        "print(d.items())"
      ],
      "metadata": {
        "colab": {
          "base_uri": "https://localhost:8080/"
        },
        "id": "EUf-r94bJ3cC",
        "outputId": "86f63c94-e786-4e67-85f3-aa9707a077df"
      },
      "id": "EUf-r94bJ3cC",
      "execution_count": null,
      "outputs": [
        {
          "output_type": "stream",
          "name": "stdout",
          "text": [
            "dict_keys([1, 5, 0, 2, 10, 7])\n",
            "dict_values(['a', 'quick', 'brown', 'fox', 'jumps', 'over'])\n",
            "dict_items([(1, 'a'), (5, 'quick'), (0, 'brown'), (2, 'fox'), (10, 'jumps'), (7, 'over')])\n"
          ]
        }
      ]
    },
    {
      "cell_type": "code",
      "source": [
        "# update\n",
        "d.update({99:'the'})\n",
        "d.update({5:'lazy'})\n",
        "d.update({-7:'dog',500:'house'})\n",
        "\n",
        "d[999] = 'byuifnup'"
      ],
      "metadata": {
        "id": "9vr30H_eKbgh"
      },
      "id": "9vr30H_eKbgh",
      "execution_count": null,
      "outputs": []
    },
    {
      "cell_type": "code",
      "source": [
        "print(d)"
      ],
      "metadata": {
        "colab": {
          "base_uri": "https://localhost:8080/"
        },
        "id": "TH-1rHnbKbcd",
        "outputId": "4380599a-f1bc-4661-bde1-597fda6fbef5"
      },
      "id": "TH-1rHnbKbcd",
      "execution_count": null,
      "outputs": [
        {
          "output_type": "stream",
          "name": "stdout",
          "text": [
            "{1: 'a', 5: 'lazy', 0: 'brown', 2: 'fox', 10: 'jumps', 7: 'over', 99: 'the', -7: 'dog', 500: 'house', 999: 'byuifnup'}\n"
          ]
        }
      ]
    },
    {
      "cell_type": "code",
      "source": [
        "# pop\n",
        "d.pop(-7)"
      ],
      "metadata": {
        "colab": {
          "base_uri": "https://localhost:8080/",
          "height": 35
        },
        "id": "-3_DEApPKbYq",
        "outputId": "a9454d7c-02eb-4932-cefc-f714246838c6"
      },
      "id": "-3_DEApPKbYq",
      "execution_count": null,
      "outputs": [
        {
          "output_type": "execute_result",
          "data": {
            "text/plain": [
              "'dog'"
            ],
            "application/vnd.google.colaboratory.intrinsic+json": {
              "type": "string"
            }
          },
          "metadata": {},
          "execution_count": 13
        }
      ]
    },
    {
      "cell_type": "code",
      "source": [
        "print(d)"
      ],
      "metadata": {
        "colab": {
          "base_uri": "https://localhost:8080/"
        },
        "id": "-OeteHm-KbUX",
        "outputId": "c0abfa7d-6afd-4a06-ac86-3e823c3b53f6"
      },
      "id": "-OeteHm-KbUX",
      "execution_count": null,
      "outputs": [
        {
          "output_type": "stream",
          "name": "stdout",
          "text": [
            "{1: 'a', 5: 'lazy', 0: 'brown', 2: 'fox', 10: 'jumps', 7: 'over', 99: 'the', 500: 'house', 999: 'byuifnup'}\n"
          ]
        }
      ]
    },
    {
      "cell_type": "code",
      "source": [
        "d.popitem()"
      ],
      "metadata": {
        "colab": {
          "base_uri": "https://localhost:8080/"
        },
        "id": "lSVMTHX5J3VT",
        "outputId": "70c24d7f-681f-40e4-fbd6-0f1197528045"
      },
      "id": "lSVMTHX5J3VT",
      "execution_count": null,
      "outputs": [
        {
          "output_type": "execute_result",
          "data": {
            "text/plain": [
              "(999, 'byuifnup')"
            ]
          },
          "metadata": {},
          "execution_count": 15
        }
      ]
    },
    {
      "cell_type": "code",
      "source": [
        "print(d)"
      ],
      "metadata": {
        "colab": {
          "base_uri": "https://localhost:8080/"
        },
        "id": "UKoQYuJzKv8d",
        "outputId": "cb04764f-822d-4073-c64a-ade052bfaba4"
      },
      "id": "UKoQYuJzKv8d",
      "execution_count": null,
      "outputs": [
        {
          "output_type": "stream",
          "name": "stdout",
          "text": [
            "{1: 'a', 5: 'lazy', 0: 'brown', 2: 'fox', 10: 'jumps', 7: 'over', 99: 'the', 500: 'house'}\n"
          ]
        }
      ]
    },
    {
      "cell_type": "code",
      "source": [
        "d.clear()"
      ],
      "metadata": {
        "id": "qsKk_o7CKv4G"
      },
      "id": "qsKk_o7CKv4G",
      "execution_count": null,
      "outputs": []
    },
    {
      "cell_type": "code",
      "source": [
        "print(d)"
      ],
      "metadata": {
        "colab": {
          "base_uri": "https://localhost:8080/"
        },
        "id": "4WsrGyYmKvjf",
        "outputId": "21b56f09-0067-4746-b64d-299d61cfdad0"
      },
      "id": "4WsrGyYmKvjf",
      "execution_count": null,
      "outputs": [
        {
          "output_type": "stream",
          "name": "stdout",
          "text": [
            "{}\n"
          ]
        }
      ]
    },
    {
      "cell_type": "code",
      "source": [
        "# Dictionary Comprehension"
      ],
      "metadata": {
        "id": "ym6IAXLpKvcy"
      },
      "id": "ym6IAXLpKvcy",
      "execution_count": null,
      "outputs": []
    },
    {
      "cell_type": "code",
      "source": [
        "# When i want my exprected output in the form of dictionary we use dictionary comprehension for it\n",
        "# it provides you the shorter syntax of code"
      ],
      "metadata": {
        "id": "YqegiBCLKvYX"
      },
      "id": "YqegiBCLKvYX",
      "execution_count": null,
      "outputs": []
    },
    {
      "cell_type": "code",
      "source": [
        "d={}\n",
        "\n",
        "for i in range(1,10):\n",
        "    d[i] = i+1\n",
        "print(d)"
      ],
      "metadata": {
        "colab": {
          "base_uri": "https://localhost:8080/"
        },
        "id": "FcTbP4fNKvUW",
        "outputId": "76273632-be44-4a16-fdc5-5c31419f716e"
      },
      "id": "FcTbP4fNKvUW",
      "execution_count": null,
      "outputs": [
        {
          "output_type": "stream",
          "name": "stdout",
          "text": [
            "{1: 2, 2: 3, 3: 4, 4: 5, 5: 6, 6: 7, 7: 8, 8: 9, 9: 10}\n"
          ]
        }
      ]
    },
    {
      "cell_type": "code",
      "source": [
        "# syntax {key : value  for loop}\n",
        "d1={i: i+1 for i in range(1,10)}\n",
        "print(d1)"
      ],
      "metadata": {
        "colab": {
          "base_uri": "https://localhost:8080/"
        },
        "id": "25GO0CytLDEK",
        "outputId": "111f70a4-b90c-4821-9fee-7280824d8551"
      },
      "id": "25GO0CytLDEK",
      "execution_count": null,
      "outputs": [
        {
          "output_type": "stream",
          "name": "stdout",
          "text": [
            "{1: 2, 2: 3, 3: 4, 4: 5, 5: 6, 6: 7, 7: 8, 8: 9, 9: 10}\n"
          ]
        }
      ]
    },
    {
      "cell_type": "code",
      "source": [
        "d={}\n",
        "\n",
        "for i in range(1,10):\n",
        "    if i>6:\n",
        "        d[i] = i-1\n",
        "print(d)"
      ],
      "metadata": {
        "colab": {
          "base_uri": "https://localhost:8080/"
        },
        "id": "7E7dNVPLLC_j",
        "outputId": "5adff0a6-2e51-42f4-f0a9-be753faca1ed"
      },
      "id": "7E7dNVPLLC_j",
      "execution_count": null,
      "outputs": [
        {
          "output_type": "stream",
          "name": "stdout",
          "text": [
            "{7: 6, 8: 7, 9: 8}\n"
          ]
        }
      ]
    },
    {
      "cell_type": "code",
      "source": [
        "print(d)"
      ],
      "metadata": {
        "colab": {
          "base_uri": "https://localhost:8080/"
        },
        "id": "kIaxOOd9LC7o",
        "outputId": "70ed4def-c926-49b6-9416-788dd888fa5d"
      },
      "id": "kIaxOOd9LC7o",
      "execution_count": null,
      "outputs": [
        {
          "output_type": "stream",
          "name": "stdout",
          "text": [
            "{7: 6, 8: 7, 9: 8}\n"
          ]
        }
      ]
    },
    {
      "cell_type": "code",
      "source": [
        "# syntax {key : value  for loop if con}\n",
        "d2={i: i-1 for i in range(1,10) if i>6}\n",
        "print(d2)"
      ],
      "metadata": {
        "colab": {
          "base_uri": "https://localhost:8080/"
        },
        "id": "hpYCcmb7LC3Y",
        "outputId": "1e09c45a-2579-4085-e9c5-3b6ed2c03eab"
      },
      "id": "hpYCcmb7LC3Y",
      "execution_count": null,
      "outputs": [
        {
          "output_type": "stream",
          "name": "stdout",
          "text": [
            "{7: 6, 8: 7, 9: 8}\n"
          ]
        }
      ]
    },
    {
      "cell_type": "code",
      "source": [
        "d={}\n",
        "\n",
        "for i in range(1,10):\n",
        "    if i%2==0:\n",
        "        d[i] = 'even'\n",
        "    else:\n",
        "        d[i]='odd'\n",
        "print(d)"
      ],
      "metadata": {
        "colab": {
          "base_uri": "https://localhost:8080/"
        },
        "id": "lsaA3sgALCy2",
        "outputId": "59e63f70-e1b1-4a74-cdd1-60e2d9139b1e"
      },
      "id": "lsaA3sgALCy2",
      "execution_count": null,
      "outputs": [
        {
          "output_type": "stream",
          "name": "stdout",
          "text": [
            "{1: 'odd', 2: 'even', 3: 'odd', 4: 'even', 5: 'odd', 6: 'even', 7: 'odd', 8: 'even', 9: 'odd'}\n"
          ]
        }
      ]
    },
    {
      "cell_type": "code",
      "source": [
        "# {key : value if con else value for loop}\n",
        "d3={i:'even' if i%2==0 else 'odd' for i in range(1,10) }\n",
        "print(d3)"
      ],
      "metadata": {
        "colab": {
          "base_uri": "https://localhost:8080/"
        },
        "id": "dbT0EcG5LCuY",
        "outputId": "0d49bc4b-f10c-467d-fb40-afba1a8f29c4"
      },
      "id": "dbT0EcG5LCuY",
      "execution_count": null,
      "outputs": [
        {
          "output_type": "stream",
          "name": "stdout",
          "text": [
            "{1: 'odd', 2: 'even', 3: 'odd', 4: 'even', 5: 'odd', 6: 'even', 7: 'odd', 8: 'even', 9: 'odd'}\n"
          ]
        }
      ]
    },
    {
      "cell_type": "code",
      "source": [
        "# set"
      ],
      "metadata": {
        "id": "SgKyi6g2LCqY"
      },
      "id": "SgKyi6g2LCqY",
      "execution_count": null,
      "outputs": []
    },
    {
      "cell_type": "code",
      "source": [
        "# set are my mutable data type that stores the elements unorderly\n",
        "# set supports the mathematical operations of set theory\n",
        "# set are packed into the {}\n",
        "# set does not allow the duplicare elements\n"
      ],
      "metadata": {
        "id": "1GaG86XcLCmo"
      },
      "id": "1GaG86XcLCmo",
      "execution_count": null,
      "outputs": []
    },
    {
      "cell_type": "code",
      "source": [
        "s1= {1,2,3,4,5}\n",
        "print(s1,type(s1))\n",
        "print(len(s1))"
      ],
      "metadata": {
        "colab": {
          "base_uri": "https://localhost:8080/"
        },
        "id": "zg75NRYALCiS",
        "outputId": "263d8fa0-3a2e-4ecd-e7ed-f84f088fac0d"
      },
      "id": "zg75NRYALCiS",
      "execution_count": null,
      "outputs": [
        {
          "output_type": "stream",
          "name": "stdout",
          "text": [
            "{1, 2, 3, 4, 5} <class 'set'>\n",
            "5\n"
          ]
        }
      ]
    },
    {
      "cell_type": "code",
      "source": [
        "s2={4,5,6,7,4,6,3,2}\n",
        "print(len(s2),s2)"
      ],
      "metadata": {
        "colab": {
          "base_uri": "https://localhost:8080/"
        },
        "id": "vJaEpxHuKvQB",
        "outputId": "5d9f2ca2-c68b-467b-9504-eed3d545c316"
      },
      "id": "vJaEpxHuKvQB",
      "execution_count": null,
      "outputs": [
        {
          "output_type": "stream",
          "name": "stdout",
          "text": [
            "6 {2, 3, 4, 5, 6, 7}\n"
          ]
        }
      ]
    },
    {
      "cell_type": "code",
      "source": [
        "s3={}\n",
        "print(type(s3))"
      ],
      "metadata": {
        "colab": {
          "base_uri": "https://localhost:8080/"
        },
        "id": "jr0Rdi3_KvL7",
        "outputId": "e7b1cd34-8c59-4874-a02d-78e161142de5"
      },
      "id": "jr0Rdi3_KvL7",
      "execution_count": null,
      "outputs": [
        {
          "output_type": "stream",
          "name": "stdout",
          "text": [
            "<class 'dict'>\n"
          ]
        }
      ]
    },
    {
      "cell_type": "code",
      "source": [
        "s1=set()\n",
        "print(s1,type(s1))"
      ],
      "metadata": {
        "colab": {
          "base_uri": "https://localhost:8080/"
        },
        "id": "ZckMxivfKvHx",
        "outputId": "629e6a90-4b5f-4ff5-e522-eb62987af865"
      },
      "id": "ZckMxivfKvHx",
      "execution_count": null,
      "outputs": [
        {
          "output_type": "stream",
          "name": "stdout",
          "text": [
            "set() <class 'set'>\n"
          ]
        }
      ]
    },
    {
      "cell_type": "code",
      "source": [
        "s1.add(1)"
      ],
      "metadata": {
        "id": "gz8v0hFhKvDf"
      },
      "id": "gz8v0hFhKvDf",
      "execution_count": null,
      "outputs": []
    },
    {
      "cell_type": "code",
      "source": [
        "print(s1)"
      ],
      "metadata": {
        "colab": {
          "base_uri": "https://localhost:8080/"
        },
        "id": "P98FLYGvLpOZ",
        "outputId": "28ab3db2-23dc-4590-f114-5ac37de3d9fe"
      },
      "id": "P98FLYGvLpOZ",
      "execution_count": null,
      "outputs": [
        {
          "output_type": "stream",
          "name": "stdout",
          "text": [
            "{1}\n"
          ]
        }
      ]
    },
    {
      "cell_type": "code",
      "source": [
        "# union\n",
        "# intersection\n",
        "# difference\n",
        "# subset\n",
        "# disjoint"
      ],
      "metadata": {
        "id": "Uas8-T_-LpFo"
      },
      "id": "Uas8-T_-LpFo",
      "execution_count": null,
      "outputs": []
    },
    {
      "cell_type": "code",
      "source": [
        "# union\n",
        "veg={'onion','carrot','tomato'}\n",
        "fr={'mango','apple','grapes'}\n",
        "di={'pizza','burger'}\n",
        "\n",
        "print(veg.union(fr))\n",
        "\n",
        "print(fr | di)"
      ],
      "metadata": {
        "colab": {
          "base_uri": "https://localhost:8080/"
        },
        "id": "ocfvL1qHLo7I",
        "outputId": "e100078b-3ea9-45fd-9fc2-c09a9e81a5f3"
      },
      "id": "ocfvL1qHLo7I",
      "execution_count": null,
      "outputs": [
        {
          "output_type": "stream",
          "name": "stdout",
          "text": [
            "{'carrot', 'tomato', 'grapes', 'onion', 'apple', 'mango'}\n",
            "{'grapes', 'apple', 'burger', 'pizza', 'mango'}\n"
          ]
        }
      ]
    },
    {
      "cell_type": "code",
      "source": [
        "# intersection\n",
        "s1={1,2,3,4,5,6}\n",
        "s2={4,5,6,7,8,9,0}\n",
        "\n",
        "print(s1.intersection(s2))\n",
        "\n",
        "print(s1 & s2)"
      ],
      "metadata": {
        "colab": {
          "base_uri": "https://localhost:8080/"
        },
        "id": "YpAQtJ4WLo11",
        "outputId": "66ed476b-e3fe-47ab-d94e-78eefdf15cea"
      },
      "id": "YpAQtJ4WLo11",
      "execution_count": null,
      "outputs": [
        {
          "output_type": "stream",
          "name": "stdout",
          "text": [
            "{4, 5, 6}\n",
            "{4, 5, 6}\n"
          ]
        }
      ]
    },
    {
      "cell_type": "code",
      "source": [
        "# difference\n",
        "print(s1.difference(s2))\n",
        "\n",
        "print(s2-s1)"
      ],
      "metadata": {
        "colab": {
          "base_uri": "https://localhost:8080/"
        },
        "id": "x-8NeiuFLov0",
        "outputId": "5eac9884-8f30-4200-c0d9-4fc9b9c5afde"
      },
      "id": "x-8NeiuFLov0",
      "execution_count": null,
      "outputs": [
        {
          "output_type": "stream",
          "name": "stdout",
          "text": [
            "{1, 2, 3}\n",
            "{0, 8, 9, 7}\n"
          ]
        }
      ]
    },
    {
      "cell_type": "code",
      "source": [
        "# subset\n",
        "a={1,2,3,4,5,6,7}\n",
        "b={1,2,3,4,5,6,7,8,9,0}\n",
        "\n",
        "print(a.issubset(b))\n",
        "print(b.issubset(a))"
      ],
      "metadata": {
        "colab": {
          "base_uri": "https://localhost:8080/"
        },
        "id": "kJHLJFk5Loql",
        "outputId": "60707c1b-a324-4ce9-e066-828092d1c313"
      },
      "id": "kJHLJFk5Loql",
      "execution_count": null,
      "outputs": [
        {
          "output_type": "stream",
          "name": "stdout",
          "text": [
            "True\n",
            "False\n"
          ]
        }
      ]
    },
    {
      "cell_type": "code",
      "source": [
        "# disjoint\n",
        "x={1,2,3,4,5}\n",
        "y={6,7,8,9,0}\n",
        "\n",
        "print(x.isdisjoint(y))"
      ],
      "metadata": {
        "colab": {
          "base_uri": "https://localhost:8080/"
        },
        "id": "ag_UF7TTL_G_",
        "outputId": "1a2197e5-2fff-4296-f605-e4f8d3837aad"
      },
      "id": "ag_UF7TTL_G_",
      "execution_count": null,
      "outputs": [
        {
          "output_type": "stream",
          "name": "stdout",
          "text": [
            "True\n"
          ]
        }
      ]
    },
    {
      "cell_type": "code",
      "source": [
        "l=[1,1,2,3,1,3,1,3,4,5,6]\n",
        "#[1,2,3,4,5,6]\n",
        "L=[ ]\n",
        "\n",
        "for i in l:\n",
        "    if i not in L:\n",
        "        L.append(i)\n",
        "print(L)\n"
      ],
      "metadata": {
        "colab": {
          "base_uri": "https://localhost:8080/"
        },
        "id": "SN1_e2f1L_Ck",
        "outputId": "f47a583f-fa08-4fc9-eeb4-96f08b790e76"
      },
      "id": "SN1_e2f1L_Ck",
      "execution_count": null,
      "outputs": [
        {
          "output_type": "stream",
          "name": "stdout",
          "text": [
            "[1, 2, 3, 4, 5, 6]\n"
          ]
        }
      ]
    },
    {
      "cell_type": "code",
      "source": [
        "l=[1,1,2,3,1,3,1,3,4,5,6]\n",
        "print(list(set(l)))"
      ],
      "metadata": {
        "colab": {
          "base_uri": "https://localhost:8080/"
        },
        "id": "yOvFN5vxL--X",
        "outputId": "9a0799a9-eef3-4775-a4a9-f8db117dcab7"
      },
      "id": "yOvFN5vxL--X",
      "execution_count": null,
      "outputs": [
        {
          "output_type": "stream",
          "name": "stdout",
          "text": [
            "[1, 2, 3, 4, 5, 6]\n"
          ]
        }
      ]
    },
    {
      "cell_type": "code",
      "source": [
        "d='banana'\n",
        "D={}\n",
        "for i in d:\n",
        "    D[i] = d.count(i)\n",
        "print(D)"
      ],
      "metadata": {
        "colab": {
          "base_uri": "https://localhost:8080/"
        },
        "id": "Ecf0ZsXcL-6B",
        "outputId": "4d5142be-ef4c-4834-c2a4-a260d2b36bc4"
      },
      "id": "Ecf0ZsXcL-6B",
      "execution_count": null,
      "outputs": [
        {
          "output_type": "stream",
          "name": "stdout",
          "text": [
            "{'b': 1, 'a': 3, 'n': 2}\n"
          ]
        }
      ]
    },
    {
      "cell_type": "code",
      "source": [
        "print({i: d.count(i) for i in d })"
      ],
      "metadata": {
        "colab": {
          "base_uri": "https://localhost:8080/"
        },
        "id": "kElBPdECL-0x",
        "outputId": "a67348ca-4cf5-411d-a491-21c0045d1a9c"
      },
      "id": "kElBPdECL-0x",
      "execution_count": null,
      "outputs": [
        {
          "output_type": "stream",
          "name": "stdout",
          "text": [
            "{'b': 1, 'a': 3, 'n': 2}\n"
          ]
        }
      ]
    },
    {
      "cell_type": "code",
      "source": [
        "weight = ['50.0kg','100.4kg']\n",
        "w=[]\n",
        "# [50,100]\n",
        "for i in weight:\n",
        "    w.append(int(float(i.replace('kg',''))))\n",
        "print(w)"
      ],
      "metadata": {
        "colab": {
          "base_uri": "https://localhost:8080/"
        },
        "id": "CSBqRkBBL-vh",
        "outputId": "3d908a27-b48e-462c-d30d-0acedfcd1b62"
      },
      "id": "CSBqRkBBL-vh",
      "execution_count": null,
      "outputs": [
        {
          "output_type": "stream",
          "name": "stdout",
          "text": [
            "[50, 100]\n"
          ]
        }
      ]
    },
    {
      "cell_type": "code",
      "source": [
        "weight = ['50.0kg','100.4kg']\n",
        "for i in weight:\n",
        "    print(i[:-2])"
      ],
      "metadata": {
        "colab": {
          "base_uri": "https://localhost:8080/"
        },
        "id": "0gtNYS0RL-qM",
        "outputId": "1d5be298-5391-491d-c3f8-4ec07dc9daed"
      },
      "id": "0gtNYS0RL-qM",
      "execution_count": null,
      "outputs": [
        {
          "output_type": "stream",
          "name": "stdout",
          "text": [
            "50.0\n",
            "100.4\n"
          ]
        }
      ]
    },
    {
      "cell_type": "code",
      "source": [
        "# basics\n",
        "# operators\n",
        "# if else\n",
        "# for loop only\n",
        "# str, list\n",
        "# lambda (optional)"
      ],
      "metadata": {
        "id": "5Do3njm8LolM"
      },
      "id": "5Do3njm8LolM",
      "execution_count": null,
      "outputs": []
    },
    {
      "cell_type": "markdown",
      "source": [
        "# Functions #ctrl m + m"
      ],
      "metadata": {
        "id": "_eTDEuO-J3Qv"
      },
      "id": "_eTDEuO-J3Qv"
    },
    {
      "cell_type": "code",
      "source": [
        "print('hii')\n",
        "print('hello')"
      ],
      "metadata": {
        "id": "f2zwTg3wapgV",
        "colab": {
          "base_uri": "https://localhost:8080/"
        },
        "outputId": "2f0a47f4-5fcd-4cc0-8a98-477a3a1cf4dd"
      },
      "id": "f2zwTg3wapgV",
      "execution_count": null,
      "outputs": [
        {
          "output_type": "stream",
          "name": "stdout",
          "text": [
            "hii\n",
            "hello\n"
          ]
        }
      ]
    },
    {
      "cell_type": "code",
      "source": [
        "def xyz():\n",
        "    print('hello')\n",
        "    print('hey')\n",
        "    print('hii')\n",
        "\n",
        "\n",
        "xyz()"
      ],
      "metadata": {
        "id": "XYX09VdXapRk",
        "colab": {
          "base_uri": "https://localhost:8080/"
        },
        "outputId": "d3f87c36-d3cf-4cdb-fbc6-4ebbfec102ed"
      },
      "id": "XYX09VdXapRk",
      "execution_count": null,
      "outputs": [
        {
          "output_type": "stream",
          "name": "stdout",
          "text": [
            "hello\n",
            "hey\n",
            "hii\n"
          ]
        }
      ]
    },
    {
      "cell_type": "code",
      "source": [
        "def f():\n",
        "    print('hello')\n",
        "    print('hii')\n",
        "\n",
        "f()"
      ],
      "metadata": {
        "id": "6C9hYqK9ao7E",
        "colab": {
          "base_uri": "https://localhost:8080/"
        },
        "outputId": "47f0078a-7bfb-4535-fd06-69d1773174ba"
      },
      "id": "6C9hYqK9ao7E",
      "execution_count": null,
      "outputs": [
        {
          "output_type": "stream",
          "name": "stdout",
          "text": [
            "hello\n",
            "hii\n"
          ]
        }
      ]
    },
    {
      "cell_type": "code",
      "source": [
        "print('python')\n",
        "\n",
        "def F():\n",
        "    print('SQL')\n",
        "print('ML')\n",
        "F()\n",
        "print('Excel')\n"
      ],
      "metadata": {
        "colab": {
          "base_uri": "https://localhost:8080/"
        },
        "id": "fcj0a22Rp2EM",
        "outputId": "6f680947-1fe9-4a04-ec32-336fe20a8b1e"
      },
      "id": "fcj0a22Rp2EM",
      "execution_count": null,
      "outputs": [
        {
          "output_type": "stream",
          "name": "stdout",
          "text": [
            "python\n",
            "ML\n",
            "SQL\n",
            "Excel\n"
          ]
        }
      ]
    },
    {
      "cell_type": "code",
      "source": [
        "#1. User defined function\n",
        "#2. Annonymous Function\n",
        "#3. Built in function"
      ],
      "metadata": {
        "id": "KQMMdNQLp17U"
      },
      "id": "KQMMdNQLp17U",
      "execution_count": null,
      "outputs": []
    },
    {
      "cell_type": "code",
      "source": [
        "#1. Takes nothing , return nothing\n",
        "#2. Takes Something, return nothing\n",
        "#3. Takes nothing, return something\n",
        "#4. Takes something , return something"
      ],
      "metadata": {
        "id": "ID0Ya91Rp1xP"
      },
      "id": "ID0Ya91Rp1xP",
      "execution_count": null,
      "outputs": []
    },
    {
      "cell_type": "code",
      "source": [
        "#1. Takes nothing , return nothing\n",
        "def f1():\n",
        "    a=int(input('enter a '))\n",
        "    b=int(input('enter b '))\n",
        "    c=a+b\n",
        "    print(c)\n",
        "\n",
        "f1()"
      ],
      "metadata": {
        "colab": {
          "base_uri": "https://localhost:8080/"
        },
        "id": "muOXQF-6qW58",
        "outputId": "9eef8889-9c6c-4ee6-db6e-dffc21f30fae"
      },
      "id": "muOXQF-6qW58",
      "execution_count": null,
      "outputs": [
        {
          "output_type": "stream",
          "name": "stdout",
          "text": [
            "enter a 5\n",
            "enter b 6\n",
            "11\n"
          ]
        }
      ]
    },
    {
      "cell_type": "code",
      "source": [
        "#2. Takes Something, return nothing\n",
        "def f2(x,y): # parameters\n",
        "    z=x-y\n",
        "    print(z)\n",
        "\n",
        "a=int(input('enter a '))\n",
        "b=int(input('enter b '))\n",
        "f2(a,b) # arguments"
      ],
      "metadata": {
        "colab": {
          "base_uri": "https://localhost:8080/"
        },
        "id": "7Osl7i5lqWw3",
        "outputId": "73c13a91-cb47-4aac-a250-b6fe17f857d1"
      },
      "id": "7Osl7i5lqWw3",
      "execution_count": null,
      "outputs": [
        {
          "output_type": "stream",
          "name": "stdout",
          "text": [
            "enter a 5\n",
            "enter b 3\n",
            "2\n"
          ]
        }
      ]
    },
    {
      "cell_type": "code",
      "source": [
        "#3. Takes nothing, return something\n",
        "def f3():\n",
        "    a=int(input('enter a '))\n",
        "    b=int(input('enter b '))\n",
        "    res = a*b\n",
        "    return res\n",
        "\n",
        "d=f3()\n"
      ],
      "metadata": {
        "colab": {
          "base_uri": "https://localhost:8080/"
        },
        "id": "bknjnH5cqWla",
        "outputId": "49c2ca2a-a985-42c2-d584-95598cff6577"
      },
      "id": "bknjnH5cqWla",
      "execution_count": null,
      "outputs": [
        {
          "name": "stdout",
          "output_type": "stream",
          "text": [
            "enter a 4\n",
            "enter b 5\n"
          ]
        }
      ]
    },
    {
      "cell_type": "code",
      "source": [
        "print(d)"
      ],
      "metadata": {
        "colab": {
          "base_uri": "https://localhost:8080/"
        },
        "id": "UOHyyYxjqWXf",
        "outputId": "f3c58bae-e3fe-4cae-fc7b-1fd166079623"
      },
      "id": "UOHyyYxjqWXf",
      "execution_count": null,
      "outputs": [
        {
          "output_type": "stream",
          "name": "stdout",
          "text": [
            "20\n"
          ]
        }
      ]
    },
    {
      "cell_type": "code",
      "source": [
        "#4. Takes something , return something\n",
        "def f4(i,j):\n",
        "    res1=i**j\n",
        "    return res1\n",
        "\n",
        "\n",
        "\n",
        "a=int(input('enter a '))\n",
        "b=int(input('enter b '))\n",
        "q=f4(a,b)\n",
        "print(q)\n"
      ],
      "metadata": {
        "colab": {
          "base_uri": "https://localhost:8080/"
        },
        "id": "TZ5-anoxp1mt",
        "outputId": "5d20f164-6a81-446b-a507-40c7b014b27e"
      },
      "id": "TZ5-anoxp1mt",
      "execution_count": null,
      "outputs": [
        {
          "output_type": "stream",
          "name": "stdout",
          "text": [
            "enter a 3\n",
            "enter b 4\n",
            "81\n"
          ]
        }
      ]
    },
    {
      "cell_type": "code",
      "source": [
        "print('python')\n",
        "def f5():\n",
        "    return 'nlp'\n",
        "    print('ML')\n",
        "    return 'AI'\n",
        "    print('SQL')\n",
        "\n",
        "\n",
        "print('java')\n",
        "H=f5()\n",
        "print(H)\n",
        "print('excel')"
      ],
      "metadata": {
        "colab": {
          "base_uri": "https://localhost:8080/"
        },
        "id": "lDPpQugzp1g6",
        "outputId": "f7295712-1478-4fba-88f0-00f4b7efa423"
      },
      "id": "lDPpQugzp1g6",
      "execution_count": null,
      "outputs": [
        {
          "output_type": "stream",
          "name": "stdout",
          "text": [
            "python\n",
            "java\n",
            "nlp\n",
            "excel\n"
          ]
        }
      ]
    },
    {
      "cell_type": "code",
      "source": [
        "def f6(a,b,c,d):\n",
        "    print(a)\n",
        "    print(b)\n",
        "    print(c)\n",
        "    print(d)\n",
        "\n",
        "f6(1,2,3,4)"
      ],
      "metadata": {
        "id": "OwnN7U9SaovJ",
        "colab": {
          "base_uri": "https://localhost:8080/"
        },
        "outputId": "4389c481-3405-45e9-dd17-e02af189143a"
      },
      "id": "OwnN7U9SaovJ",
      "execution_count": null,
      "outputs": [
        {
          "output_type": "stream",
          "name": "stdout",
          "text": [
            "1\n",
            "2\n",
            "3\n",
            "4\n"
          ]
        }
      ]
    },
    {
      "cell_type": "code",
      "source": [
        "def f7(x,*y): # args\n",
        "    print(x,type(x))\n",
        "    # print(y,type(y))\n",
        "    for i in y:\n",
        "        print(i)\n",
        "\n",
        "f7(1,2,3,4,5,7,8,4,7,4,7,4)"
      ],
      "metadata": {
        "colab": {
          "base_uri": "https://localhost:8080/"
        },
        "id": "296-kQQHrdzJ",
        "outputId": "833d2ada-1e3a-4d91-f806-4c336c7b503f"
      },
      "id": "296-kQQHrdzJ",
      "execution_count": null,
      "outputs": [
        {
          "output_type": "stream",
          "name": "stdout",
          "text": [
            "1 <class 'int'>\n",
            "2\n",
            "3\n",
            "4\n",
            "5\n",
            "7\n",
            "8\n",
            "4\n",
            "7\n",
            "4\n",
            "7\n",
            "4\n"
          ]
        }
      ]
    },
    {
      "cell_type": "code",
      "source": [
        "def avg(*s):\n",
        "    if len(s)!=0:\n",
        "        return sum(s)/len(s)\n",
        "    else:\n",
        "        return 'hello'\n",
        "\n",
        "g=avg(1,2,3,4,5)\n",
        "print(g)"
      ],
      "metadata": {
        "id": "zk-pWsQ-rgEC",
        "colab": {
          "base_uri": "https://localhost:8080/"
        },
        "outputId": "cfd285a3-70b4-42bc-c56e-a0d9a6e99983"
      },
      "id": "zk-pWsQ-rgEC",
      "execution_count": null,
      "outputs": [
        {
          "output_type": "stream",
          "name": "stdout",
          "text": [
            "3.0\n"
          ]
        }
      ]
    },
    {
      "cell_type": "code",
      "source": [
        "def f9(**r): # key word argument\n",
        "    print(r)\n",
        "\n",
        "\n",
        "f9(Name='Deepanshu',age=546,marks=759)"
      ],
      "metadata": {
        "id": "ZU0mIj3Srf9Z",
        "colab": {
          "base_uri": "https://localhost:8080/"
        },
        "outputId": "c7f69b1d-7458-4657-bccd-81021182a3e0"
      },
      "id": "ZU0mIj3Srf9Z",
      "execution_count": null,
      "outputs": [
        {
          "output_type": "stream",
          "name": "stdout",
          "text": [
            "{'Name': 'Deepanshu', 'age': 546, 'marks': 759}\n"
          ]
        }
      ]
    },
    {
      "cell_type": "code",
      "source": [
        "# scope of variables\n",
        "# global variables - global variables are declare outside the function body\n",
        "                # global variables can be accesed anywhere throught the program\n",
        "\n",
        "\n",
        "\n",
        "# local variables - local variables are declare inside the function body\n",
        "                # local variables can be accesed within its block only"
      ],
      "metadata": {
        "id": "KSHPXmkSrf28"
      },
      "id": "KSHPXmkSrf28",
      "execution_count": null,
      "outputs": []
    },
    {
      "cell_type": "code",
      "source": [
        "a=10\n",
        "def func():\n",
        "    print(a)\n",
        "print(a)\n",
        "func()\n",
        "print(a)\n"
      ],
      "metadata": {
        "id": "CYDKYOsxrfyn",
        "colab": {
          "base_uri": "https://localhost:8080/"
        },
        "outputId": "48209463-79c9-4566-f9f1-981487baf910"
      },
      "id": "CYDKYOsxrfyn",
      "execution_count": null,
      "outputs": [
        {
          "output_type": "stream",
          "name": "stdout",
          "text": [
            "10\n",
            "10\n",
            "10\n"
          ]
        }
      ]
    },
    {
      "cell_type": "code",
      "source": [
        "\n",
        "def f10():\n",
        "    y=5 # local var\n",
        "    print(y)\n",
        "\n",
        "f10()\n",
        "print(y)\n"
      ],
      "metadata": {
        "id": "LDU17SCrrirv",
        "colab": {
          "base_uri": "https://localhost:8080/",
          "height": 211
        },
        "outputId": "2ee90d13-0fe2-4747-8209-cf75130a5b03"
      },
      "id": "LDU17SCrrirv",
      "execution_count": null,
      "outputs": [
        {
          "output_type": "stream",
          "name": "stdout",
          "text": [
            "5\n"
          ]
        },
        {
          "output_type": "error",
          "ename": "NameError",
          "evalue": "name 'y' is not defined",
          "traceback": [
            "\u001b[0;31m---------------------------------------------------------------------------\u001b[0m",
            "\u001b[0;31mNameError\u001b[0m                                 Traceback (most recent call last)",
            "\u001b[0;32m<ipython-input-8-57b049b08ccd>\u001b[0m in \u001b[0;36m<cell line: 0>\u001b[0;34m()\u001b[0m\n\u001b[1;32m      4\u001b[0m \u001b[0;34m\u001b[0m\u001b[0m\n\u001b[1;32m      5\u001b[0m \u001b[0mf10\u001b[0m\u001b[0;34m(\u001b[0m\u001b[0;34m)\u001b[0m\u001b[0;34m\u001b[0m\u001b[0;34m\u001b[0m\u001b[0m\n\u001b[0;32m----> 6\u001b[0;31m \u001b[0mprint\u001b[0m\u001b[0;34m(\u001b[0m\u001b[0my\u001b[0m\u001b[0;34m)\u001b[0m\u001b[0;34m\u001b[0m\u001b[0;34m\u001b[0m\u001b[0m\n\u001b[0m\u001b[1;32m      7\u001b[0m \u001b[0;34m\u001b[0m\u001b[0m\n",
            "\u001b[0;31mNameError\u001b[0m: name 'y' is not defined"
          ]
        }
      ]
    },
    {
      "cell_type": "code",
      "source": [
        "# Annonymous Functions"
      ],
      "metadata": {
        "id": "Bwce45C2rfuL"
      },
      "id": "Bwce45C2rfuL",
      "execution_count": null,
      "outputs": []
    },
    {
      "cell_type": "code",
      "source": [
        "# lambda are my annonymous function beacuse it deos not declare in a standard manner by using the def keyword\n",
        "# lambda are alson knwon as a one liner function"
      ],
      "metadata": {
        "id": "1TjySKTZN71_"
      },
      "id": "1TjySKTZN71_",
      "execution_count": null,
      "outputs": []
    },
    {
      "cell_type": "code",
      "source": [
        "# lambda paramters : expressions"
      ],
      "metadata": {
        "id": "gC490Q12N7w-"
      },
      "id": "gC490Q12N7w-",
      "execution_count": null,
      "outputs": []
    },
    {
      "cell_type": "code",
      "source": [
        "res = (lambda a,b : a+b)(2,5)\n",
        "print(res)\n",
        "\n",
        "res1 = lambda x,y: x+y\n",
        "print(res1(6,7))"
      ],
      "metadata": {
        "colab": {
          "base_uri": "https://localhost:8080/"
        },
        "id": "bCUbTkOHN7r5",
        "outputId": "8c8d4496-2595-4a19-aced-fab4603c3726"
      },
      "id": "bCUbTkOHN7r5",
      "execution_count": null,
      "outputs": [
        {
          "output_type": "stream",
          "name": "stdout",
          "text": [
            "7\n",
            "13\n"
          ]
        }
      ]
    },
    {
      "cell_type": "code",
      "source": [
        "res2 = (lambda i,j : i*j) (int(input('enter i ')),int(input('enter j ')))\n",
        "print(res2)\n",
        "\n",
        "res3 = lambda a,b : a**b\n",
        "x=int(input('enter x '))\n",
        "y= int(input('enter y '))\n",
        "\n",
        "print(res3(x,y))"
      ],
      "metadata": {
        "colab": {
          "base_uri": "https://localhost:8080/"
        },
        "id": "uI6k4yo_N7mh",
        "outputId": "42b84e71-e576-4831-fe6d-2d715e7a945a"
      },
      "id": "uI6k4yo_N7mh",
      "execution_count": null,
      "outputs": [
        {
          "output_type": "stream",
          "name": "stdout",
          "text": [
            "enter i 2\n",
            "enter j 3\n",
            "6\n",
            "enter x 4\n",
            "enter y 3\n",
            "64\n"
          ]
        }
      ]
    },
    {
      "cell_type": "code",
      "source": [
        "# lambda paramters :ans if con else ans\n",
        "\n",
        "exp = (lambda a:'even' if a%2==0 else 'odd')(int(input('enter n ')))\n",
        "print(exp)\n",
        "\n",
        "exp1 = (lambda a:'even' if a%2==0 else 'odd')\n",
        "print(exp1(int(input('enter n '))))"
      ],
      "metadata": {
        "id": "uk2DtNMmrfps",
        "colab": {
          "base_uri": "https://localhost:8080/"
        },
        "outputId": "0ec458a1-d4da-4774-da73-893b021421e8"
      },
      "id": "uk2DtNMmrfps",
      "execution_count": null,
      "outputs": [
        {
          "output_type": "stream",
          "name": "stdout",
          "text": [
            "enter n 3\n",
            "odd\n",
            "enter n 2\n",
            "even\n"
          ]
        }
      ]
    },
    {
      "cell_type": "code",
      "source": [
        "s = (lambda y : 'Pallindrome' if y==y[::-1] else 'Not Pallindrome')\n",
        "print(s(input('enter string ')))"
      ],
      "metadata": {
        "id": "CQjdjROLreRN",
        "colab": {
          "base_uri": "https://localhost:8080/"
        },
        "outputId": "17acc688-e0e5-481f-f78a-5e9de1ffc37a"
      },
      "id": "CQjdjROLreRN",
      "execution_count": null,
      "outputs": [
        {
          "output_type": "stream",
          "name": "stdout",
          "text": [
            "enter string nitin\n",
            "Pallindrome\n"
          ]
        }
      ]
    },
    {
      "cell_type": "code",
      "source": [
        "n = (lambda z : z.swapcase())\n",
        "print(n(input('enter n ')))"
      ],
      "metadata": {
        "colab": {
          "base_uri": "https://localhost:8080/"
        },
        "id": "ty8_s4aLOTIf",
        "outputId": "8e102e64-cf17-4ede-8b42-7c2f83b56ed0"
      },
      "id": "ty8_s4aLOTIf",
      "execution_count": null,
      "outputs": [
        {
          "output_type": "stream",
          "name": "stdout",
          "text": [
            "enter n felloo\n",
            "FELLOO\n"
          ]
        }
      ]
    },
    {
      "cell_type": "code",
      "source": [
        "n=int(input('enter n '))\n",
        "for i in range(1,n+1):\n",
        "    a=int(input('entert a '))\n",
        "    exp=(lambda m : 'even' if m%2==0 else 'odd')(a)\n",
        "    print(a, 'is',exp)"
      ],
      "metadata": {
        "colab": {
          "base_uri": "https://localhost:8080/"
        },
        "id": "XLJWo2UOOTEL",
        "outputId": "12188cf1-0d2b-4c4d-b6bc-bbbe1e258d32"
      },
      "id": "XLJWo2UOOTEL",
      "execution_count": null,
      "outputs": [
        {
          "output_type": "stream",
          "name": "stdout",
          "text": [
            "enter n 3\n",
            "entert a 2\n",
            "2 is even\n",
            "entert a 4\n",
            "4 is even\n",
            "entert a 5\n",
            "5 is odd\n"
          ]
        }
      ]
    },
    {
      "cell_type": "code",
      "source": [
        "# Builtin in function\n",
        "#1. print()\n",
        "#2. inupt()\n",
        "#3. type()\n",
        "#4. range()\n",
        "#5. len()\n",
        "#6. id()\n",
        "#7. ord()\n",
        "#8. chr()\n",
        "#9.  sorted()\n",
        "#10. min()"
      ],
      "metadata": {
        "id": "NkWgzRfNOS_r"
      },
      "id": "NkWgzRfNOS_r",
      "execution_count": null,
      "outputs": []
    },
    {
      "cell_type": "code",
      "source": [
        "#1. zip()\n",
        "#2. eval()\n",
        "#3. round()\n",
        "#4. enumerate()"
      ],
      "metadata": {
        "id": "kex7FWWwOS6g"
      },
      "id": "kex7FWWwOS6g",
      "execution_count": null,
      "outputs": []
    },
    {
      "cell_type": "code",
      "source": [
        "# zip() - when i want to iterate in more than one iterable simultaneously\n",
        "\n",
        "name = ['a','b']\n",
        "roll = [1,2,3]\n",
        "d={}\n",
        "for i,j in zip(roll,name):\n",
        "    print(i,'..',j)\n",
        "    d[i]=j\n",
        "print(d)"
      ],
      "metadata": {
        "colab": {
          "base_uri": "https://localhost:8080/"
        },
        "id": "FrXhvvTbOS13",
        "outputId": "7d213a03-98f8-4a62-ee4e-857ca523ce1c"
      },
      "id": "FrXhvvTbOS13",
      "execution_count": null,
      "outputs": [
        {
          "output_type": "stream",
          "name": "stdout",
          "text": [
            "1 .. a\n",
            "2 .. b\n",
            "{1: 'a', 2: 'b'}\n"
          ]
        }
      ]
    },
    {
      "cell_type": "code",
      "source": [
        "# round\n",
        "a = 6.5742\n",
        "print(round(a,3))\n",
        "print(round(a,2))\n",
        "print(round(a,1))\n",
        "print(round(a,0))\n",
        "print(round(a))"
      ],
      "metadata": {
        "colab": {
          "base_uri": "https://localhost:8080/"
        },
        "id": "nnUJCSRsOSxo",
        "outputId": "1b651d34-c408-42d8-b7b9-7babfdca5b9e"
      },
      "id": "nnUJCSRsOSxo",
      "execution_count": null,
      "outputs": [
        {
          "output_type": "stream",
          "name": "stdout",
          "text": [
            "6.574\n",
            "6.57\n",
            "6.6\n",
            "7.0\n",
            "7\n"
          ]
        }
      ]
    },
    {
      "cell_type": "code",
      "source": [
        "# eval() evaulate\n",
        "\n",
        "exp = 'x**2+3*y'\n",
        "x=3\n",
        "y=2\n",
        "\n",
        "print(exp,type(exp))\n",
        "print(eval(exp))"
      ],
      "metadata": {
        "colab": {
          "base_uri": "https://localhost:8080/"
        },
        "id": "5vZlgFJoOStW",
        "outputId": "b83d36e7-7365-4ef3-d7ac-c82fc85d0b6a"
      },
      "id": "5vZlgFJoOStW",
      "execution_count": null,
      "outputs": [
        {
          "output_type": "stream",
          "name": "stdout",
          "text": [
            "x**2+3*y <class 'str'>\n",
            "15\n"
          ]
        }
      ]
    },
    {
      "cell_type": "code",
      "source": [
        "# enumerate\n",
        "L=['a','b','a','d']\n",
        "\n",
        "for i,j in enumerate(L):\n",
        "    print(i,'...',j)"
      ],
      "metadata": {
        "colab": {
          "base_uri": "https://localhost:8080/"
        },
        "id": "h2DC44XLOSod",
        "outputId": "ead49a79-a497-475f-c311-d23a08c481d4"
      },
      "id": "h2DC44XLOSod",
      "execution_count": null,
      "outputs": [
        {
          "output_type": "stream",
          "name": "stdout",
          "text": [
            "0 ... a\n",
            "1 ... b\n",
            "2 ... a\n",
            "3 ... d\n"
          ]
        }
      ]
    },
    {
      "cell_type": "markdown",
      "source": [
        "#File handling\n"
      ],
      "metadata": {
        "id": "wqDRp5ScOSjr"
      },
      "id": "wqDRp5ScOSjr"
    },
    {
      "cell_type": "code",
      "source": [],
      "metadata": {
        "id": "ouDvWEGSOSe5"
      },
      "id": "ouDvWEGSOSe5",
      "execution_count": null,
      "outputs": []
    },
    {
      "cell_type": "code",
      "source": [],
      "metadata": {
        "id": "Gt5ypjKpOSZu"
      },
      "id": "Gt5ypjKpOSZu",
      "execution_count": null,
      "outputs": []
    }
  ],
  "metadata": {
    "kernelspec": {
      "display_name": "Python 3 (ipykernel)",
      "language": "python",
      "name": "python3"
    },
    "language_info": {
      "codemirror_mode": {
        "name": "ipython",
        "version": 3
      },
      "file_extension": ".py",
      "mimetype": "text/x-python",
      "name": "python",
      "nbconvert_exporter": "python",
      "pygments_lexer": "ipython3",
      "version": "3.12.7"
    },
    "colab": {
      "provenance": []
    }
  },
  "nbformat": 4,
  "nbformat_minor": 5
}