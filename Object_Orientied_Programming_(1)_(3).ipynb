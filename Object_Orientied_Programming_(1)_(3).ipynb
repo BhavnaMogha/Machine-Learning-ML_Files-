{
  "cells": [
    {
      "cell_type": "markdown",
      "id": "875e1255",
      "metadata": {
        "id": "875e1255"
      },
      "source": [
        "# 2 Approaches of programming"
      ]
    },
    {
      "cell_type": "markdown",
      "id": "2fcb0e0a",
      "metadata": {
        "id": "2fcb0e0a"
      },
      "source": [
        "- Procedural orientied programming\n",
        "- Object Orientied Programming"
      ]
    },
    {
      "cell_type": "markdown",
      "id": "8267ddcf",
      "metadata": {
        "id": "8267ddcf"
      },
      "source": [
        "# Oop's (Object Orientied Programming)\n",
        "---"
      ]
    },
    {
      "cell_type": "markdown",
      "id": "3f05fbfe",
      "metadata": {
        "id": "3f05fbfe"
      },
      "source": [
        "Python is an Object Oriented Programing Language.Object orientation is a software development methodology(Programing Approach) that is based on modeling a real-world system.\n",
        "\n",
        "An object oriented program consists of classes and objects.\n",
        "\n",
        "Let us understand the terms—class and objects"
      ]
    },
    {
      "cell_type": "markdown",
      "id": "78cb1548",
      "metadata": {
        "id": "78cb1548"
      },
      "source": [
        "## Class"
      ]
    },
    {
      "cell_type": "markdown",
      "id": "a3dc321c",
      "metadata": {
        "id": "a3dc321c"
      },
      "source": [
        "What is a Python Class:-\n",
        "\n",
        "A class is a template / skeleton / blueprint for creating an object.\n"
      ]
    },
    {
      "cell_type": "markdown",
      "id": "648931d3",
      "metadata": {
        "id": "648931d3"
      },
      "source": [
        "![Picture1.png](attachment:Picture1.png)"
      ]
    },
    {
      "cell_type": "markdown",
      "id": "66b70271",
      "metadata": {
        "id": "66b70271"
      },
      "source": [
        "In the first image (A), it represents a blueprint of a house that can be considered as Class.\n",
        "\n",
        "With the same blueprint, we can create several houses and these can be considered as Objects.\n"
      ]
    },
    {
      "cell_type": "code",
      "execution_count": null,
      "id": "dc0a2eeb",
      "metadata": {
        "id": "dc0a2eeb"
      },
      "outputs": [],
      "source": [
        "# Example of class\n",
        "class A: # Making a class\n",
        "    x=10 # Making a class variable"
      ]
    },
    {
      "cell_type": "markdown",
      "id": "350b1948",
      "metadata": {
        "id": "350b1948"
      },
      "source": [
        "## Object"
      ]
    },
    {
      "cell_type": "markdown",
      "id": "b859c74a",
      "metadata": {
        "id": "b859c74a"
      },
      "source": [
        "![Picture1.png](attachment:Picture1.png)"
      ]
    },
    {
      "cell_type": "markdown",
      "id": "cd57a3e3",
      "metadata": {
        "id": "cd57a3e3"
      },
      "source": [
        "- In the first image (A), it represents a blueprint of a house that can be considered as Class.\n",
        "- And In the second image (B), it represents the House which means we can create a several several objects (Houses) with in the same blueprint (Class)"
      ]
    },
    {
      "cell_type": "code",
      "execution_count": null,
      "id": "deb086dc",
      "metadata": {
        "id": "deb086dc",
        "outputId": "dcf8c8ec-b657-46a3-e926-173c91b08a6d"
      },
      "outputs": [
        {
          "name": "stdout",
          "output_type": "stream",
          "text": [
            "my name is Deepanshu my age is 25 my hobby is programming\n"
          ]
        }
      ],
      "source": [
        "class Person:\n",
        "    def __init__(self,name,age):\n",
        "        self.name=name\n",
        "        self.age=age\n",
        "    def info(self,hobby): # method\n",
        "        print('my name is',self.name,'my age is',self.age,'my hobby is',hobby)\n",
        "L=Person('Deepanshu',25)\n",
        "L.info('programming')"
      ]
    },
    {
      "cell_type": "code",
      "execution_count": null,
      "id": "137b160f",
      "metadata": {
        "scrolled": true,
        "id": "137b160f",
        "outputId": "2f121014-c320-4cdd-bf6e-d3f2a70f28f4"
      },
      "outputs": [
        {
          "name": "stdout",
          "output_type": "stream",
          "text": [
            "My name is deepanshu amd my age is 22 my hooby is music\n"
          ]
        }
      ],
      "source": [
        "class Person: # class name\n",
        "    def __init__(self,name,age): # here 1st parameeter in constructor is pointer\n",
        "        self.name=name # instance variables\n",
        "        self.age=age\n",
        "    def info(self,hobby): # method\n",
        "        print('My name is',self.name,'amd my age is',self.age,'my hooby is',hobby)\n",
        "\n",
        "ob1=Person('deepanshu',22) # here ob1 is my object\n",
        "ob1.info('music')\n"
      ]
    },
    {
      "cell_type": "markdown",
      "id": "7f0bcb47",
      "metadata": {
        "id": "7f0bcb47"
      },
      "source": [
        "## Oop's properties"
      ]
    },
    {
      "cell_type": "markdown",
      "id": "2841ae8b",
      "metadata": {
        "id": "2841ae8b"
      },
      "source": [
        "- Inheritance\n",
        "- Encapsulation\n",
        "- polymmorphism\n",
        "- Abstraction"
      ]
    },
    {
      "cell_type": "markdown",
      "id": "485af4c2",
      "metadata": {
        "id": "485af4c2"
      },
      "source": [
        "## Inheritance"
      ]
    },
    {
      "cell_type": "markdown",
      "id": "00486171",
      "metadata": {
        "id": "00486171"
      },
      "source": [
        "Inheritance is the property in which one class inherits the attributes and methods of another class. whose properties and methods are inherited is known as Parent class. And the class that inherits the properties from the parent class is the Child class."
      ]
    },
    {
      "cell_type": "markdown",
      "id": "0714db96",
      "metadata": {
        "id": "0714db96"
      },
      "source": [
        "![Capture.PNG](attachment:Capture.PNG)\n",
        "\n",
        "In this above diagram we can see that Class B inherits the Class AIn this above diagram we can see that Class B inherits the Class A"
      ]
    },
    {
      "cell_type": "markdown",
      "id": "722034c9",
      "metadata": {
        "id": "722034c9"
      },
      "source": [
        "It also allows programmer to write better code. Using inheritance you can inherit all access data fields and methods, plus you can add your own methods and fields, thus inheritance provide a way to organize code, rather than rewriting it from scratch."
      ]
    },
    {
      "cell_type": "markdown",
      "id": "4752cc3a",
      "metadata": {
        "id": "4752cc3a"
      },
      "source": [
        "![Capture.1PNG.PNG](attachment:Capture.1PNG.PNG)"
      ]
    },
    {
      "cell_type": "code",
      "execution_count": null,
      "id": "445862f1",
      "metadata": {
        "id": "445862f1"
      },
      "outputs": [],
      "source": [
        "- single inheritance\n",
        "- multiple inheritance\n",
        "- multi level inheritance\n",
        "- Hierarchiel ineritance\n",
        "- Hybrid inheritance"
      ]
    },
    {
      "cell_type": "code",
      "execution_count": null,
      "id": "31c65b54",
      "metadata": {
        "id": "31c65b54"
      },
      "outputs": [],
      "source": [
        "class Animals: # Parent class or Base class\n",
        "    def __init__(self):\n",
        "        print(' i am a praent class constructor')\n",
        "        self.legs=int(input('enter legs '))\n",
        "\n",
        "    def iswild(self):\n",
        "        print('i am a parent class method')\n",
        "        print('Wild animlas has',self.legs)\n",
        "\n",
        "class Lion(Animals): # child class or Derived class\n",
        "    def __init__(self,country):\n",
        "        print('i am a child class constructor')\n",
        "        self.country=country\n",
        "        super().__init__()\n",
        "\n",
        "    def address(self):\n",
        "        print('i am a child class method')\n",
        "        print('Lion origin is',self.country)\n",
        "        super().iswild()\n",
        "\n"
      ]
    },
    {
      "cell_type": "code",
      "execution_count": null,
      "id": "b17f2b35",
      "metadata": {
        "id": "b17f2b35",
        "outputId": "c35352ad-e497-4f4f-8fc4-5ba39630e267"
      },
      "outputs": [
        {
          "name": "stdout",
          "output_type": "stream",
          "text": [
            "i am a child class constructor\n",
            " i am a praent class constructor\n",
            "enter legs 4\n"
          ]
        }
      ],
      "source": [
        "li=Lion('Africa')"
      ]
    },
    {
      "cell_type": "code",
      "execution_count": null,
      "id": "b5202874",
      "metadata": {
        "id": "b5202874",
        "outputId": "70442742-429a-4d08-e0ad-200e886de033"
      },
      "outputs": [
        {
          "name": "stdout",
          "output_type": "stream",
          "text": [
            "i am a child class method\n",
            "Lion origin is Africa\n",
            "i am a parent class method\n",
            "Wild animlas has 4\n"
          ]
        }
      ],
      "source": [
        "li.address()"
      ]
    },
    {
      "cell_type": "code",
      "execution_count": null,
      "id": "2d0ae746",
      "metadata": {
        "id": "2d0ae746"
      },
      "outputs": [],
      "source": []
    },
    {
      "cell_type": "code",
      "execution_count": null,
      "id": "cea3304d",
      "metadata": {
        "id": "cea3304d"
      },
      "outputs": [],
      "source": []
    },
    {
      "cell_type": "code",
      "execution_count": null,
      "id": "731b5a5e",
      "metadata": {
        "id": "731b5a5e"
      },
      "outputs": [],
      "source": []
    },
    {
      "cell_type": "code",
      "execution_count": null,
      "id": "0eac417a",
      "metadata": {
        "id": "0eac417a"
      },
      "outputs": [],
      "source": []
    },
    {
      "cell_type": "code",
      "execution_count": null,
      "id": "43f12074",
      "metadata": {
        "id": "43f12074"
      },
      "outputs": [],
      "source": []
    },
    {
      "cell_type": "code",
      "execution_count": null,
      "id": "f77f1b5f",
      "metadata": {
        "id": "f77f1b5f"
      },
      "outputs": [],
      "source": [
        "class Animals: # Parent or Base class\n",
        "    def __init__(self):\n",
        "        print(' i am a parent class constructor')\n",
        "        self.legs=int(input('enter legs '))\n",
        "        self.iswild=True\n",
        "\n",
        "\n",
        "    def wild(self):\n",
        "        if self.iswild:\n",
        "            print(' i am a parent class method')\n",
        "            print('wild anaimal has',self.legs,'legs')\n",
        "\n",
        "\n",
        "\n",
        "class Lion(Animals): # child class or Derived class\n",
        "    def __init__(self,country):\n",
        "        self.country=country\n",
        "        print('i am child class constuctor')\n",
        "        super().__init__() # to acces the parent class contructor\n",
        "\n",
        "    def carnivores(self):\n",
        "        print('i am child class method')\n",
        "        print('Lion origin is',self.country)\n",
        "        super().wild() # to acces the parent class method\n",
        "\n",
        "\n",
        ""
      ]
    },
    {
      "cell_type": "code",
      "execution_count": null,
      "id": "01164e5f",
      "metadata": {
        "id": "01164e5f",
        "outputId": "2ca9467b-50aa-42be-aa08-ac14bfbac7a5"
      },
      "outputs": [
        {
          "name": "stdout",
          "output_type": "stream",
          "text": [
            "i am child class constuctor\n",
            " i am a parent class constructor\n",
            "enter legs 4\n"
          ]
        }
      ],
      "source": [
        "Li=Lion('Asia')"
      ]
    },
    {
      "cell_type": "code",
      "execution_count": null,
      "id": "f221b5e9",
      "metadata": {
        "id": "f221b5e9",
        "outputId": "1847dcb7-adeb-4048-c867-f1a8979c449d"
      },
      "outputs": [
        {
          "name": "stdout",
          "output_type": "stream",
          "text": [
            "i am child class method\n",
            "Lion origin is Asia\n",
            " i am a parent class method\n",
            "wild anaimal has 4 legs\n"
          ]
        }
      ],
      "source": [
        "Li.carnivores()"
      ]
    },
    {
      "cell_type": "markdown",
      "id": "4ff4d119",
      "metadata": {
        "id": "4ff4d119"
      },
      "source": [
        "## Encapsulation"
      ]
    },
    {
      "cell_type": "markdown",
      "id": "734eb850",
      "metadata": {
        "id": "734eb850"
      },
      "source": [
        "![Capture2.PNG](attachment:Capture2.PNG)"
      ]
    },
    {
      "cell_type": "markdown",
      "id": "287f9acd",
      "metadata": {
        "id": "287f9acd"
      },
      "source": [
        "Encapsulation in python is a process of wrapping code and data together into a single unit. which means it is a way to ensure security. Basically it hides the variable from the access outsider's by using single_(underscore) before the variable name to make it protected and __(double underscore) before the variable to make it private"
      ]
    },
    {
      "cell_type": "markdown",
      "id": "949381c8",
      "metadata": {
        "id": "949381c8"
      },
      "source": [
        "**In Object-Oriented Programming (OOP), protected variables are a type of class variable designed to allow limited access and control.**"
      ]
    },
    {
      "cell_type": "markdown",
      "id": "33d9f204",
      "metadata": {
        "id": "33d9f204"
      },
      "source": [
        "Let's say you’re building a bank account class:\n",
        "\n",
        "- You have a balance (the protected variable) that should not be changed directly by people outside the class.\n",
        "- The balance can be changed only in special ways, like through a deposit or withdraw method. This ensures the balance stays safe and follows certain rules"
      ]
    },
    {
      "cell_type": "code",
      "execution_count": null,
      "id": "d8ca91c6",
      "metadata": {
        "id": "d8ca91c6"
      },
      "outputs": [],
      "source": [
        "class Bank:\n",
        "    def __init__(self,bal,depo,With):\n",
        "        self._bal=bal # protected var\n",
        "        self.depo=depo # public\n",
        "        self.__With=With # private\n",
        "    def action(self) :\n",
        "        print('my balance is',self._bal)\n",
        "        print('i want to deposit',self.depo)\n",
        "        print('i want ot wothdrael',self.__With)"
      ]
    },
    {
      "cell_type": "code",
      "execution_count": null,
      "id": "45ff649c",
      "metadata": {
        "id": "45ff649c",
        "outputId": "b6e97822-0704-4ea9-cd09-01c969622037"
      },
      "outputs": [
        {
          "name": "stdout",
          "output_type": "stream",
          "text": [
            "my balance is 1000\n",
            "i want to deposit 3\n",
            "i want ot wothdrael 500\n"
          ]
        }
      ],
      "source": [
        "SBI=Bank(1000,3,500)\n",
        "SBI.action()"
      ]
    },
    {
      "cell_type": "code",
      "execution_count": null,
      "id": "42f58c9b-0fc8-482f-bf72-dfd48f1902bd",
      "metadata": {
        "id": "42f58c9b-0fc8-482f-bf72-dfd48f1902bd"
      },
      "outputs": [],
      "source": [
        "#dir(SBI)"
      ]
    },
    {
      "cell_type": "code",
      "execution_count": null,
      "id": "5085a92f-69c0-4e5e-87f4-ea1306365a02",
      "metadata": {
        "id": "5085a92f-69c0-4e5e-87f4-ea1306365a02",
        "outputId": "f95c31a2-d08f-4c3a-8c0a-2b63e0137fa1"
      },
      "outputs": [
        {
          "data": {
            "text/plain": [
              "1000"
            ]
          },
          "execution_count": 20,
          "metadata": {},
          "output_type": "execute_result"
        }
      ],
      "source": [
        "SBI._bal"
      ]
    },
    {
      "cell_type": "code",
      "execution_count": null,
      "id": "aab05749-11ac-440c-9dbb-6131b216de07",
      "metadata": {
        "id": "aab05749-11ac-440c-9dbb-6131b216de07",
        "outputId": "0b68364c-978e-4d63-f4f9-1d2b8b2da9f1"
      },
      "outputs": [
        {
          "data": {
            "text/plain": [
              "3"
            ]
          },
          "execution_count": 22,
          "metadata": {},
          "output_type": "execute_result"
        }
      ],
      "source": [
        "SBI.depo"
      ]
    },
    {
      "cell_type": "code",
      "execution_count": null,
      "id": "b25b5436-b915-4b26-9bb8-bfcc05176e05",
      "metadata": {
        "id": "b25b5436-b915-4b26-9bb8-bfcc05176e05",
        "outputId": "a5ce356a-5daf-46be-82fe-199fa3a7b099"
      },
      "outputs": [
        {
          "ename": "AttributeError",
          "evalue": "'Bank' object has no attribute '__With'",
          "output_type": "error",
          "traceback": [
            "\u001b[1;31m---------------------------------------------------------------------------\u001b[0m",
            "\u001b[1;31mAttributeError\u001b[0m                            Traceback (most recent call last)",
            "Cell \u001b[1;32mIn[24], line 1\u001b[0m\n\u001b[1;32m----> 1\u001b[0m SBI\u001b[38;5;241m.\u001b[39m__With\n",
            "\u001b[1;31mAttributeError\u001b[0m: 'Bank' object has no attribute '__With'"
          ]
        }
      ],
      "source": [
        "SBI.__With"
      ]
    },
    {
      "cell_type": "code",
      "execution_count": null,
      "id": "9c468284-e434-4c2b-8e49-fe42db1a895a",
      "metadata": {
        "id": "9c468284-e434-4c2b-8e49-fe42db1a895a"
      },
      "outputs": [],
      "source": []
    },
    {
      "cell_type": "code",
      "execution_count": null,
      "id": "8bb51a54-2938-4071-920a-8d7519a8dcd8",
      "metadata": {
        "id": "8bb51a54-2938-4071-920a-8d7519a8dcd8"
      },
      "outputs": [],
      "source": []
    },
    {
      "cell_type": "code",
      "execution_count": null,
      "id": "5d76bfd5-e974-4117-8509-7363c3da7b53",
      "metadata": {
        "id": "5d76bfd5-e974-4117-8509-7363c3da7b53"
      },
      "outputs": [],
      "source": []
    },
    {
      "cell_type": "code",
      "execution_count": null,
      "id": "c2f10b26-cc4a-4faf-a6e7-e24cf8c2a72b",
      "metadata": {
        "id": "c2f10b26-cc4a-4faf-a6e7-e24cf8c2a72b"
      },
      "outputs": [],
      "source": []
    },
    {
      "cell_type": "code",
      "execution_count": null,
      "id": "271f4ef8",
      "metadata": {
        "id": "271f4ef8",
        "outputId": "7e283231-c3a6-458d-9acc-c766d1601cb3"
      },
      "outputs": [
        {
          "name": "stdout",
          "output_type": "stream",
          "text": [
            "1000\n",
            "3\n"
          ]
        }
      ],
      "source": [
        "print(SBI._bal)\n",
        "print(SBI.depo)"
      ]
    },
    {
      "cell_type": "code",
      "execution_count": null,
      "id": "28f33a25",
      "metadata": {
        "id": "28f33a25",
        "outputId": "53c34aa7-b6d6-446e-d7cb-56407c5db854"
      },
      "outputs": [
        {
          "ename": "AttributeError",
          "evalue": "'Bank' object has no attribute '__With'",
          "output_type": "error",
          "traceback": [
            "\u001b[1;31m---------------------------------------------------------------------------\u001b[0m",
            "\u001b[1;31mAttributeError\u001b[0m                            Traceback (most recent call last)",
            "Cell \u001b[1;32mIn[37], line 1\u001b[0m\n\u001b[1;32m----> 1\u001b[0m \u001b[38;5;28mprint\u001b[39m(\u001b[43mSBI\u001b[49m\u001b[38;5;241;43m.\u001b[39;49m\u001b[43m__With\u001b[49m)\n",
            "\u001b[1;31mAttributeError\u001b[0m: 'Bank' object has no attribute '__With'"
          ]
        }
      ],
      "source": [
        "print(SBI.__With)"
      ]
    },
    {
      "cell_type": "markdown",
      "id": "24e13b3d",
      "metadata": {
        "id": "24e13b3d"
      },
      "source": [
        "## Polymorphism"
      ]
    },
    {
      "cell_type": "markdown",
      "id": "bce1fff6",
      "metadata": {
        "id": "bce1fff6"
      },
      "source": [
        "The word Poly mean's many and morph mean's form.Which means Polymorphism is the ability of any data to be processed in more than one form."
      ]
    },
    {
      "cell_type": "markdown",
      "id": "d57eb9eb",
      "metadata": {
        "id": "d57eb9eb"
      },
      "source": [
        "### Example\n",
        "- A Teacher can take a form of Sport Teacher or Language Teacher and in both the forms it has the same functionality Teach, but the implementation of Teach varies in both the objects."
      ]
    },
    {
      "cell_type": "code",
      "execution_count": null,
      "id": "b3b4d73b",
      "metadata": {
        "id": "b3b4d73b"
      },
      "outputs": [],
      "source": [
        "class Tomato:\n",
        "\n",
        "    def category(self):\n",
        "        print(\"Vegetable\")\n",
        "    def color(self):\n",
        "        print(\"orange\")\n",
        "\n",
        "\n",
        "class Apple:\n",
        "    def category(self):\n",
        "        print(\"Fruit\")\n",
        "    def color(self):\n",
        "        print(\"Red\")\n",
        "\n",
        "tom=Tomato()\n",
        "app=Apple()\n",
        "\n",
        ""
      ]
    },
    {
      "cell_type": "code",
      "execution_count": null,
      "id": "bfce4ece",
      "metadata": {
        "id": "bfce4ece",
        "outputId": "1e2329d0-2fd0-4ac3-d220-739bfa7633a7"
      },
      "outputs": [
        {
          "name": "stdout",
          "output_type": "stream",
          "text": [
            "Vegetable\n",
            "orange\n"
          ]
        }
      ],
      "source": [
        "tom.category()\n",
        "tom.color()"
      ]
    },
    {
      "cell_type": "code",
      "execution_count": null,
      "id": "814c0829",
      "metadata": {
        "id": "814c0829",
        "outputId": "bc11dceb-3cac-49f5-c959-f4577d980874"
      },
      "outputs": [
        {
          "name": "stdout",
          "output_type": "stream",
          "text": [
            "Fruit\n",
            "Red\n"
          ]
        }
      ],
      "source": [
        "app.category()\n",
        "app.color()"
      ]
    },
    {
      "cell_type": "code",
      "execution_count": null,
      "id": "c8a86fc9-d802-453f-a5f7-807e0dcdbdb3",
      "metadata": {
        "id": "c8a86fc9-d802-453f-a5f7-807e0dcdbdb3",
        "outputId": "f562d329-f59d-4207-f049-ce7756bfaacf"
      },
      "outputs": [
        {
          "data": {
            "text/plain": [
              "1"
            ]
          },
          "execution_count": 6,
          "metadata": {},
          "output_type": "execute_result"
        }
      ],
      "source": [
        "t=('d','a','b','c')\n",
        "t.index('a')"
      ]
    },
    {
      "cell_type": "code",
      "execution_count": null,
      "id": "58fa4858-6ee0-4eb0-8793-509000019bd8",
      "metadata": {
        "id": "58fa4858-6ee0-4eb0-8793-509000019bd8",
        "outputId": "d1fadb39-d3cf-470d-c197-117c00ef9144"
      },
      "outputs": [
        {
          "data": {
            "text/plain": [
              "1"
            ]
          },
          "execution_count": 8,
          "metadata": {},
          "output_type": "execute_result"
        }
      ],
      "source": [
        "l=['d','a','b','c']\n",
        "l.index('a')"
      ]
    },
    {
      "cell_type": "code",
      "execution_count": null,
      "id": "28cddcdc-0d4c-40fe-9a73-e35d4e94340f",
      "metadata": {
        "id": "28cddcdc-0d4c-40fe-9a73-e35d4e94340f",
        "outputId": "13da5bb7-32bb-4942-a643-c02beabbc28b"
      },
      "outputs": [
        {
          "data": {
            "text/plain": [
              "1"
            ]
          },
          "execution_count": 9,
          "metadata": {},
          "output_type": "execute_result"
        }
      ],
      "source": [
        "s='abcds'\n",
        "s.index('b')"
      ]
    },
    {
      "cell_type": "code",
      "execution_count": null,
      "id": "016f65d2-25ed-4276-b0d6-3b12c9daaaf3",
      "metadata": {
        "id": "016f65d2-25ed-4276-b0d6-3b12c9daaaf3"
      },
      "outputs": [],
      "source": []
    },
    {
      "cell_type": "code",
      "execution_count": null,
      "id": "cb68c15a-e1e8-49d5-b553-fee0b34beb53",
      "metadata": {
        "id": "cb68c15a-e1e8-49d5-b553-fee0b34beb53"
      },
      "outputs": [],
      "source": []
    },
    {
      "cell_type": "code",
      "execution_count": null,
      "id": "e62b2d6f-119d-48ef-bdf8-d82fc6ea6844",
      "metadata": {
        "id": "e62b2d6f-119d-48ef-bdf8-d82fc6ea6844"
      },
      "outputs": [],
      "source": []
    },
    {
      "cell_type": "code",
      "execution_count": null,
      "id": "6d377335-26f0-467d-a1f2-b4b1246e8256",
      "metadata": {
        "id": "6d377335-26f0-467d-a1f2-b4b1246e8256"
      },
      "outputs": [],
      "source": []
    },
    {
      "cell_type": "code",
      "execution_count": null,
      "id": "a2b0620c-a1be-4506-9d81-9773c481a3fd",
      "metadata": {
        "id": "a2b0620c-a1be-4506-9d81-9773c481a3fd"
      },
      "outputs": [],
      "source": []
    },
    {
      "cell_type": "code",
      "execution_count": null,
      "id": "fc02866a-0cb0-463c-a76d-0341ccdd360e",
      "metadata": {
        "id": "fc02866a-0cb0-463c-a76d-0341ccdd360e"
      },
      "outputs": [],
      "source": []
    },
    {
      "cell_type": "code",
      "execution_count": null,
      "id": "67fe3fb3-5c99-4572-a83b-4b75e992b58c",
      "metadata": {
        "id": "67fe3fb3-5c99-4572-a83b-4b75e992b58c"
      },
      "outputs": [],
      "source": []
    },
    {
      "cell_type": "code",
      "execution_count": null,
      "id": "889598c2-f39c-40c2-ac21-3bb5f51303a5",
      "metadata": {
        "id": "889598c2-f39c-40c2-ac21-3bb5f51303a5",
        "outputId": "6aa872c4-4a2b-47cd-b721-35adadbd6c5a"
      },
      "outputs": [
        {
          "name": "stdout",
          "output_type": "stream",
          "text": [
            "1\n"
          ]
        }
      ],
      "source": [
        "s='ice'\n",
        "print(s.index('c'))"
      ]
    },
    {
      "cell_type": "code",
      "execution_count": null,
      "id": "d6522d64-a1e0-4261-adbc-c5a5531ef692",
      "metadata": {
        "id": "d6522d64-a1e0-4261-adbc-c5a5531ef692",
        "outputId": "cb21ee28-a1e0-40d7-a117-7902e6f7a07f"
      },
      "outputs": [
        {
          "name": "stdout",
          "output_type": "stream",
          "text": [
            "1\n"
          ]
        }
      ],
      "source": [
        "L=['i','c','e']\n",
        "print(L.index('c'))"
      ]
    },
    {
      "cell_type": "code",
      "execution_count": null,
      "id": "844341a2-cec2-4a38-af7d-c7f5fa724d0e",
      "metadata": {
        "id": "844341a2-cec2-4a38-af7d-c7f5fa724d0e",
        "outputId": "918e1e32-c942-4dae-a7f4-3b5f5aedbe3b"
      },
      "outputs": [
        {
          "name": "stdout",
          "output_type": "stream",
          "text": [
            "1\n"
          ]
        }
      ],
      "source": [
        "t=('i','c','e')\n",
        "print(t.index('c'))"
      ]
    },
    {
      "cell_type": "code",
      "execution_count": null,
      "id": "f2773267-a401-4d0a-945d-5ae4f60eae38",
      "metadata": {
        "id": "f2773267-a401-4d0a-945d-5ae4f60eae38"
      },
      "outputs": [],
      "source": []
    },
    {
      "cell_type": "code",
      "execution_count": null,
      "id": "17ca4467-d4d7-49ec-8337-7a64917c684b",
      "metadata": {
        "id": "17ca4467-d4d7-49ec-8337-7a64917c684b"
      },
      "outputs": [],
      "source": []
    },
    {
      "cell_type": "code",
      "execution_count": null,
      "id": "dea2e8df-3c06-438e-bea2-76fbccfaffce",
      "metadata": {
        "id": "dea2e8df-3c06-438e-bea2-76fbccfaffce"
      },
      "outputs": [],
      "source": []
    },
    {
      "cell_type": "code",
      "execution_count": null,
      "id": "ccc38653-f3dc-471f-b395-05a64c74d794",
      "metadata": {
        "id": "ccc38653-f3dc-471f-b395-05a64c74d794"
      },
      "outputs": [],
      "source": []
    },
    {
      "cell_type": "code",
      "execution_count": null,
      "id": "b7063147-2c81-4a37-bf9d-115f1c2bb505",
      "metadata": {
        "id": "b7063147-2c81-4a37-bf9d-115f1c2bb505"
      },
      "outputs": [],
      "source": []
    },
    {
      "cell_type": "code",
      "execution_count": null,
      "id": "d1add4e2",
      "metadata": {
        "id": "d1add4e2"
      },
      "outputs": [],
      "source": []
    },
    {
      "cell_type": "code",
      "execution_count": null,
      "id": "82f0d505",
      "metadata": {
        "id": "82f0d505",
        "outputId": "fc288f0e-88c0-4714-d1ac-d8a922f11a3e"
      },
      "outputs": [
        {
          "name": "stdout",
          "output_type": "stream",
          "text": [
            "Vegetable\n",
            "orange\n",
            "Fruit\n",
            "Red\n"
          ]
        }
      ],
      "source": [
        "for i in (tom,app):\n",
        "    i.category()\n",
        "    i.color()"
      ]
    },
    {
      "cell_type": "code",
      "execution_count": null,
      "id": "ddf1f4d7",
      "metadata": {
        "id": "ddf1f4d7"
      },
      "outputs": [],
      "source": []
    },
    {
      "cell_type": "markdown",
      "id": "b8eb80ee",
      "metadata": {
        "id": "b8eb80ee"
      },
      "source": [
        "### Ploymorphism with inheritance"
      ]
    },
    {
      "cell_type": "markdown",
      "id": "8ea59274",
      "metadata": {
        "id": "8ea59274"
      },
      "source": [
        "## Abstraction"
      ]
    },
    {
      "cell_type": "markdown",
      "id": "6de4e8a8",
      "metadata": {
        "id": "6de4e8a8"
      },
      "source": [
        "![Capture3.PNG](attachment:Capture3.PNG)"
      ]
    },
    {
      "cell_type": "markdown",
      "id": "f2b682ff",
      "metadata": {
        "id": "f2b682ff"
      },
      "source": [
        "Abstraction in python is defined as a process of handling complexity by hiding unnecessary details from the user. which means we hides the internal functionality of the function from the users or we can say that we just hides the class from abstraction method"
      ]
    },
    {
      "cell_type": "code",
      "execution_count": null,
      "id": "ae2e2443",
      "metadata": {
        "id": "ae2e2443"
      },
      "outputs": [],
      "source": [
        "# By abstraction we hide the abstract class"
      ]
    },
    {
      "cell_type": "code",
      "execution_count": null,
      "id": "170fdd13-93fa-49d6-bf25-3f3cb4002e77",
      "metadata": {
        "id": "170fdd13-93fa-49d6-bf25-3f3cb4002e77"
      },
      "outputs": [],
      "source": [
        "from abc import ABC, abstractmethod\n",
        "\n",
        "class BankApp(ABC):\n",
        "\n",
        "    def database(self):\n",
        "        print('Connected to the database')\n",
        "\n",
        "\n",
        "    @abstractmethod\n",
        "    def security(self):\n",
        "        pass\n",
        "\n",
        "\n",
        "\n"
      ]
    },
    {
      "cell_type": "code",
      "execution_count": null,
      "id": "daa36dd9-d1af-42b3-8ce0-e9547e259606",
      "metadata": {
        "id": "daa36dd9-d1af-42b3-8ce0-e9547e259606"
      },
      "outputs": [],
      "source": [
        "class MobileApp(BankApp):\n",
        "    def login(self):\n",
        "        print('login to mobile')\n",
        "\n",
        "\n",
        "    def security(self):\n",
        "        print('mobile security')"
      ]
    },
    {
      "cell_type": "code",
      "execution_count": null,
      "id": "3fb0b54b-046e-45eb-98a0-222f41c73119",
      "metadata": {
        "id": "3fb0b54b-046e-45eb-98a0-222f41c73119"
      },
      "outputs": [],
      "source": [
        "ma=MobileApp()"
      ]
    },
    {
      "cell_type": "code",
      "execution_count": null,
      "id": "a474d3c7-da7a-4a06-a4f0-ea0818698ba6",
      "metadata": {
        "id": "a474d3c7-da7a-4a06-a4f0-ea0818698ba6",
        "outputId": "0fbc41ae-7e87-4b50-df87-28247cbc53b1"
      },
      "outputs": [
        {
          "ename": "TypeError",
          "evalue": "Can't instantiate abstract class BankApp without an implementation for abstract method 'security'",
          "output_type": "error",
          "traceback": [
            "\u001b[1;31m---------------------------------------------------------------------------\u001b[0m",
            "\u001b[1;31mTypeError\u001b[0m                                 Traceback (most recent call last)",
            "Cell \u001b[1;32mIn[20], line 1\u001b[0m\n\u001b[1;32m----> 1\u001b[0m bA\u001b[38;5;241m=\u001b[39mBankApp()\n",
            "\u001b[1;31mTypeError\u001b[0m: Can't instantiate abstract class BankApp without an implementation for abstract method 'security'"
          ]
        }
      ],
      "source": [
        "bA=BankApp()"
      ]
    },
    {
      "cell_type": "code",
      "execution_count": null,
      "id": "c72ee4fd-f673-4056-b0c9-a3aa45a16c6f",
      "metadata": {
        "id": "c72ee4fd-f673-4056-b0c9-a3aa45a16c6f"
      },
      "outputs": [],
      "source": []
    },
    {
      "cell_type": "code",
      "execution_count": null,
      "id": "1724e585-568b-4862-8285-5d7c806f6865",
      "metadata": {
        "id": "1724e585-568b-4862-8285-5d7c806f6865"
      },
      "outputs": [],
      "source": []
    },
    {
      "cell_type": "code",
      "execution_count": null,
      "id": "e3e23b6f-f16f-4a31-be06-b9a33328aba3",
      "metadata": {
        "id": "e3e23b6f-f16f-4a31-be06-b9a33328aba3"
      },
      "outputs": [],
      "source": []
    },
    {
      "cell_type": "code",
      "execution_count": null,
      "id": "25e46f17-14cd-4bf7-98ee-7e77114d67fc",
      "metadata": {
        "id": "25e46f17-14cd-4bf7-98ee-7e77114d67fc"
      },
      "outputs": [],
      "source": []
    },
    {
      "cell_type": "code",
      "execution_count": null,
      "id": "027e5194",
      "metadata": {
        "id": "027e5194"
      },
      "outputs": [],
      "source": [
        "class shape: # parent class\n",
        "    def area(self):\n",
        "        pass\n",
        "    def perimeter(self):\n",
        "        pass\n",
        ""
      ]
    },
    {
      "cell_type": "code",
      "execution_count": null,
      "id": "25bec4c5",
      "metadata": {
        "id": "25bec4c5"
      },
      "outputs": [],
      "source": [
        "class square(shape): # child class\n",
        "    def __init__(self,s):\n",
        "        self.side=s\n",
        ""
      ]
    },
    {
      "cell_type": "code",
      "execution_count": null,
      "id": "4fbc5af3",
      "metadata": {
        "id": "4fbc5af3"
      },
      "outputs": [],
      "source": [
        "s=square(5)"
      ]
    },
    {
      "cell_type": "code",
      "execution_count": null,
      "id": "72c71f5d",
      "metadata": {
        "id": "72c71f5d"
      },
      "outputs": [],
      "source": [
        "sh=shape()"
      ]
    },
    {
      "cell_type": "code",
      "execution_count": null,
      "id": "43c8bf75",
      "metadata": {
        "id": "43c8bf75"
      },
      "outputs": [],
      "source": [
        "## Using the abstraction"
      ]
    },
    {
      "cell_type": "code",
      "execution_count": null,
      "id": "c66922c0",
      "metadata": {
        "id": "c66922c0"
      },
      "outputs": [],
      "source": [
        "## for using the abstract method of parent class we have to"
      ]
    },
    {
      "cell_type": "code",
      "execution_count": null,
      "id": "3ee537dc",
      "metadata": {
        "id": "3ee537dc"
      },
      "outputs": [],
      "source": [
        "from abc import ABC, abstractmethod # Abstract base class\n",
        "class shape(ABC):\n",
        "    def __init__(self):\n",
        "        print(' i am a parent class const')\n",
        "\n",
        "    @abstractmethod\n",
        "    def area(self):\n",
        "        pass\n",
        "        #print('it is a area method')\n",
        "    @abstractmethod\n",
        "    def perimeter(self):\n",
        "        pass\n",
        "\n",
        "        #print('it is a perimeter method')\n",
        "\n",
        "class square(shape):\n",
        "    def __init__(self,s):\n",
        "        self.side=s\n",
        "\n",
        "    def area(self):\n",
        "        return self.side*self.side\n",
        "    def perimeter(self):\n",
        "        return 4*self.side\n",
        "\n",
        "    def display(self):\n",
        "\n",
        "        print('hii')"
      ]
    },
    {
      "cell_type": "code",
      "execution_count": null,
      "id": "7837c8ce-58c8-409a-bc51-94928d005887",
      "metadata": {
        "id": "7837c8ce-58c8-409a-bc51-94928d005887",
        "outputId": "ac8ff64e-84d4-4a04-ac09-774aabbe130c"
      },
      "outputs": [
        {
          "ename": "TypeError",
          "evalue": "Can't instantiate abstract class shape without an implementation for abstract methods 'area', 'perimeter'",
          "output_type": "error",
          "traceback": [
            "\u001b[1;31m---------------------------------------------------------------------------\u001b[0m",
            "\u001b[1;31mTypeError\u001b[0m                                 Traceback (most recent call last)",
            "Cell \u001b[1;32mIn[15], line 1\u001b[0m\n\u001b[1;32m----> 1\u001b[0m s\u001b[38;5;241m=\u001b[39mshape()\n",
            "\u001b[1;31mTypeError\u001b[0m: Can't instantiate abstract class shape without an implementation for abstract methods 'area', 'perimeter'"
          ]
        }
      ],
      "source": [
        "s=shape()"
      ]
    },
    {
      "cell_type": "code",
      "execution_count": null,
      "id": "fc4cb7bb",
      "metadata": {
        "id": "fc4cb7bb",
        "outputId": "47734fdf-939b-4316-9f0a-caf0cfb72ae2"
      },
      "outputs": [
        {
          "data": {
            "text/plain": [
              "16"
            ]
          },
          "execution_count": 16,
          "metadata": {},
          "output_type": "execute_result"
        }
      ],
      "source": [
        "sq=square(4)\n",
        "sq.area()\n"
      ]
    },
    {
      "cell_type": "code",
      "execution_count": null,
      "id": "9f03ba02-0639-4ec7-9950-3d1439087f3c",
      "metadata": {
        "id": "9f03ba02-0639-4ec7-9950-3d1439087f3c",
        "outputId": "277319c9-0221-4944-bc89-62898e4d502b"
      },
      "outputs": [
        {
          "name": "stdout",
          "output_type": "stream",
          "text": [
            "hii\n"
          ]
        }
      ],
      "source": [
        "sq.display()"
      ]
    },
    {
      "cell_type": "code",
      "execution_count": null,
      "id": "ebcec211-2137-453c-acb3-3bc9640efae8",
      "metadata": {
        "id": "ebcec211-2137-453c-acb3-3bc9640efae8",
        "outputId": "47c86ae0-ba16-4a9c-f96b-ecbe8b6b0203"
      },
      "outputs": [
        {
          "data": {
            "text/plain": [
              "16"
            ]
          },
          "execution_count": 17,
          "metadata": {},
          "output_type": "execute_result"
        }
      ],
      "source": [
        "sq.perimeter()"
      ]
    },
    {
      "cell_type": "code",
      "execution_count": null,
      "id": "44b66d2f",
      "metadata": {
        "id": "44b66d2f",
        "outputId": "3556c9a1-1a48-4ab2-cb88-06345e740d41"
      },
      "outputs": [
        {
          "data": {
            "text/plain": [
              "16"
            ]
          },
          "execution_count": 16,
          "metadata": {},
          "output_type": "execute_result"
        }
      ],
      "source": [
        "sq.perimeter()"
      ]
    },
    {
      "cell_type": "code",
      "execution_count": null,
      "id": "9f4bce92",
      "metadata": {
        "id": "9f4bce92",
        "outputId": "e49faea1-3b2f-441e-fbac-a0b11832fc75"
      },
      "outputs": [
        {
          "ename": "TypeError",
          "evalue": "Can't instantiate abstract class shape without an implementation for abstract methods 'area', 'perimeter'",
          "output_type": "error",
          "traceback": [
            "\u001b[1;31m---------------------------------------------------------------------------\u001b[0m",
            "\u001b[1;31mTypeError\u001b[0m                                 Traceback (most recent call last)",
            "Cell \u001b[1;32mIn[23], line 1\u001b[0m\n\u001b[1;32m----> 1\u001b[0m sh\u001b[38;5;241m=\u001b[39mshape()\n",
            "\u001b[1;31mTypeError\u001b[0m: Can't instantiate abstract class shape without an implementation for abstract methods 'area', 'perimeter'"
          ]
        }
      ],
      "source": [
        "sh=shape()"
      ]
    },
    {
      "cell_type": "code",
      "execution_count": null,
      "id": "6abd1168",
      "metadata": {
        "id": "6abd1168",
        "outputId": "1d4414ef-a243-454b-f1b0-57bf904e350e"
      },
      "outputs": [
        {
          "ename": "TypeError",
          "evalue": "Can't instantiate abstract class shape without an implementation for abstract methods 'area', 'perimeter'",
          "output_type": "error",
          "traceback": [
            "\u001b[1;31m---------------------------------------------------------------------------\u001b[0m",
            "\u001b[1;31mTypeError\u001b[0m                                 Traceback (most recent call last)",
            "Cell \u001b[1;32mIn[5], line 1\u001b[0m\n\u001b[1;32m----> 1\u001b[0m sh\u001b[38;5;241m=\u001b[39mshape()\n",
            "\u001b[1;31mTypeError\u001b[0m: Can't instantiate abstract class shape without an implementation for abstract methods 'area', 'perimeter'"
          ]
        }
      ],
      "source": [
        "sh=shape()"
      ]
    },
    {
      "cell_type": "code",
      "execution_count": null,
      "id": "77b62603-fe44-4697-bc2f-b49096953fee",
      "metadata": {
        "id": "77b62603-fe44-4697-bc2f-b49096953fee",
        "outputId": "2896845c-64b3-4282-b80a-489594c9e964"
      },
      "outputs": [
        {
          "data": {
            "text/plain": [
              "['__abstractmethods__',\n",
              " '__class__',\n",
              " '__delattr__',\n",
              " '__dict__',\n",
              " '__dir__',\n",
              " '__doc__',\n",
              " '__eq__',\n",
              " '__format__',\n",
              " '__ge__',\n",
              " '__getattribute__',\n",
              " '__getstate__',\n",
              " '__gt__',\n",
              " '__hash__',\n",
              " '__init__',\n",
              " '__init_subclass__',\n",
              " '__le__',\n",
              " '__lt__',\n",
              " '__module__',\n",
              " '__ne__',\n",
              " '__new__',\n",
              " '__reduce__',\n",
              " '__reduce_ex__',\n",
              " '__repr__',\n",
              " '__setattr__',\n",
              " '__sizeof__',\n",
              " '__slots__',\n",
              " '__str__',\n",
              " '__subclasshook__',\n",
              " '__weakref__',\n",
              " '_abc_impl',\n",
              " 'area',\n",
              " 'perimeter',\n",
              " 'side']"
            ]
          },
          "execution_count": 72,
          "metadata": {},
          "output_type": "execute_result"
        }
      ],
      "source": [
        "dir(sq)"
      ]
    },
    {
      "cell_type": "code",
      "execution_count": null,
      "id": "96bf3806-eacb-463b-9567-286aaa66966c",
      "metadata": {
        "id": "96bf3806-eacb-463b-9567-286aaa66966c"
      },
      "outputs": [],
      "source": []
    },
    {
      "cell_type": "code",
      "execution_count": null,
      "id": "d29f539d-a506-463d-98f8-e3a0ee1fd427",
      "metadata": {
        "id": "d29f539d-a506-463d-98f8-e3a0ee1fd427"
      },
      "outputs": [],
      "source": []
    },
    {
      "cell_type": "code",
      "execution_count": null,
      "id": "bcf36c61-b440-4bb9-bb37-c46b792f5bd9",
      "metadata": {
        "id": "bcf36c61-b440-4bb9-bb37-c46b792f5bd9",
        "outputId": "a9405855-c13f-40b7-d818-7d6518ded671"
      },
      "outputs": [
        {
          "name": "stdout",
          "output_type": "stream",
          "text": [
            "3\n"
          ]
        }
      ],
      "source": [
        "s='ant'\n",
        "i=0\n",
        "while s[i:]:\n",
        "    i+=1\n",
        "print(i)\n"
      ]
    },
    {
      "cell_type": "code",
      "execution_count": null,
      "id": "10b37fe0-f54a-47b5-83db-fd48c67bd29d",
      "metadata": {
        "id": "10b37fe0-f54a-47b5-83db-fd48c67bd29d"
      },
      "outputs": [],
      "source": []
    },
    {
      "cell_type": "code",
      "execution_count": null,
      "id": "988bb645-8032-4b45-bbf3-78874a8f0786",
      "metadata": {
        "id": "988bb645-8032-4b45-bbf3-78874a8f0786"
      },
      "outputs": [],
      "source": []
    },
    {
      "cell_type": "code",
      "execution_count": null,
      "id": "24a152b2-df4e-42e1-8feb-7c58164de254",
      "metadata": {
        "id": "24a152b2-df4e-42e1-8feb-7c58164de254"
      },
      "outputs": [],
      "source": []
    },
    {
      "cell_type": "code",
      "execution_count": null,
      "id": "ffe36376-1ca7-45b2-a2e6-03a4b0659dde",
      "metadata": {
        "id": "ffe36376-1ca7-45b2-a2e6-03a4b0659dde"
      },
      "outputs": [],
      "source": []
    },
    {
      "cell_type": "code",
      "execution_count": null,
      "id": "0a278a6b-ffb5-4853-b88d-60de48b4cb28",
      "metadata": {
        "id": "0a278a6b-ffb5-4853-b88d-60de48b4cb28"
      },
      "outputs": [],
      "source": []
    },
    {
      "cell_type": "code",
      "execution_count": null,
      "id": "5cc338c8-dfbc-427d-80cc-63dad4ef083d",
      "metadata": {
        "id": "5cc338c8-dfbc-427d-80cc-63dad4ef083d"
      },
      "outputs": [],
      "source": []
    },
    {
      "cell_type": "code",
      "execution_count": null,
      "id": "5a032d6f-9b57-411d-aefe-296be7e8368a",
      "metadata": {
        "id": "5a032d6f-9b57-411d-aefe-296be7e8368a"
      },
      "outputs": [],
      "source": []
    },
    {
      "cell_type": "code",
      "execution_count": null,
      "id": "8d714fd3-25e8-4233-adef-0be2daa72f06",
      "metadata": {
        "id": "8d714fd3-25e8-4233-adef-0be2daa72f06"
      },
      "outputs": [],
      "source": []
    },
    {
      "cell_type": "code",
      "execution_count": null,
      "id": "d64cc393-2f67-42f6-8455-b3e76bcf1d41",
      "metadata": {
        "id": "d64cc393-2f67-42f6-8455-b3e76bcf1d41"
      },
      "outputs": [],
      "source": []
    },
    {
      "cell_type": "code",
      "execution_count": null,
      "id": "26dde384-efbc-4470-80f8-300465b57971",
      "metadata": {
        "id": "26dde384-efbc-4470-80f8-300465b57971"
      },
      "outputs": [],
      "source": []
    },
    {
      "cell_type": "code",
      "execution_count": null,
      "id": "687b7285-b6c3-4270-94fc-52e892da0f5a",
      "metadata": {
        "id": "687b7285-b6c3-4270-94fc-52e892da0f5a"
      },
      "outputs": [],
      "source": []
    },
    {
      "cell_type": "code",
      "execution_count": null,
      "id": "ffdd308e-de00-44e6-8c90-b2c196a61a97",
      "metadata": {
        "id": "ffdd308e-de00-44e6-8c90-b2c196a61a97"
      },
      "outputs": [],
      "source": []
    },
    {
      "cell_type": "code",
      "execution_count": null,
      "id": "a5937bba-2d44-4c5d-b1d5-eca02d7a90a7",
      "metadata": {
        "id": "a5937bba-2d44-4c5d-b1d5-eca02d7a90a7"
      },
      "outputs": [],
      "source": []
    },
    {
      "cell_type": "code",
      "execution_count": null,
      "id": "96024c26-cc70-4d98-82d8-7a9115a6aa9a",
      "metadata": {
        "id": "96024c26-cc70-4d98-82d8-7a9115a6aa9a"
      },
      "outputs": [],
      "source": []
    },
    {
      "cell_type": "code",
      "execution_count": null,
      "id": "4df52c1b",
      "metadata": {
        "id": "4df52c1b"
      },
      "outputs": [],
      "source": [
        "s=square(5)"
      ]
    },
    {
      "cell_type": "code",
      "execution_count": null,
      "id": "09640cbf",
      "metadata": {
        "scrolled": true,
        "id": "09640cbf",
        "outputId": "ac6f4452-2e75-4371-d213-89208c722094"
      },
      "outputs": [
        {
          "name": "stdout",
          "output_type": "stream",
          "text": [
            "25\n",
            "20\n"
          ]
        }
      ],
      "source": [
        "print(s.area())\n",
        "print(s.perimeter())"
      ]
    },
    {
      "cell_type": "code",
      "execution_count": null,
      "id": "158ff8b3",
      "metadata": {
        "id": "158ff8b3"
      },
      "outputs": [],
      "source": [
        "# so we have to stop making the object of parent class becuase we are using the properites of parent class by making the object of child class"
      ]
    },
    {
      "cell_type": "code",
      "execution_count": null,
      "id": "da931a65",
      "metadata": {
        "id": "da931a65"
      },
      "outputs": [],
      "source": [
        "basics\n",
        "operators\n",
        "if else\n",
        "for loop, nested for loop (imp)\n",
        "str, list(imp)\n",
        "lambda (optional)"
      ]
    }
  ],
  "metadata": {
    "kernelspec": {
      "display_name": "Python 3 (ipykernel)",
      "language": "python",
      "name": "python3"
    },
    "language_info": {
      "codemirror_mode": {
        "name": "ipython",
        "version": 3
      },
      "file_extension": ".py",
      "mimetype": "text/x-python",
      "name": "python",
      "nbconvert_exporter": "python",
      "pygments_lexer": "ipython3",
      "version": "3.12.9"
    },
    "colab": {
      "provenance": []
    }
  },
  "nbformat": 4,
  "nbformat_minor": 5
}